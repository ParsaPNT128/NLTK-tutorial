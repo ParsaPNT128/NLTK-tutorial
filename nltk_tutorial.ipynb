{
  "cells": [
    {
      "cell_type": "markdown",
      "metadata": {
        "id": "view-in-github",
        "colab_type": "text"
      },
      "source": [
        "<a href=\"https://colab.research.google.com/github/ParsaPNT128/NLTK-tutorial/blob/main/nltk_tutorial.ipynb\" target=\"_parent\"><img src=\"https://colab.research.google.com/assets/colab-badge.svg\" alt=\"Open In Colab\"/></a>"
      ]
    },
    {
      "cell_type": "markdown",
      "metadata": {
        "id": "mx4OvzG570uO"
      },
      "source": [
        "# **What is NLTK?**\n",
        "NLTK (Natural Language Toolkit) is a powerful Python library for natural language processing (NLP). It provides easy-to-use interfaces to over 50 corpora and lexical resources such as WordNet, along with a suite of text processing libraries for tasks such as tokenization, stemming, tagging, parsing, and classification. It's widely used both in academia and industry for tasks ranging from simple text analysis to more complex natural language understanding and generation tasks.\n",
        "\n",
        "reference: https://www.nltk.org/index.html"
      ]
    },
    {
      "cell_type": "markdown",
      "source": [
        "Use the command below in cmd in order to install nltk\n",
        "\n",
        "`pip install nltk`"
      ],
      "metadata": {
        "id": "HUnqHUFgUUOC"
      }
    },
    {
      "cell_type": "markdown",
      "source": [
        "Import NLTK to your app using:\n",
        "\n",
        "`import nltk`"
      ],
      "metadata": {
        "id": "A5FJCeFJUhCq"
      }
    },
    {
      "cell_type": "code",
      "source": [
        "import nltk"
      ],
      "metadata": {
        "id": "pnFPa9T5m7pk"
      },
      "execution_count": null,
      "outputs": []
    },
    {
      "cell_type": "markdown",
      "source": [
        "## **1. Introduction**\n",
        "In Natural Language Processing (NLP), strings and regular expressions (regex) play crucial roles in various tasks, especially when working with libraries like NLTK (Natural Language Toolkit).\n",
        "\n",
        "In this section, we will review strings and regular expressions."
      ],
      "metadata": {
        "id": "dz53avFWQwQy"
      }
    },
    {
      "cell_type": "markdown",
      "metadata": {
        "id": "DAYoa2RvPJst"
      },
      "source": [
        "### **1.1. Strings**\n",
        "Strings are collection of words, alphabets and other characters. They are surrounded by either single quotation marks, double quotation marks, or even triple quotation marks e.g:\n",
        "```\n",
        "string1 = 'hello'\n",
        "string2 = \"hello\"\n",
        "string3 = ''' triple\n",
        "quotation\n",
        "marks\n",
        "'''\n",
        "```\n",
        "Strings have their own built-in functions that can make changes on them. Most of this functions are shown below.\n",
        "\n",
        "reference: https://www.w3schools.com/python/python_strings.asp"
      ]
    },
    {
      "cell_type": "code",
      "execution_count": null,
      "metadata": {
        "id": "wwU4Y5hZSdO6"
      },
      "outputs": [],
      "source": [
        "text = \"I can only comment on the vermicelli bowls because I have never had the Pho. The vermicelli are a decent size and a fair price. Conveniently located if you live in the Alberta Ave neighbourhood, my orders have always been ready in 15 minutes - even on a Friday night.\""
      ]
    },
    {
      "cell_type": "code",
      "execution_count": null,
      "metadata": {
        "id": "033TunNyTAlU",
        "outputId": "3efb3ab3-4c2b-4512-e8bd-7f5c63f830c8",
        "colab": {
          "base_uri": "https://localhost:8080/"
        }
      },
      "outputs": [
        {
          "output_type": "execute_result",
          "data": {
            "text/plain": [
              "'I can only comment on the vermicelli bowls because I have never had the Pho. The vermicelli are a decent size and a fair price. Conveniently located if you live in the Alberta Ave neighbourhood, my orders have always been ready in 15 minutes - even on a Friday night.'"
            ],
            "application/vnd.google.colaboratory.intrinsic+json": {
              "type": "string"
            }
          },
          "metadata": {},
          "execution_count": 147
        }
      ],
      "source": [
        "text"
      ]
    },
    {
      "cell_type": "code",
      "execution_count": null,
      "metadata": {
        "id": "ZbTRSWOwTGTO",
        "outputId": "53a7e594-bb3f-4266-8c3d-e889b6025095",
        "colab": {
          "base_uri": "https://localhost:8080/"
        }
      },
      "outputs": [
        {
          "output_type": "execute_result",
          "data": {
            "text/plain": [
              "'I'"
            ],
            "application/vnd.google.colaboratory.intrinsic+json": {
              "type": "string"
            }
          },
          "metadata": {},
          "execution_count": 148
        }
      ],
      "source": [
        "# Displays the first index (element) of the text\n",
        "text[0]"
      ]
    },
    {
      "cell_type": "code",
      "execution_count": null,
      "metadata": {
        "id": "l8_R0Y4pTI5K",
        "outputId": "5cb74886-1266-4aec-c8ac-9ebca2dada6b",
        "colab": {
          "base_uri": "https://localhost:8080/"
        }
      },
      "outputs": [
        {
          "output_type": "execute_result",
          "data": {
            "text/plain": [
              "'I can only'"
            ],
            "application/vnd.google.colaboratory.intrinsic+json": {
              "type": "string"
            }
          },
          "metadata": {},
          "execution_count": 149
        }
      ],
      "source": [
        "# Displays the first 10 indexes of a text ( indexes from 0 to 10 )\n",
        "text[0:10]"
      ]
    },
    {
      "cell_type": "code",
      "execution_count": null,
      "metadata": {
        "id": "G-omH0C7TVjB",
        "outputId": "68594d90-3fde-4e03-aecd-8276be8caf95",
        "colab": {
          "base_uri": "https://localhost:8080/"
        }
      },
      "outputs": [
        {
          "output_type": "execute_result",
          "data": {
            "text/plain": [
              "'an only com'"
            ],
            "application/vnd.google.colaboratory.intrinsic+json": {
              "type": "string"
            }
          },
          "metadata": {},
          "execution_count": 150
        }
      ],
      "source": [
        "# Displays the indexes from 3 to 14\n",
        "text[3:14]"
      ]
    },
    {
      "cell_type": "code",
      "execution_count": null,
      "metadata": {
        "id": "4A4M5RBvTL8L",
        "outputId": "ec1395d6-b716-4fdf-c3fa-8fa63274490e",
        "colab": {
          "base_uri": "https://localhost:8080/"
        }
      },
      "outputs": [
        {
          "output_type": "execute_result",
          "data": {
            "text/plain": [
              "267"
            ]
          },
          "metadata": {},
          "execution_count": 151
        }
      ],
      "source": [
        "# Displays the length of a list\n",
        "len(text)"
      ]
    },
    {
      "cell_type": "code",
      "execution_count": null,
      "metadata": {
        "id": "DtB-zp3QTqsN",
        "outputId": "08e9a9ca-c2f8-4db6-882f-9c722f24f5ef",
        "colab": {
          "base_uri": "https://localhost:8080/"
        }
      },
      "outputs": [
        {
          "output_type": "execute_result",
          "data": {
            "text/plain": [
              "11"
            ]
          },
          "metadata": {},
          "execution_count": 152
        }
      ],
      "source": [
        "# Locates the position of the first letter of the word given\n",
        "query = text.find(\"comment\")\n",
        "query"
      ]
    },
    {
      "cell_type": "code",
      "execution_count": null,
      "metadata": {
        "id": "H0iYDVQLT6Nz",
        "outputId": "033d3121-78b5-46c5-a660-513e7dd2a8ad",
        "colab": {
          "base_uri": "https://localhost:8080/"
        }
      },
      "outputs": [
        {
          "output_type": "execute_result",
          "data": {
            "text/plain": [
              "6"
            ]
          },
          "metadata": {},
          "execution_count": 153
        }
      ],
      "source": [
        "# Locates the position of the letter \"o\"\n",
        "query = text.find(\"o\")\n",
        "query"
      ]
    },
    {
      "cell_type": "code",
      "execution_count": null,
      "metadata": {
        "id": "Pds1c8tST971",
        "outputId": "04a82f08-7ba2-4c3c-b972-017c511be634",
        "colab": {
          "base_uri": "https://localhost:8080/"
        }
      },
      "outputs": [
        {
          "output_type": "execute_result",
          "data": {
            "text/plain": [
              "12"
            ]
          },
          "metadata": {},
          "execution_count": 154
        }
      ],
      "source": [
        "# Locates the position of the letter \"o\" from index 10 to 20\n",
        "query = text.find(\"o\", 10, 20)\n",
        "query"
      ]
    },
    {
      "cell_type": "code",
      "execution_count": null,
      "metadata": {
        "id": "JDmCBVSAUIM3",
        "outputId": "c6971d85-1111-465f-cf71-7e6b408b62c4",
        "colab": {
          "base_uri": "https://localhost:8080/"
        }
      },
      "outputs": [
        {
          "output_type": "execute_result",
          "data": {
            "text/plain": [
              "2"
            ]
          },
          "metadata": {},
          "execution_count": 155
        }
      ],
      "source": [
        "# Counts how many times a word had been used\n",
        "query = text.count(\"have\")\n",
        "query"
      ]
    },
    {
      "cell_type": "code",
      "execution_count": null,
      "metadata": {
        "id": "tdNU_LAPUTwE",
        "outputId": "ec240c9a-9901-4612-e3f3-6601a142857b",
        "colab": {
          "base_uri": "https://localhost:8080/"
        }
      },
      "outputs": [
        {
          "output_type": "execute_result",
          "data": {
            "text/plain": [
              "1"
            ]
          },
          "metadata": {},
          "execution_count": 156
        }
      ],
      "source": [
        "# Counts how many times a word had been used from the indexes 10 to 100\n",
        "query = text.count(\"have\", 10,100)\n",
        "query"
      ]
    },
    {
      "cell_type": "code",
      "execution_count": null,
      "metadata": {
        "id": "2EtT8VzSlLsH",
        "outputId": "bececc21-905c-4ad7-a130-6e38f704201a",
        "colab": {
          "base_uri": "https://localhost:8080/"
        }
      },
      "outputs": [
        {
          "output_type": "execute_result",
          "data": {
            "text/plain": [
              "'Word'"
            ],
            "application/vnd.google.colaboratory.intrinsic+json": {
              "type": "string"
            }
          },
          "metadata": {},
          "execution_count": 157
        }
      ],
      "source": [
        "# Capitalize the word given\n",
        "word = \"word\"\n",
        "query = word.capitalize()\n",
        "query"
      ]
    },
    {
      "cell_type": "code",
      "execution_count": null,
      "metadata": {
        "id": "qNsafR2AnKHI",
        "outputId": "06cc0633-89ca-4166-d855-9c487d361ab3",
        "colab": {
          "base_uri": "https://localhost:8080/"
        }
      },
      "outputs": [
        {
          "output_type": "execute_result",
          "data": {
            "text/plain": [
              "True"
            ]
          },
          "metadata": {},
          "execution_count": 158
        }
      ],
      "source": [
        "# Checks if the input starts with the letter \"I\"\n",
        "query = text.startswith(\"I\")\n",
        "query"
      ]
    },
    {
      "cell_type": "code",
      "execution_count": null,
      "metadata": {
        "id": "UT5j4_2nn7HX",
        "outputId": "586f51bc-a2ed-43e7-bd2a-6f3c59538b2e",
        "colab": {
          "base_uri": "https://localhost:8080/"
        }
      },
      "outputs": [
        {
          "output_type": "execute_result",
          "data": {
            "text/plain": [
              "True"
            ]
          },
          "metadata": {},
          "execution_count": 159
        }
      ],
      "source": [
        "# Checks if the input ends with \".\"\n",
        "query = text.endswith(\".\")\n",
        "query"
      ]
    },
    {
      "cell_type": "code",
      "execution_count": null,
      "metadata": {
        "id": "acEcbO5MoGVH",
        "outputId": "c956311e-d9b3-4434-e514-7b761175c7a8",
        "colab": {
          "base_uri": "https://localhost:8080/"
        }
      },
      "outputs": [
        {
          "output_type": "execute_result",
          "data": {
            "text/plain": [
              "'I CAN ONLY COMMENT ON THE VERMICELLI BOWLS BECAUSE I HAVE NEVER HAD THE PHO. THE VERMICELLI ARE A DECENT SIZE AND A FAIR PRICE. CONVENIENTLY LOCATED IF YOU LIVE IN THE ALBERTA AVE NEIGHBOURHOOD, MY ORDERS HAVE ALWAYS BEEN READY IN 15 MINUTES - EVEN ON A FRIDAY NIGHT.'"
            ],
            "application/vnd.google.colaboratory.intrinsic+json": {
              "type": "string"
            }
          },
          "metadata": {},
          "execution_count": 160
        }
      ],
      "source": [
        "# Makes all the letters uppercased\n",
        "query = text.upper()\n",
        "query"
      ]
    },
    {
      "cell_type": "code",
      "execution_count": null,
      "metadata": {
        "id": "JxoL5mYzornw",
        "outputId": "0c5920a3-fe7e-4d35-8532-9247d2f958d1",
        "colab": {
          "base_uri": "https://localhost:8080/"
        }
      },
      "outputs": [
        {
          "output_type": "execute_result",
          "data": {
            "text/plain": [
              "'i can only comment on the vermicelli bowls because i have never had the pho. the vermicelli are a decent size and a fair price. conveniently located if you live in the alberta ave neighbourhood, my orders have always been ready in 15 minutes - even on a friday night.'"
            ],
            "application/vnd.google.colaboratory.intrinsic+json": {
              "type": "string"
            }
          },
          "metadata": {},
          "execution_count": 161
        }
      ],
      "source": [
        "# Makes all the letters lowercased\n",
        "query = text.lower()\n",
        "query"
      ]
    },
    {
      "cell_type": "code",
      "execution_count": null,
      "metadata": {
        "id": "-zcQKvttrAiR",
        "outputId": "c980525b-49ce-4487-ab1a-a7d89fdf8d6c",
        "colab": {
          "base_uri": "https://localhost:8080/"
        }
      },
      "outputs": [
        {
          "output_type": "execute_result",
          "data": {
            "text/plain": [
              "'You can only comment on the vermicelli bowls because You have never had the Pho. The vermicelli are a decent size and a fair price. Conveniently located if you live in the Alberta Ave neighbourhood, my orders have always been ready in 15 minutes - even on a Friday night.'"
            ],
            "application/vnd.google.colaboratory.intrinsic+json": {
              "type": "string"
            }
          },
          "metadata": {},
          "execution_count": 162
        }
      ],
      "source": [
        "# Replaces the first input with the second one\n",
        "query = text.replace(\"I\", \"You\")\n",
        "query"
      ]
    },
    {
      "cell_type": "code",
      "execution_count": null,
      "metadata": {
        "id": "z2F-dFw2sdqs",
        "outputId": "7a797829-4d83-48b7-aaae-6c3330357814",
        "colab": {
          "base_uri": "https://localhost:8080/"
        }
      },
      "outputs": [
        {
          "output_type": "execute_result",
          "data": {
            "text/plain": [
              "['I',\n",
              " 'can',\n",
              " 'only',\n",
              " 'comment',\n",
              " 'on',\n",
              " 'the',\n",
              " 'vermicelli',\n",
              " 'bowls',\n",
              " 'because',\n",
              " 'I',\n",
              " 'have',\n",
              " 'never',\n",
              " 'had',\n",
              " 'the',\n",
              " 'Pho.',\n",
              " 'The',\n",
              " 'vermicelli',\n",
              " 'are',\n",
              " 'a',\n",
              " 'decent',\n",
              " 'size',\n",
              " 'and',\n",
              " 'a',\n",
              " 'fair',\n",
              " 'price.',\n",
              " 'Conveniently',\n",
              " 'located',\n",
              " 'if',\n",
              " 'you',\n",
              " 'live',\n",
              " 'in',\n",
              " 'the',\n",
              " 'Alberta',\n",
              " 'Ave',\n",
              " 'neighbourhood,',\n",
              " 'my',\n",
              " 'orders',\n",
              " 'have',\n",
              " 'always',\n",
              " 'been',\n",
              " 'ready',\n",
              " 'in',\n",
              " '15',\n",
              " 'minutes',\n",
              " '-',\n",
              " 'even',\n",
              " 'on',\n",
              " 'a',\n",
              " 'Friday',\n",
              " 'night.']"
            ]
          },
          "metadata": {},
          "execution_count": 163
        }
      ],
      "source": [
        "# Splits a string based on the input given and returns a list ( the default input is space )\n",
        "query = text.split()\n",
        "query"
      ]
    },
    {
      "cell_type": "code",
      "execution_count": null,
      "metadata": {
        "id": "YaQIt7KK3Q9K",
        "outputId": "d0b1e49f-d569-438e-b41a-fa628074f647",
        "colab": {
          "base_uri": "https://localhost:8080/"
        }
      },
      "outputs": [
        {
          "output_type": "execute_result",
          "data": {
            "text/plain": [
              "'word'"
            ],
            "application/vnd.google.colaboratory.intrinsic+json": {
              "type": "string"
            }
          },
          "metadata": {},
          "execution_count": 164
        }
      ],
      "source": [
        "# Removes the extra whitespaces from the start and from the end\n",
        "word = \"  word  \"\n",
        "query = word.strip()\n",
        "query"
      ]
    },
    {
      "cell_type": "code",
      "source": [
        "# Capitalizes all the words in a string\n",
        "query = text.title()\n",
        "query"
      ],
      "metadata": {
        "id": "y9_sueCSWsyo",
        "outputId": "672e1e27-96a1-488e-9b3a-2aa8d9c665aa",
        "colab": {
          "base_uri": "https://localhost:8080/"
        }
      },
      "execution_count": null,
      "outputs": [
        {
          "output_type": "execute_result",
          "data": {
            "text/plain": [
              "'I Can Only Comment On The Vermicelli Bowls Because I Have Never Had The Pho. The Vermicelli Are A Decent Size And A Fair Price. Conveniently Located If You Live In The Alberta Ave Neighbourhood, My Orders Have Always Been Ready In 15 Minutes - Even On A Friday Night.'"
            ],
            "application/vnd.google.colaboratory.intrinsic+json": {
              "type": "string"
            }
          },
          "metadata": {},
          "execution_count": 165
        }
      ]
    },
    {
      "cell_type": "markdown",
      "metadata": {
        "id": "aQr5kV3lXBEO"
      },
      "source": [
        "reference: https://www.w3schools.com/python/python_strings.asp"
      ]
    },
    {
      "cell_type": "markdown",
      "source": [
        "### **1.2. Regular Expressions (RegEx)**\n",
        "Regular Expressions ( Also known as regex ) is a sequence of characters that forms a search pattern. This pattern can be used by several methods in order to search or check if a string contains the specified search pattern.\n",
        "\n",
        "Use to following command in the command prompt to install the module:\n",
        "\n",
        "```\n",
        "pip install regex\n",
        "```\n",
        "Then import it to your program using:\n",
        "\n",
        "```\n",
        "import re\n",
        "```\n",
        "reference: https://www.w3schools.com/python/python_regex.asp"
      ],
      "metadata": {
        "id": "QM1EzZ7TVYmK"
      }
    },
    {
      "cell_type": "code",
      "source": [
        "import re"
      ],
      "metadata": {
        "id": "CHoLLfgRWlrE"
      },
      "execution_count": null,
      "outputs": []
    },
    {
      "cell_type": "code",
      "source": [
        "text2 = \"The rain in Spain\""
      ],
      "metadata": {
        "id": "MaD-1wjHeCkc"
      },
      "execution_count": null,
      "outputs": []
    },
    {
      "cell_type": "code",
      "source": [
        "# findall function returns a list containing all matches\n",
        "# the following command returns a list of all the times that \"ai\" is used\n",
        "query = re.findall(\"ai\", text2)\n",
        "query"
      ],
      "metadata": {
        "id": "Qvw3_pM6bRD1",
        "outputId": "245dd541-6131-42f4-9174-4e05173be205",
        "colab": {
          "base_uri": "https://localhost:8080/"
        }
      },
      "execution_count": null,
      "outputs": [
        {
          "output_type": "execute_result",
          "data": {
            "text/plain": [
              "['ai', 'ai']"
            ]
          },
          "metadata": {},
          "execution_count": 168
        }
      ]
    },
    {
      "cell_type": "code",
      "source": [
        "# search function checks if there is a match with pattern\n",
        "# the following command returns if the text is satrted with \"The\" and ended with \"Spain\"\n",
        "query = re.search(\"^The.*Spain$\", text2)\n",
        "query"
      ],
      "metadata": {
        "id": "PfgE7PCPeQ2Q",
        "outputId": "6d6fca6f-ef2e-4258-c45e-dfaeb1a03528",
        "colab": {
          "base_uri": "https://localhost:8080/"
        }
      },
      "execution_count": null,
      "outputs": [
        {
          "output_type": "execute_result",
          "data": {
            "text/plain": [
              "<re.Match object; span=(0, 17), match='The rain in Spain'>"
            ]
          },
          "metadata": {},
          "execution_count": 169
        }
      ]
    },
    {
      "cell_type": "code",
      "source": [
        "# split function is similar to the split function in strings but this time it uses a search pattern\n",
        "# the following commamd returns a list of strings splited by the characters from a to f\n",
        "query = re.split(\"[a-f]\", text2)\n",
        "query"
      ],
      "metadata": {
        "id": "aFljrimve3zB",
        "outputId": "c5310948-1374-4173-a437-80719402585c",
        "colab": {
          "base_uri": "https://localhost:8080/"
        }
      },
      "execution_count": null,
      "outputs": [
        {
          "output_type": "execute_result",
          "data": {
            "text/plain": [
              "['Th', ' r', 'in in Sp', 'in']"
            ]
          },
          "metadata": {},
          "execution_count": 170
        }
      ]
    },
    {
      "cell_type": "code",
      "source": [
        "# sub function is also similar to replace function in string but it uses a search pattern\n",
        "# the following command replaces all the whitespaces with |\n",
        "query = re.sub(\"\\s\", \"|\", text2)\n",
        "query"
      ],
      "metadata": {
        "id": "R-ZgY5LOfyQ7",
        "outputId": "cf79550e-2b02-4197-c2fa-53f810175d95",
        "colab": {
          "base_uri": "https://localhost:8080/"
        }
      },
      "execution_count": null,
      "outputs": [
        {
          "output_type": "execute_result",
          "data": {
            "text/plain": [
              "'The|rain|in|Spain'"
            ],
            "application/vnd.google.colaboratory.intrinsic+json": {
              "type": "string"
            }
          },
          "metadata": {},
          "execution_count": 171
        }
      ]
    },
    {
      "cell_type": "markdown",
      "source": [
        "For more metacharacters and sequences visit this link: https://www.w3schools.com/python/python_regex.asp"
      ],
      "metadata": {
        "id": "M8eXezVGmPby"
      }
    },
    {
      "cell_type": "markdown",
      "metadata": {
        "id": "hDxVzV1jU4nX"
      },
      "source": [
        "## **2. Tokenization**\n",
        "Tokenizers divide strings into lists of substrings. They can be used to break a large text body down to sentences, groups of words, single words or even just groups of characters or subwords. Tokenization is a common step used to help prepare language data for further use. There are several ways and methods available to tokenize data.\n",
        "\n",
        "For more information, read this [link](https://medium.com/@ajay_khanna/tokenization-techniques-in-natural-language-processing-67bb22088c75).\n",
        "\n",
        "reference: https://medium.com/@kelsklane/tokenization-with-nltk-52cd7b88c7d"
      ]
    },
    {
      "cell_type": "code",
      "execution_count": null,
      "metadata": {
        "colab": {
          "base_uri": "https://localhost:8080/"
        },
        "id": "pLXmCspBV1yh",
        "outputId": "103b69e0-f98c-486d-a1a8-0c20eda4dea8"
      },
      "outputs": [
        {
          "output_type": "stream",
          "name": "stderr",
          "text": [
            "[nltk_data] Downloading package punkt to /root/nltk_data...\n",
            "[nltk_data]   Package punkt is already up-to-date!\n"
          ]
        },
        {
          "output_type": "execute_result",
          "data": {
            "text/plain": [
              "True"
            ]
          },
          "metadata": {},
          "execution_count": 172
        }
      ],
      "source": [
        "# Downloads the Punkt sentence tokenization models\n",
        "nltk.download('punkt')"
      ]
    },
    {
      "cell_type": "code",
      "execution_count": null,
      "metadata": {
        "id": "oJaYgXWbVQQU"
      },
      "outputs": [],
      "source": [
        "# Imports the tokenizer functions needed\n",
        "from nltk.tokenize import sent_tokenize, word_tokenize, wordpunct_tokenize, WhitespaceTokenizer, regexp_tokenize"
      ]
    },
    {
      "cell_type": "code",
      "execution_count": null,
      "metadata": {
        "colab": {
          "base_uri": "https://localhost:8080/"
        },
        "id": "JstDiOaJVt3E",
        "outputId": "cfbe15c2-18c7-401a-9c5a-d24547313fe8"
      },
      "outputs": [
        {
          "output_type": "execute_result",
          "data": {
            "text/plain": [
              "['I can only comment on the vermicelli bowls because I have never had the Pho.',\n",
              " 'The vermicelli are a decent size and a fair price.',\n",
              " 'Conveniently located if you live in the Alberta Ave neighbourhood, my orders have always been ready in 15 minutes - even on a Friday night.']"
            ]
          },
          "metadata": {},
          "execution_count": 174
        }
      ],
      "source": [
        "# Tokenizes a string by sentences\n",
        "sent_tokenize(text)"
      ]
    },
    {
      "cell_type": "code",
      "execution_count": null,
      "metadata": {
        "colab": {
          "base_uri": "https://localhost:8080/"
        },
        "id": "_Wd0ke71V6yn",
        "outputId": "50bbaa40-26dd-43b5-bfd5-b8a3b12f904d"
      },
      "outputs": [
        {
          "output_type": "execute_result",
          "data": {
            "text/plain": [
              "['I',\n",
              " 'can',\n",
              " 'only',\n",
              " 'comment',\n",
              " 'on',\n",
              " 'the',\n",
              " 'vermicelli',\n",
              " 'bowls',\n",
              " 'because',\n",
              " 'I',\n",
              " 'have',\n",
              " 'never',\n",
              " 'had',\n",
              " 'the',\n",
              " 'Pho',\n",
              " '.',\n",
              " 'The',\n",
              " 'vermicelli',\n",
              " 'are',\n",
              " 'a',\n",
              " 'decent',\n",
              " 'size',\n",
              " 'and',\n",
              " 'a',\n",
              " 'fair',\n",
              " 'price',\n",
              " '.',\n",
              " 'Conveniently',\n",
              " 'located',\n",
              " 'if',\n",
              " 'you',\n",
              " 'live',\n",
              " 'in',\n",
              " 'the',\n",
              " 'Alberta',\n",
              " 'Ave',\n",
              " 'neighbourhood',\n",
              " ',',\n",
              " 'my',\n",
              " 'orders',\n",
              " 'have',\n",
              " 'always',\n",
              " 'been',\n",
              " 'ready',\n",
              " 'in',\n",
              " '15',\n",
              " 'minutes',\n",
              " '-',\n",
              " 'even',\n",
              " 'on',\n",
              " 'a',\n",
              " 'Friday',\n",
              " 'night',\n",
              " '.']"
            ]
          },
          "metadata": {},
          "execution_count": 175
        }
      ],
      "source": [
        "# Tokenizes a string by words\n",
        "word_tokenize(text)"
      ]
    },
    {
      "cell_type": "code",
      "execution_count": null,
      "metadata": {
        "colab": {
          "base_uri": "https://localhost:8080/"
        },
        "id": "vZge8w8i8ujy",
        "outputId": "db37a962-ce12-4443-968c-7b1587fb9821"
      },
      "outputs": [
        {
          "output_type": "execute_result",
          "data": {
            "text/plain": [
              "['I',\n",
              " 'can',\n",
              " 'only',\n",
              " 'comment',\n",
              " 'on',\n",
              " 'the',\n",
              " 'vermicelli',\n",
              " 'bowls',\n",
              " 'because',\n",
              " 'I',\n",
              " 'have',\n",
              " 'never',\n",
              " 'had',\n",
              " 'the',\n",
              " 'Pho',\n",
              " '.',\n",
              " 'The',\n",
              " 'vermicelli',\n",
              " 'are',\n",
              " 'a',\n",
              " 'decent',\n",
              " 'size',\n",
              " 'and',\n",
              " 'a',\n",
              " 'fair',\n",
              " 'price',\n",
              " '.',\n",
              " 'Conveniently',\n",
              " 'located',\n",
              " 'if',\n",
              " 'you',\n",
              " 'live',\n",
              " 'in',\n",
              " 'the',\n",
              " 'Alberta',\n",
              " 'Ave',\n",
              " 'neighbourhood',\n",
              " ',',\n",
              " 'my',\n",
              " 'orders',\n",
              " 'have',\n",
              " 'always',\n",
              " 'been',\n",
              " 'ready',\n",
              " 'in',\n",
              " '15',\n",
              " 'minutes',\n",
              " '-',\n",
              " 'even',\n",
              " 'on',\n",
              " 'a',\n",
              " 'Friday',\n",
              " 'night',\n",
              " '.']"
            ]
          },
          "metadata": {},
          "execution_count": 176
        }
      ],
      "source": [
        "# Tokenizes a string by words and panctuations\n",
        "wordpunct_tokenize(text)"
      ]
    },
    {
      "cell_type": "code",
      "execution_count": null,
      "metadata": {
        "colab": {
          "base_uri": "https://localhost:8080/"
        },
        "id": "8mWnGFrd8wxK",
        "outputId": "08e74010-48d0-4af2-f9c4-ba8d43348919"
      },
      "outputs": [
        {
          "output_type": "execute_result",
          "data": {
            "text/plain": [
              "['I',\n",
              " 'can',\n",
              " 'only',\n",
              " 'comment',\n",
              " 'on',\n",
              " 'the',\n",
              " 'vermicelli',\n",
              " 'bowls',\n",
              " 'because',\n",
              " 'I',\n",
              " 'have',\n",
              " 'never',\n",
              " 'had',\n",
              " 'the',\n",
              " 'Pho.',\n",
              " 'The',\n",
              " 'vermicelli',\n",
              " 'are',\n",
              " 'a',\n",
              " 'decent',\n",
              " 'size',\n",
              " 'and',\n",
              " 'a',\n",
              " 'fair',\n",
              " 'price.',\n",
              " 'Conveniently',\n",
              " 'located',\n",
              " 'if',\n",
              " 'you',\n",
              " 'live',\n",
              " 'in',\n",
              " 'the',\n",
              " 'Alberta',\n",
              " 'Ave',\n",
              " 'neighbourhood,',\n",
              " 'my',\n",
              " 'orders',\n",
              " 'have',\n",
              " 'always',\n",
              " 'been',\n",
              " 'ready',\n",
              " 'in',\n",
              " '15',\n",
              " 'minutes',\n",
              " '-',\n",
              " 'even',\n",
              " 'on',\n",
              " 'a',\n",
              " 'Friday',\n",
              " 'night.']"
            ]
          },
          "metadata": {},
          "execution_count": 177
        }
      ],
      "source": [
        "# Tokenizes a string by whitespace ( space, tab, newline )\n",
        "WhitespaceTokenizer().tokenize(text)"
      ]
    },
    {
      "cell_type": "code",
      "source": [
        "# Tokenizes a string by using regex inputs ( in this case it tokenizes the words that are capitalized )\n",
        "regexp_tokenize(text, '[A-Z]\\w+')"
      ],
      "metadata": {
        "colab": {
          "base_uri": "https://localhost:8080/"
        },
        "id": "prsT1uZUhSWx",
        "outputId": "4fe29cbf-e19c-4316-fd22-2f7571a19e8b"
      },
      "execution_count": null,
      "outputs": [
        {
          "output_type": "execute_result",
          "data": {
            "text/plain": [
              "['Pho', 'The', 'Conveniently', 'Alberta', 'Ave', 'Friday']"
            ]
          },
          "metadata": {},
          "execution_count": 178
        }
      ]
    },
    {
      "cell_type": "markdown",
      "metadata": {
        "id": "H7wCGsosWdH-"
      },
      "source": [
        "reference: https://www.nltk.org/api/nltk.tokenize.html"
      ]
    },
    {
      "cell_type": "markdown",
      "source": [
        "## **3. Stemming and Lematization**\n",
        "**Lemmatization** and **Stemming**, both are used to generate root form of derived (inflected) words. However, lemma is an actual language word, whereas stem may not be an actual word. Here are some examples:"
      ],
      "metadata": {
        "id": "EUJmiokQTUmZ"
      }
    },
    {
      "cell_type": "markdown",
      "source": [
        "![stemmin_lemm_ex-1.png](data:image/png;base64,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)"
      ],
      "metadata": {
        "id": "Y33fG_F7VtYo"
      }
    },
    {
      "cell_type": "markdown",
      "source": [
        "**Stemming** is the process of reducing infected words to their stem. It removes the last few characters of a given word, to obtain a shorter form, even if that form doesn’t have any meaning."
      ],
      "metadata": {
        "id": "JjBq5VpZTz1p"
      }
    },
    {
      "cell_type": "code",
      "source": [
        "import nltk\n",
        "from nltk.stem import PorterStemmer\n",
        "nltk.download(\"punkt\")\n",
        "\n",
        "# Initialize Python porter stemmer\n",
        "ps = PorterStemmer()\n",
        "\n",
        "# Example inflections to reduce\n",
        "example_words = [\"change\",\"changing\",\"changes\",\"changed\"]\n",
        "\n",
        "for i in example_words:\n",
        "  print(f\"{i} -> {ps.stem(i)}\")"
      ],
      "metadata": {
        "colab": {
          "base_uri": "https://localhost:8080/"
        },
        "id": "58nOUZnaWspR",
        "outputId": "aa163aeb-305a-4208-c6dc-21e1d35df44e"
      },
      "execution_count": null,
      "outputs": [
        {
          "output_type": "stream",
          "name": "stdout",
          "text": [
            "change -> chang\n",
            "changing -> chang\n",
            "changes -> chang\n",
            "changed -> chang\n"
          ]
        },
        {
          "output_type": "stream",
          "name": "stderr",
          "text": [
            "[nltk_data] Downloading package punkt to /root/nltk_data...\n",
            "[nltk_data]   Package punkt is already up-to-date!\n"
          ]
        }
      ]
    },
    {
      "cell_type": "markdown",
      "source": [
        "**Lemmatization**, unlike stemming that removes common suffixes from the end of word tokens, ensures the output word is an existing normalized form of the word (for example, lemma) that can be found in the dictionary."
      ],
      "metadata": {
        "id": "vzHjoEY0Xwdf"
      }
    },
    {
      "cell_type": "code",
      "source": [
        "from nltk.stem import WordNetLemmatizer\n",
        "nltk.download(\"wordnet\")\n",
        "nltk.download(\"omw-1.4\")\n",
        "\n",
        "# Initialize wordnet lemmatizer\n",
        "wnl = WordNetLemmatizer()\n",
        "\n",
        "# Example inflections to reduce\n",
        "example_words = [\"change\",\"changing\",\"changes\",\"changed\"]\n",
        "\n",
        "for i in example_words:\n",
        "  print(f\"{i} -> {wnl.lemmatize(i)}\")"
      ],
      "metadata": {
        "colab": {
          "base_uri": "https://localhost:8080/"
        },
        "id": "QiYsPrkyXzQo",
        "outputId": "2fc0660c-dc20-460a-b2c0-7e34c03a1c72"
      },
      "execution_count": null,
      "outputs": [
        {
          "output_type": "stream",
          "name": "stdout",
          "text": [
            "change -> change\n",
            "changing -> changing\n",
            "changes -> change\n",
            "changed -> changed\n"
          ]
        },
        {
          "output_type": "stream",
          "name": "stderr",
          "text": [
            "[nltk_data] Downloading package wordnet to /root/nltk_data...\n",
            "[nltk_data]   Package wordnet is already up-to-date!\n",
            "[nltk_data] Downloading package omw-1.4 to /root/nltk_data...\n",
            "[nltk_data]   Package omw-1.4 is already up-to-date!\n"
          ]
        }
      ]
    },
    {
      "cell_type": "markdown",
      "source": [
        "## **4. Wordnet**\n",
        "WordNet is a large lexical database of English. Nouns, verbs, adjectives and adverbs are grouped into sets of cognitive synonyms (synsets), each expressing a distinct concept. Synsets are interlinked by means of conceptual-semantic and lexical relations."
      ],
      "metadata": {
        "id": "qtmbQOyAbYrx"
      }
    },
    {
      "cell_type": "code",
      "source": [
        "from nltk.corpus import wordnet"
      ],
      "metadata": {
        "id": "j846Y35FbbOY"
      },
      "execution_count": null,
      "outputs": []
    },
    {
      "cell_type": "code",
      "source": [
        "nltk.download('wordnet')"
      ],
      "metadata": {
        "colab": {
          "base_uri": "https://localhost:8080/"
        },
        "id": "ZI-ReRYBdSi-",
        "outputId": "62177afd-832e-488c-9311-287b0d6d1988"
      },
      "execution_count": null,
      "outputs": [
        {
          "output_type": "stream",
          "name": "stderr",
          "text": [
            "[nltk_data] Downloading package wordnet to /root/nltk_data...\n",
            "[nltk_data]   Package wordnet is already up-to-date!\n"
          ]
        },
        {
          "output_type": "execute_result",
          "data": {
            "text/plain": [
              "True"
            ]
          },
          "metadata": {},
          "execution_count": 182
        }
      ]
    },
    {
      "cell_type": "markdown",
      "source": [
        "**Synset Retrieval:** Retrieve synsets for a given word."
      ],
      "metadata": {
        "id": "xB4QLAUTgjRQ"
      }
    },
    {
      "cell_type": "code",
      "source": [
        "word = \"book\"\n",
        "\n",
        "# Displays synsets for the word\n",
        "synsets = wordnet.synsets(word)\n",
        "\n",
        "# Displays the synsets along with their definitions\n",
        "for synset in synsets:\n",
        "    print(\"Synset:\", synset.name())\n",
        "    print(\"Definition:\", synset.definition())\n",
        "    print(\"Lemma: \", synset.lemmas())\n",
        "    print(\"Part-of-Speech: \", synset.pos())\n",
        "    print()"
      ],
      "metadata": {
        "colab": {
          "base_uri": "https://localhost:8080/"
        },
        "id": "RXdM0LCvglFJ",
        "outputId": "3543151e-cfdd-4979-cd51-14dcbb035465"
      },
      "execution_count": null,
      "outputs": [
        {
          "output_type": "stream",
          "name": "stdout",
          "text": [
            "Synset: book.n.01\n",
            "Definition: a written work or composition that has been published (printed on pages bound together)\n",
            "Lemma:  [Lemma('book.n.01.book')]\n",
            "Part-of-Speech:  n\n",
            "\n",
            "Synset: book.n.02\n",
            "Definition: physical objects consisting of a number of pages bound together\n",
            "Lemma:  [Lemma('book.n.02.book'), Lemma('book.n.02.volume')]\n",
            "Part-of-Speech:  n\n",
            "\n",
            "Synset: record.n.05\n",
            "Definition: a compilation of the known facts regarding something or someone\n",
            "Lemma:  [Lemma('record.n.05.record'), Lemma('record.n.05.record_book'), Lemma('record.n.05.book')]\n",
            "Part-of-Speech:  n\n",
            "\n",
            "Synset: script.n.01\n",
            "Definition: a written version of a play or other dramatic composition; used in preparing for a performance\n",
            "Lemma:  [Lemma('script.n.01.script'), Lemma('script.n.01.book'), Lemma('script.n.01.playscript')]\n",
            "Part-of-Speech:  n\n",
            "\n",
            "Synset: ledger.n.01\n",
            "Definition: a record in which commercial accounts are recorded\n",
            "Lemma:  [Lemma('ledger.n.01.ledger'), Lemma('ledger.n.01.leger'), Lemma('ledger.n.01.account_book'), Lemma('ledger.n.01.book_of_account'), Lemma('ledger.n.01.book')]\n",
            "Part-of-Speech:  n\n",
            "\n",
            "Synset: book.n.06\n",
            "Definition: a collection of playing cards satisfying the rules of a card game\n",
            "Lemma:  [Lemma('book.n.06.book')]\n",
            "Part-of-Speech:  n\n",
            "\n",
            "Synset: book.n.07\n",
            "Definition: a collection of rules or prescribed standards on the basis of which decisions are made\n",
            "Lemma:  [Lemma('book.n.07.book'), Lemma('book.n.07.rule_book')]\n",
            "Part-of-Speech:  n\n",
            "\n",
            "Synset: koran.n.01\n",
            "Definition: the sacred writings of Islam revealed by God to the prophet Muhammad during his life at Mecca and Medina\n",
            "Lemma:  [Lemma('koran.n.01.Koran'), Lemma('koran.n.01.Quran'), Lemma('koran.n.01.al-Qur'an'), Lemma('koran.n.01.Book')]\n",
            "Part-of-Speech:  n\n",
            "\n",
            "Synset: bible.n.01\n",
            "Definition: the sacred writings of the Christian religions\n",
            "Lemma:  [Lemma('bible.n.01.Bible'), Lemma('bible.n.01.Christian_Bible'), Lemma('bible.n.01.Book'), Lemma('bible.n.01.Good_Book'), Lemma('bible.n.01.Holy_Scripture'), Lemma('bible.n.01.Holy_Writ'), Lemma('bible.n.01.Scripture'), Lemma('bible.n.01.Word_of_God'), Lemma('bible.n.01.Word')]\n",
            "Part-of-Speech:  n\n",
            "\n",
            "Synset: book.n.10\n",
            "Definition: a major division of a long written composition\n",
            "Lemma:  [Lemma('book.n.10.book')]\n",
            "Part-of-Speech:  n\n",
            "\n",
            "Synset: book.n.11\n",
            "Definition: a number of sheets (ticket or stamps etc.) bound together on one edge\n",
            "Lemma:  [Lemma('book.n.11.book')]\n",
            "Part-of-Speech:  n\n",
            "\n",
            "Synset: book.v.01\n",
            "Definition: engage for a performance\n",
            "Lemma:  [Lemma('book.v.01.book')]\n",
            "Part-of-Speech:  v\n",
            "\n",
            "Synset: reserve.v.04\n",
            "Definition: arrange for and reserve (something for someone else) in advance\n",
            "Lemma:  [Lemma('reserve.v.04.reserve'), Lemma('reserve.v.04.hold'), Lemma('reserve.v.04.book')]\n",
            "Part-of-Speech:  v\n",
            "\n",
            "Synset: book.v.03\n",
            "Definition: record a charge in a police register\n",
            "Lemma:  [Lemma('book.v.03.book')]\n",
            "Part-of-Speech:  v\n",
            "\n",
            "Synset: book.v.04\n",
            "Definition: register in a hotel booker\n",
            "Lemma:  [Lemma('book.v.04.book')]\n",
            "Part-of-Speech:  v\n",
            "\n"
          ]
        }
      ]
    },
    {
      "cell_type": "markdown",
      "source": [
        "**Hypernyms and Hyponyms:** Retrieve hypernyms (more general terms) and hyponyms (more specific terms) for a synset."
      ],
      "metadata": {
        "id": "xXca6913g90h"
      }
    },
    {
      "cell_type": "code",
      "source": [
        "synset = wordnet.synset('good.n.01')\n",
        "hypernyms = synset.hypernyms()\n",
        "for hypernym in hypernyms:\n",
        "    print(\"Hypernym:\", hypernym.name())\n",
        "    print(\"Definition:\", hypernym.definition())"
      ],
      "metadata": {
        "colab": {
          "base_uri": "https://localhost:8080/"
        },
        "id": "cXk0xO6-hDZo",
        "outputId": "b0ac52fa-4135-4f7d-80db-8c6f71553e6d"
      },
      "execution_count": null,
      "outputs": [
        {
          "output_type": "stream",
          "name": "stdout",
          "text": [
            "Hypernym: advantage.n.01\n",
            "Definition: the quality of having a superior or more favorable position\n"
          ]
        }
      ]
    },
    {
      "cell_type": "markdown",
      "source": [
        "**Antonyms:** Retrieve antonyms for a given word."
      ],
      "metadata": {
        "id": "sDdkGvRmiSFA"
      }
    },
    {
      "cell_type": "code",
      "source": [
        "word = \"bad\"\n",
        "antonyms = []\n",
        "for synset in wordnet.synsets(word):\n",
        "    for lemma in synset.lemmas():\n",
        "        if lemma.antonyms():\n",
        "            antonyms.append(lemma.antonyms()[0].name())\n",
        "print(\"Antonyms of\", word, \":\", antonyms)"
      ],
      "metadata": {
        "colab": {
          "base_uri": "https://localhost:8080/"
        },
        "id": "Mx6p4CYPiaHI",
        "outputId": "6656a212-cf9b-491b-9253-66a6988c8bef"
      },
      "execution_count": null,
      "outputs": [
        {
          "output_type": "stream",
          "name": "stdout",
          "text": [
            "Antonyms of bad : ['good', 'goodness', 'good', 'unregretful']\n"
          ]
        }
      ]
    },
    {
      "cell_type": "markdown",
      "source": [
        "**Similarity:** Calculate similarity between two words using path similarity or Wu-Palmer similarity.\n",
        "\n",
        "**Path similarity** calculates the similarity between two synsets based on the shortest path that connects them in the WordNet hierarchy. It measures the length of the path between two synsets and then normalizes it to a value between 0 and 1.\n",
        "\n",
        "**Wu-Palmer similarity** is a similarity measure that takes into account the depth of the two synsets in the WordNet hierarchy along with the shortest path length between them. It is defined as twice the depth of the lowest common subsumer (a concept in WordNet representing the nearest ancestor of two synsets) divided by the sum of the depths of the two synsets."
      ],
      "metadata": {
        "id": "yd9_fn_Kjo_5"
      }
    },
    {
      "cell_type": "code",
      "source": [
        "word1 = \"book\"\n",
        "word2 = \"magazine\"\n",
        "synset1 = wordnet.synset(word1 + '.n.01')\n",
        "synset2 = wordnet.synset(word2 + '.n.01')\n",
        "path_similarity = synset1.path_similarity(synset2)\n",
        "wu_palmer_similarity = synset1.wup_similarity(synset2)\n",
        "print(\"Path Similarity between\", word1, \"and\", word2, \":\", path_similarity)\n",
        "print(\"Wu-Palmer Similarity between\", word1, \"and\", word2, \":\", wu_palmer_similarity)"
      ],
      "metadata": {
        "colab": {
          "base_uri": "https://localhost:8080/"
        },
        "id": "FUv6IGGCkDq7",
        "outputId": "0640ad8e-1b75-422a-b8e7-e73d0f1f121a"
      },
      "execution_count": null,
      "outputs": [
        {
          "output_type": "stream",
          "name": "stdout",
          "text": [
            "Path Similarity between book and magazine : 0.3333333333333333\n",
            "Wu-Palmer Similarity between book and magazine : 0.9\n"
          ]
        }
      ]
    },
    {
      "cell_type": "markdown",
      "source": [
        "**Lemmatizer:** reduces the different forms of a word to one single form"
      ],
      "metadata": {
        "id": "vleWgpX4kawh"
      }
    },
    {
      "cell_type": "code",
      "source": [
        "import nltk\n",
        "from nltk.stem import WordNetLemmatizer\n",
        "\n",
        "# Initialize the WordNet Lemmatizer\n",
        "lemmatizer = WordNetLemmatizer()\n",
        "\n",
        "# Lemmatize words\n",
        "words = [\"cats\", \"cacti\", \"geese\", \"rocks\", \"running\"]\n",
        "for word in words:\n",
        "    lemma = lemmatizer.lemmatize(word)\n",
        "    print(f\"{word} -> {lemma}\")"
      ],
      "metadata": {
        "colab": {
          "base_uri": "https://localhost:8080/"
        },
        "id": "TXxaSSTOkwMx",
        "outputId": "3ac868bd-8bea-4c5e-b64f-ecc31dcba87e"
      },
      "execution_count": null,
      "outputs": [
        {
          "output_type": "stream",
          "name": "stdout",
          "text": [
            "cats -> cat\n",
            "cacti -> cactus\n",
            "geese -> goose\n",
            "rocks -> rock\n",
            "running -> running\n"
          ]
        }
      ]
    },
    {
      "cell_type": "markdown",
      "source": [
        "## **5. Word Embedding**"
      ],
      "metadata": {
        "id": "j8b5eex4G14X"
      }
    },
    {
      "cell_type": "code",
      "source": [
        "!pip install gensim"
      ],
      "metadata": {
        "colab": {
          "base_uri": "https://localhost:8080/"
        },
        "id": "Lqyo8pmOG_o1",
        "outputId": "f1da93c3-7353-4cc6-8c17-341bc9caaa1a"
      },
      "execution_count": 1,
      "outputs": [
        {
          "output_type": "stream",
          "name": "stdout",
          "text": [
            "Requirement already satisfied: gensim in /usr/local/lib/python3.10/dist-packages (4.3.3)\n",
            "Requirement already satisfied: numpy<2.0,>=1.18.5 in /usr/local/lib/python3.10/dist-packages (from gensim) (1.26.4)\n",
            "Requirement already satisfied: scipy<1.14.0,>=1.7.0 in /usr/local/lib/python3.10/dist-packages (from gensim) (1.13.1)\n",
            "Requirement already satisfied: smart-open>=1.8.1 in /usr/local/lib/python3.10/dist-packages (from gensim) (7.0.4)\n",
            "Requirement already satisfied: wrapt in /usr/local/lib/python3.10/dist-packages (from smart-open>=1.8.1->gensim) (1.16.0)\n"
          ]
        }
      ]
    },
    {
      "cell_type": "code",
      "source": [
        "import nltk\n",
        "from nltk.corpus import brown\n",
        "from nltk.tokenize import word_tokenize\n",
        "from gensim.models import Word2Vec\n",
        "from sklearn.preprocessing import OneHotEncoder\n",
        "import numpy as np"
      ],
      "metadata": {
        "id": "YNH8i-XEHMlq"
      },
      "execution_count": 2,
      "outputs": []
    },
    {
      "cell_type": "code",
      "source": [
        "nltk.download('brown')\n",
        "nltk.download('punkt')"
      ],
      "metadata": {
        "colab": {
          "base_uri": "https://localhost:8080/"
        },
        "id": "vrBlsN9JHQW1",
        "outputId": "120258a4-573c-450f-960c-9acac549fcfb"
      },
      "execution_count": 3,
      "outputs": [
        {
          "output_type": "stream",
          "name": "stderr",
          "text": [
            "[nltk_data] Downloading package brown to /root/nltk_data...\n",
            "[nltk_data]   Unzipping corpora/brown.zip.\n",
            "[nltk_data] Downloading package punkt to /root/nltk_data...\n",
            "[nltk_data]   Unzipping tokenizers/punkt.zip.\n"
          ]
        },
        {
          "output_type": "execute_result",
          "data": {
            "text/plain": [
              "True"
            ]
          },
          "metadata": {},
          "execution_count": 3
        }
      ]
    },
    {
      "cell_type": "code",
      "source": [
        "# Displays the categories in the Brown Corpus\n",
        "categories = brown.categories()\n",
        "print(f\"Categories in the Brown Corpus: {categories}\")"
      ],
      "metadata": {
        "colab": {
          "base_uri": "https://localhost:8080/"
        },
        "id": "W5X-wjYiHWuw",
        "outputId": "412e3155-152a-4c09-bc9a-f1a202ec94ba"
      },
      "execution_count": 5,
      "outputs": [
        {
          "output_type": "stream",
          "name": "stdout",
          "text": [
            "Categories in the Brown Corpus: ['adventure', 'belles_lettres', 'editorial', 'fiction', 'government', 'hobbies', 'humor', 'learned', 'lore', 'mystery', 'news', 'religion', 'reviews', 'romance', 'science_fiction']\n"
          ]
        }
      ]
    },
    {
      "cell_type": "code",
      "source": [
        "# Displays the first 5 sentences from each category\n",
        "for category in categories:\n",
        "    print(f\"\\nCategory: {category}\")\n",
        "    sentences = brown.sents(categories=category)[:5]\n",
        "    for i, sentence in enumerate(sentences, 1):\n",
        "        print(f\"  Sentence {i}: {' '.join(sentence)}\")"
      ],
      "metadata": {
        "colab": {
          "base_uri": "https://localhost:8080/"
        },
        "id": "DJAkK_PaMAni",
        "outputId": "3c10c9b4-e35e-4223-cd86-3226ec195ecc"
      },
      "execution_count": 6,
      "outputs": [
        {
          "output_type": "stream",
          "name": "stdout",
          "text": [
            "\n",
            "Category: adventure\n",
            "  Sentence 1: Dan Morgan told himself he would forget Ann Turner .\n",
            "  Sentence 2: He was well rid of her .\n",
            "  Sentence 3: He certainly didn't want a wife who was fickle as Ann .\n",
            "  Sentence 4: If he had married her , he'd have been asking for trouble .\n",
            "  Sentence 5: But all of this was rationalization .\n",
            "\n",
            "Category: belles_lettres\n",
            "  Sentence 1: Northern liberals are the chief supporters of civil rights and of integration .\n",
            "  Sentence 2: They have also led the nation in the direction of a welfare state .\n",
            "  Sentence 3: And both in their objectives of non-discrimination and of social progress they have had ranged against them the Southerners who are called Bourbons .\n",
            "  Sentence 4: The name presumably derives from the French royal house which never learned and never forgot ; ;\n",
            "  Sentence 5: since Bourbon whiskey , though of Kentucky origin , is at least as much favored by liberals in the North as by conservatives in the South .\n",
            "\n",
            "Category: editorial\n",
            "  Sentence 1: Assembly session brought much good\n",
            "  Sentence 2: The General Assembly , which adjourns today , has performed in an atmosphere of crisis and struggle from the day it convened .\n",
            "  Sentence 3: It was faced immediately with a showdown on the schools , an issue which was met squarely in conjunction with the governor with a decision not to risk abandoning public education .\n",
            "  Sentence 4: There followed the historic appropriations and budget fight , in which the General Assembly decided to tackle executive powers .\n",
            "  Sentence 5: The final decision went to the executive but a way has been opened for strengthening budgeting procedures and to provide legislators information they need .\n",
            "\n",
            "Category: fiction\n",
            "  Sentence 1: Thirty-three\n",
            "  Sentence 2: Scotty did not go back to school .\n",
            "  Sentence 3: His parents talked seriously and lengthily to their own doctor and to a specialist at the University Hospital -- Mr. McKinley was entitled to a discount for members of his family -- and it was decided it would be best for him to take the remainder of the term off , spend a lot of time in bed and , for the rest , do pretty much as he chose -- provided , of course , he chose to do nothing too exciting or too debilitating .\n",
            "  Sentence 4: His teacher and his school principal were conferred with and everyone agreed that , if he kept up with a certain amount of work at home , there was little danger of his losing a term .\n",
            "  Sentence 5: Scotty accepted the decision with indifference and did not enter the arguments .\n",
            "\n",
            "Category: government\n",
            "  Sentence 1: The Office of Business Economics ( OBE ) of the U.S. Department of Commerce provides basic measures of the national economy and current analysis of short-run changes in the economic situation and business outlook .\n",
            "  Sentence 2: It develops and analyzes the national income , balance of international payments , and many other business indicators .\n",
            "  Sentence 3: Such measures are essential to its job of presenting business and Government with the facts required to meet the objective of expanding business and improving the operation of the economy .\n",
            "  Sentence 4: Contact\n",
            "  Sentence 5: For further information contact Director , Office of Business Economics , U.S. Department of Commerce , Washington 25 , D.C. .\n",
            "\n",
            "Category: hobbies\n",
            "  Sentence 1: Too often a beginning bodybuilder has to do his training secretly either because his parents don't want sonny-boy to `` lift all those old barbell things '' because `` you'll stunt your growth '' or because childish taunts from his schoolmates , like `` Hey lookit Mr. America ; ;\n",
            "  Sentence 2: whaddya gonna do with all those muscles ( of which he has none at the time ) '' ? ?\n",
            "  Sentence 3: After all , a guy's gotta have a little ego ! !\n",
            "  Sentence 4: Therefore it's a genuine pleasure to tell you about an entirely happy bodybuilder who has never had to train in secret has never heard one unkind word from his parents and never has been taunted by his schoolmates ! !\n",
            "  Sentence 5: This happy , always smiling lad with the sunny disposition is our new Junior Mr. Canada -- Henri De Courcy .\n",
            "\n",
            "Category: humor\n",
            "  Sentence 1: It was among these that Hinkle identified a photograph of Barco ! !\n",
            "  Sentence 2: For it seems that Barco , fancying himself a ladies' man ( and why not , after seven marriages ? ?\n",
            "  Sentence 3: ) , had listed himself for Mormon Beard roles at the instigation of his fourth murder victim who had said : `` With your beard , dear , you ought to be in movies '' ! !\n",
            "  Sentence 4: Mills secured Barco's photograph from the gentleman in charge , rushed to the Hollywood police station to report the theft , and less than five minutes later , detectives with his picture in hand were on the trail of Cal Barco .\n",
            "  Sentence 5: On their way , they stopped at every gas station along the main boulevards to question the attendants .\n",
            "\n",
            "Category: learned\n",
            "  Sentence 1: 1 .\n",
            "  Sentence 2: Introduction\n",
            "  Sentence 3: It has recently become practical to use the radio emission of the moon and planets as a new source of information about these bodies and their atmospheres .\n",
            "  Sentence 4: The results of present observations of the thermal radio emission of the moon are consistent with the very low thermal conductivity of the surface layer which was derived from the variation in the infrared emission during eclipses ( e.g. , Garstung , 1958 ) .\n",
            "  Sentence 5: When sufficiently accurate and complete measurements are available , it will be possible to set limits on the thermal and electrical characteristics of the surface and subsurface materials of the moon .\n",
            "\n",
            "Category: lore\n",
            "  Sentence 1: In American romance , almost nothing rates higher than what the movie men have called `` meeting cute '' -- that is , boy-meets-girl seems more adorable if it doesn't take place in an atmosphere of correct and acute boredom .\n",
            "  Sentence 2: Just about the most enthralling real-life example of meeting cute is the Charles MacArthur-Helen Hayes saga : reputedly all he did was give her a handful of peanuts , but he said simultaneously , `` I wish they were emeralds '' .\n",
            "  Sentence 3: Aside from the comico-romantico content here , a good linguist-anthropologist could readily pick up a few other facts , especially if he had a little more of the conversation to go on .\n",
            "  Sentence 4: The way MacArthur said his line -- if you had the recorded transcript of a professional linguist -- would probably have gone like this : Af Primary stresses on emeralds and wish ; ;\n",
            "  Sentence 5: note pitch 3 ( pretty high ) on emeralds but with a slight degree of drawl , one degree of oversoftness .\n",
            "\n",
            "Category: mystery\n",
            "  Sentence 1: There were thirty-eight patients on the bus the morning I left for Hanover , most of them disturbed and hallucinating .\n",
            "  Sentence 2: An interne , a nurse and two attendants were in charge of us .\n",
            "  Sentence 3: I felt lonely and depressed as I stared out the bus window at Chicago's grim , dirty West Side .\n",
            "  Sentence 4: It seemed incredible , as I listened to the monotonous drone of voices and smelled the fetid odors coming from the patients , that technically I was a ward of the state of Illinois , going to a hospital for the mentally ill .\n",
            "  Sentence 5: I suddenly thought of Mary Jane Brennan , the way her pretty eyes could flash with anger , her quiet competence , the gentleness and sweetness that lay just beneath the surface of her defenses .\n",
            "\n",
            "Category: news\n",
            "  Sentence 1: The Fulton County Grand Jury said Friday an investigation of Atlanta's recent primary election produced `` no evidence '' that any irregularities took place .\n",
            "  Sentence 2: The jury further said in term-end presentments that the City Executive Committee , which had over-all charge of the election , `` deserves the praise and thanks of the City of Atlanta '' for the manner in which the election was conducted .\n",
            "  Sentence 3: The September-October term jury had been charged by Fulton Superior Court Judge Durwood Pye to investigate reports of possible `` irregularities '' in the hard-fought primary which was won by Mayor-nominate Ivan Allen Jr. .\n",
            "  Sentence 4: `` Only a relative handful of such reports was received '' , the jury said , `` considering the widespread interest in the election , the number of voters and the size of this city '' .\n",
            "  Sentence 5: The jury said it did find that many of Georgia's registration and election laws `` are outmoded or inadequate and often ambiguous '' .\n",
            "\n",
            "Category: religion\n",
            "  Sentence 1: As a result , although we still make use of this distinction , there is much confusion as to the meaning of the basic terms employed .\n",
            "  Sentence 2: Just what is meant by `` spirit '' and by `` matter '' ? ?\n",
            "  Sentence 3: The terms are generally taken for granted as though they referred to direct and axiomatic elements in the common experience of all .\n",
            "  Sentence 4: Yet in the contemporary context this is precisely what one must not do .\n",
            "  Sentence 5: For in the modern world neither `` spirit '' nor `` matter '' refer to any generally agreed-upon elements of experience .\n",
            "\n",
            "Category: reviews\n",
            "  Sentence 1: It is not news that Nathan Milstein is a wizard of the violin .\n",
            "  Sentence 2: Certainly not in Orchestra Hall where he has played countless recitals , and where Thursday night he celebrated his 20th season with the Chicago Symphony Orchestra , playing the Brahms Concerto with his own slashing , demon-ridden cadenza melting into the high , pale , pure and lovely song with which a violinist unlocks the heart of the music , or forever finds it closed .\n",
            "  Sentence 3: There was about that song something incandescent , for this Brahms was Milstein at white heat .\n",
            "  Sentence 4: Not the noblest performance we have heard him play , or the most spacious , or even the most eloquent .\n",
            "  Sentence 5: Those would be reserved for the orchestra's great nights when the soloist can surpass himself .\n",
            "\n",
            "Category: romance\n",
            "  Sentence 1: They neither liked nor disliked the Old Man .\n",
            "  Sentence 2: To them he could have been the broken bell in the church tower which rang before and after Mass , and at noon , and at six each evening -- its tone , repetitive , monotonous , never breaking the boredom of the streets .\n",
            "  Sentence 3: The Old Man was unimportant .\n",
            "  Sentence 4: Yet if he were not there , they would have missed him , as they would have missed the sounds of bees buzzing against the screen door in early June ; ;\n",
            "  Sentence 5: or the smell of thick tomato paste -- the ripe smell that was both sweet and sour -- rising up from aluminum trays wrapped in fly-dotted cheesecloth .\n",
            "\n",
            "Category: science_fiction\n",
            "  Sentence 1: Now that he knew himself to be self he was free to grok ever closer to his brothers , merge without let .\n",
            "  Sentence 2: Self's integrity was and is and ever had been .\n",
            "  Sentence 3: Mike stopped to cherish all his brother selves , the many threes-fulfilled on Mars , corporate and discorporate , the precious few on Earth -- the unknown powers of three on Earth that would be his to merge with and cherish now that at last long waiting he grokked and cherished himself .\n",
            "  Sentence 4: Mike remained in trance ; ;\n",
            "  Sentence 5: there was much to grok , loose ends to puzzle over and fit into his growing -- all that he had seen and heard and been at the Archangel Foster Tabernacle ( not just cusp when he and Digby had come face to face alone ) why Bishop Senator Boone made him warily uneasy , how Miss Dawn Ardent tasted like a water brother when she was not , the smell of goodness he had incompletely grokked in the jumping up and down and wailing --\n"
          ]
        }
      ]
    },
    {
      "cell_type": "code",
      "source": [
        "# Loads the Brown corpus\n",
        "sentences = brown.sents()"
      ],
      "metadata": {
        "id": "74CDBNo_MJwQ"
      },
      "execution_count": 7,
      "outputs": []
    },
    {
      "cell_type": "code",
      "source": [
        "sentences[0]"
      ],
      "metadata": {
        "colab": {
          "base_uri": "https://localhost:8080/"
        },
        "id": "mPxwKVA7MOp1",
        "outputId": "40cbce9a-c5b9-4f0e-869c-d9be545c98c7"
      },
      "execution_count": 8,
      "outputs": [
        {
          "output_type": "execute_result",
          "data": {
            "text/plain": [
              "['The',\n",
              " 'Fulton',\n",
              " 'County',\n",
              " 'Grand',\n",
              " 'Jury',\n",
              " 'said',\n",
              " 'Friday',\n",
              " 'an',\n",
              " 'investigation',\n",
              " 'of',\n",
              " \"Atlanta's\",\n",
              " 'recent',\n",
              " 'primary',\n",
              " 'election',\n",
              " 'produced',\n",
              " '``',\n",
              " 'no',\n",
              " 'evidence',\n",
              " \"''\",\n",
              " 'that',\n",
              " 'any',\n",
              " 'irregularities',\n",
              " 'took',\n",
              " 'place',\n",
              " '.']"
            ]
          },
          "metadata": {},
          "execution_count": 8
        }
      ]
    },
    {
      "cell_type": "code",
      "source": [
        "# Flatten the list of sentences\n",
        "words = [word.lower() for sentence in sentences for word in sentence]"
      ],
      "metadata": {
        "id": "4tEizKeJMR8L"
      },
      "execution_count": 9,
      "outputs": []
    },
    {
      "cell_type": "code",
      "source": [
        "words[0:20]"
      ],
      "metadata": {
        "colab": {
          "base_uri": "https://localhost:8080/"
        },
        "id": "ooXIlPPrMpGW",
        "outputId": "6e2a1dbd-8b1d-4c56-e0c9-54b041c73a37"
      },
      "execution_count": 10,
      "outputs": [
        {
          "output_type": "execute_result",
          "data": {
            "text/plain": [
              "['the',\n",
              " 'fulton',\n",
              " 'county',\n",
              " 'grand',\n",
              " 'jury',\n",
              " 'said',\n",
              " 'friday',\n",
              " 'an',\n",
              " 'investigation',\n",
              " 'of',\n",
              " \"atlanta's\",\n",
              " 'recent',\n",
              " 'primary',\n",
              " 'election',\n",
              " 'produced',\n",
              " '``',\n",
              " 'no',\n",
              " 'evidence',\n",
              " \"''\",\n",
              " 'that']"
            ]
          },
          "metadata": {},
          "execution_count": 10
        }
      ]
    },
    {
      "cell_type": "code",
      "source": [
        "# Displays unique words\n",
        "unique_words = list(set(words))\n",
        "unique_words[0:20]"
      ],
      "metadata": {
        "colab": {
          "base_uri": "https://localhost:8080/"
        },
        "id": "_Wu9kHjeM0uJ",
        "outputId": "21b10715-c9c7-4f33-a300-a96de8693ea3"
      },
      "execution_count": 11,
      "outputs": [
        {
          "output_type": "execute_result",
          "data": {
            "text/plain": [
              "['anise',\n",
              " 'liliputian',\n",
              " 'accepted',\n",
              " 'watermelon',\n",
              " 'geddes',\n",
              " 'motivates',\n",
              " 'boggled',\n",
              " 'michelangelo',\n",
              " 'lumiere',\n",
              " 'machine-masters',\n",
              " 'poll',\n",
              " 'usn.',\n",
              " 'chowder',\n",
              " 'baths',\n",
              " 'freezers',\n",
              " 'hand-level',\n",
              " 'spire',\n",
              " 'metropolitan',\n",
              " 'presences',\n",
              " 'airmail']"
            ]
          },
          "metadata": {},
          "execution_count": 11
        }
      ]
    },
    {
      "cell_type": "code",
      "source": [
        "# Creates one-hot encoder\n",
        "onehot_encoder = OneHotEncoder(sparse=False)\n",
        "onehot_encoded = onehot_encoder.fit_transform(np.array(unique_words).reshape(-1, 1))"
      ],
      "metadata": {
        "colab": {
          "base_uri": "https://localhost:8080/"
        },
        "id": "myhzYvs3M9Om",
        "outputId": "cd4b2abe-dc2a-43d0-b574-2f3923936efe"
      },
      "execution_count": 12,
      "outputs": [
        {
          "output_type": "stream",
          "name": "stderr",
          "text": [
            "/usr/local/lib/python3.10/dist-packages/sklearn/preprocessing/_encoders.py:975: FutureWarning: `sparse` was renamed to `sparse_output` in version 1.2 and will be removed in 1.4. `sparse_output` is ignored unless you leave `sparse` to its default value.\n",
            "  warnings.warn(\n"
          ]
        }
      ]
    },
    {
      "cell_type": "code",
      "source": [
        "# Creates a dictionary for word to one-hot encoding\n",
        "word_to_onehot = {word: onehot_encoded[i] for i, word in enumerate(unique_words)}"
      ],
      "metadata": {
        "id": "P3-8KgXDNCRi"
      },
      "execution_count": 13,
      "outputs": []
    },
    {
      "cell_type": "code",
      "source": [
        "word_to_onehot"
      ],
      "metadata": {
        "colab": {
          "base_uri": "https://localhost:8080/"
        },
        "id": "h6xnV4k7NGLk",
        "outputId": "10c95f43-9a2a-4c21-b52d-efc69a679be5"
      },
      "execution_count": 14,
      "outputs": [
        {
          "output_type": "execute_result",
          "data": {
            "text/plain": [
              "{'anise': array([0., 0., 0., ..., 0., 0., 0.]),\n",
              " 'liliputian': array([0., 0., 0., ..., 0., 0., 0.]),\n",
              " 'accepted': array([0., 0., 0., ..., 0., 0., 0.]),\n",
              " 'watermelon': array([0., 0., 0., ..., 0., 0., 0.]),\n",
              " 'geddes': array([0., 0., 0., ..., 0., 0., 0.]),\n",
              " 'motivates': array([0., 0., 0., ..., 0., 0., 0.]),\n",
              " 'boggled': array([0., 0., 0., ..., 0., 0., 0.]),\n",
              " 'michelangelo': array([0., 0., 0., ..., 0., 0., 0.]),\n",
              " 'lumiere': array([0., 0., 0., ..., 0., 0., 0.]),\n",
              " 'machine-masters': array([0., 0., 0., ..., 0., 0., 0.]),\n",
              " 'poll': array([0., 0., 0., ..., 0., 0., 0.]),\n",
              " 'usn.': array([0., 0., 0., ..., 0., 0., 0.]),\n",
              " 'chowder': array([0., 0., 0., ..., 0., 0., 0.]),\n",
              " 'baths': array([0., 0., 0., ..., 0., 0., 0.]),\n",
              " 'freezers': array([0., 0., 0., ..., 0., 0., 0.]),\n",
              " 'hand-level': array([0., 0., 0., ..., 0., 0., 0.]),\n",
              " 'spire': array([0., 0., 0., ..., 0., 0., 0.]),\n",
              " 'metropolitan': array([0., 0., 0., ..., 0., 0., 0.]),\n",
              " 'presences': array([0., 0., 0., ..., 0., 0., 0.]),\n",
              " 'airmail': array([0., 0., 0., ..., 0., 0., 0.]),\n",
              " 'jew-haters': array([0., 0., 0., ..., 0., 0., 0.]),\n",
              " 'variations': array([0., 0., 0., ..., 0., 0., 0.]),\n",
              " 'peasants': array([0., 0., 0., ..., 0., 0., 0.]),\n",
              " '2118': array([0., 0., 0., ..., 0., 0., 0.]),\n",
              " 'temperately': array([0., 0., 0., ..., 0., 0., 0.]),\n",
              " 'construction': array([0., 0., 0., ..., 0., 0., 0.]),\n",
              " 'decorations': array([0., 0., 0., ..., 0., 0., 0.]),\n",
              " 'baltimorean': array([0., 0., 0., ..., 0., 0., 0.]),\n",
              " 'hooks': array([0., 0., 0., ..., 0., 0., 0.]),\n",
              " 'shatilov': array([0., 0., 0., ..., 0., 0., 0.]),\n",
              " 're-enter': array([0., 0., 0., ..., 0., 0., 0.]),\n",
              " '4,499,608': array([0., 0., 0., ..., 0., 0., 0.]),\n",
              " 'evensong': array([0., 0., 0., ..., 0., 0., 0.]),\n",
              " 'chines': array([0., 0., 0., ..., 0., 0., 0.]),\n",
              " '15-year-old': array([0., 0., 0., ..., 0., 0., 0.]),\n",
              " 'broken': array([0., 0., 0., ..., 0., 0., 0.]),\n",
              " 'plaid': array([0., 0., 0., ..., 0., 0., 0.]),\n",
              " 'damp': array([0., 0., 0., ..., 0., 0., 0.]),\n",
              " 'chemical': array([0., 0., 0., ..., 0., 0., 0.]),\n",
              " 'waved': array([0., 0., 0., ..., 0., 0., 0.]),\n",
              " 'physiological': array([0., 0., 0., ..., 0., 0., 0.]),\n",
              " 'catalogues': array([0., 0., 0., ..., 0., 0., 0.]),\n",
              " 'rehearsal': array([0., 0., 0., ..., 0., 0., 0.]),\n",
              " 'constricted': array([0., 0., 0., ..., 0., 0., 0.]),\n",
              " 'politicking': array([0., 0., 0., ..., 0., 0., 0.]),\n",
              " 'restricting': array([0., 0., 0., ..., 0., 0., 0.]),\n",
              " 'switchboard': array([0., 0., 0., ..., 0., 0., 0.]),\n",
              " 'lumpy': array([0., 0., 0., ..., 0., 0., 0.]),\n",
              " 'sociable': array([0., 0., 0., ..., 0., 0., 0.]),\n",
              " 'extractors': array([0., 0., 0., ..., 0., 0., 0.]),\n",
              " 'schone': array([0., 0., 0., ..., 0., 0., 0.]),\n",
              " 'noranda': array([0., 0., 0., ..., 0., 0., 0.]),\n",
              " 'wade': array([0., 0., 0., ..., 0., 0., 0.]),\n",
              " 'plenty': array([0., 0., 0., ..., 0., 0., 0.]),\n",
              " 'cold-blooded': array([0., 0., 0., ..., 0., 0., 0.]),\n",
              " 'patent': array([0., 0., 0., ..., 0., 0., 0.]),\n",
              " 'judge-made': array([0., 0., 0., ..., 0., 0., 0.]),\n",
              " 'kazoo': array([0., 0., 0., ..., 0., 0., 0.]),\n",
              " \"heart's\": array([0., 0., 0., ..., 0., 0., 0.]),\n",
              " 'gears': array([0., 0., 0., ..., 0., 0., 0.]),\n",
              " 'candlestick': array([0., 0., 0., ..., 0., 0., 0.]),\n",
              " 'cow': array([0., 0., 0., ..., 0., 0., 0.]),\n",
              " 'repetition': array([0., 0., 0., ..., 0., 0., 0.]),\n",
              " 'sung-shan': array([0., 0., 0., ..., 0., 0., 0.]),\n",
              " 'supplying': array([0., 0., 0., ..., 0., 0., 0.]),\n",
              " 'wartime': array([0., 0., 0., ..., 0., 0., 0.]),\n",
              " 'squabbles': array([0., 0., 0., ..., 0., 0., 0.]),\n",
              " 'bald': array([0., 0., 0., ..., 0., 0., 0.]),\n",
              " 'patch': array([0., 0., 0., ..., 0., 0., 0.]),\n",
              " 'unpaid': array([0., 0., 0., ..., 0., 0., 0.]),\n",
              " 'blackjack': array([0., 0., 0., ..., 0., 0., 0.]),\n",
              " 'sulfur': array([0., 0., 0., ..., 0., 0., 0.]),\n",
              " 'high-power': array([0., 0., 0., ..., 0., 0., 0.]),\n",
              " 'lotion': array([0., 0., 0., ..., 0., 0., 0.]),\n",
              " 'shipwrecked': array([0., 0., 0., ..., 0., 0., 0.]),\n",
              " 'lascivious': array([0., 0., 0., ..., 0., 0., 0.]),\n",
              " 'prerogative': array([0., 0., 0., ..., 0., 0., 0.]),\n",
              " 'defocusing': array([0., 0., 0., ..., 0., 0., 0.]),\n",
              " 'interceptor': array([0., 0., 0., ..., 0., 0., 0.]),\n",
              " 'arranged': array([0., 0., 0., ..., 0., 0., 0.]),\n",
              " 'vistas': array([0., 0., 0., ..., 0., 0., 0.]),\n",
              " 'perspiring': array([0., 0., 0., ..., 0., 0., 0.]),\n",
              " 'willinge': array([0., 0., 0., ..., 0., 0., 0.]),\n",
              " 'individualistic': array([0., 0., 0., ..., 0., 0., 0.]),\n",
              " 'drowning': array([0., 0., 0., ..., 0., 0., 0.]),\n",
              " 'hirey': array([0., 0., 0., ..., 0., 0., 0.]),\n",
              " 'enquetes': array([0., 0., 0., ..., 0., 0., 0.]),\n",
              " 'designers': array([0., 0., 0., ..., 0., 0., 0.]),\n",
              " 'aborigines': array([0., 0., 0., ..., 0., 0., 0.]),\n",
              " 'dashwood': array([0., 0., 0., ..., 0., 0., 0.]),\n",
              " 'fide': array([0., 0., 0., ..., 0., 0., 0.]),\n",
              " 'ennis': array([0., 0., 0., ..., 0., 0., 0.]),\n",
              " 'robbers': array([0., 0., 0., ..., 0., 0., 0.]),\n",
              " 'lordly': array([0., 0., 0., ..., 0., 0., 0.]),\n",
              " 'classes': array([0., 0., 0., ..., 0., 0., 0.]),\n",
              " 'einsatzkommandos': array([0., 0., 0., ..., 0., 0., 0.]),\n",
              " 'two-head': array([0., 0., 0., ..., 0., 0., 0.]),\n",
              " 'elbow': array([0., 0., 0., ..., 0., 0., 0.]),\n",
              " 'election': array([0., 0., 0., ..., 0., 0., 0.]),\n",
              " 'fonds': array([0., 0., 0., ..., 0., 0., 0.]),\n",
              " 'incalculable': array([0., 0., 0., ..., 0., 0., 0.]),\n",
              " 'on-level': array([0., 0., 0., ..., 0., 0., 0.]),\n",
              " 'sinless': array([0., 0., 0., ..., 0., 0., 0.]),\n",
              " 'collett': array([0., 0., 0., ..., 0., 0., 0.]),\n",
              " 'reminiscing': array([0., 0., 0., ..., 0., 0., 0.]),\n",
              " 'presenting': array([0., 0., 0., ..., 0., 0., 0.]),\n",
              " 'disbelieves': array([0., 0., 0., ..., 0., 0., 0.]),\n",
              " 'nina': array([0., 0., 0., ..., 0., 0., 0.]),\n",
              " 'anti-liquor': array([0., 0., 0., ..., 0., 0., 0.]),\n",
              " 'well-wishing': array([0., 0., 0., ..., 0., 0., 0.]),\n",
              " 'das': array([0., 0., 0., ..., 0., 0., 0.]),\n",
              " 'putains': array([0., 0., 0., ..., 0., 0., 0.]),\n",
              " \"herberet's\": array([0., 0., 0., ..., 0., 0., 0.]),\n",
              " '37-degrees-c': array([0., 0., 0., ..., 0., 0., 0.]),\n",
              " 'seconds': array([0., 0., 0., ..., 0., 0., 0.]),\n",
              " 'depressions': array([0., 0., 0., ..., 0., 0., 0.]),\n",
              " 'supervise': array([0., 0., 0., ..., 0., 0., 0.]),\n",
              " 'open-work': array([0., 0., 0., ..., 0., 0., 0.]),\n",
              " 'charting': array([0., 0., 0., ..., 0., 0., 0.]),\n",
              " 'despised': array([0., 0., 0., ..., 0., 0., 0.]),\n",
              " 'animate': array([0., 0., 0., ..., 0., 0., 0.]),\n",
              " 'scrimmage': array([0., 0., 0., ..., 0., 0., 0.]),\n",
              " 'tudor-style': array([0., 0., 0., ..., 0., 0., 0.]),\n",
              " 'dams': array([0., 0., 0., ..., 0., 0., 0.]),\n",
              " '1845': array([0., 0., 0., ..., 0., 0., 0.]),\n",
              " 'college-oriented': array([0., 0., 0., ..., 0., 0., 0.]),\n",
              " 'pseudo-glamorous': array([0., 0., 0., ..., 0., 0., 0.]),\n",
              " 'skeletal': array([0., 0., 0., ..., 0., 0., 0.]),\n",
              " 'shaving': array([0., 0., 0., ..., 0., 0., 0.]),\n",
              " 'ledoux': array([0., 0., 0., ..., 0., 0., 0.]),\n",
              " 'concocted': array([0., 0., 0., ..., 0., 0., 0.]),\n",
              " 'tripolyphosphate': array([0., 0., 0., ..., 0., 0., 0.]),\n",
              " 'kneels': array([0., 0., 0., ..., 0., 0., 0.]),\n",
              " \"9'\": array([0., 0., 0., ..., 0., 0., 0.]),\n",
              " 'cooked-over': array([0., 0., 0., ..., 0., 0., 0.]),\n",
              " 'winged': array([0., 0., 0., ..., 0., 0., 0.]),\n",
              " 'rewritten': array([0., 0., 0., ..., 0., 0., 0.]),\n",
              " 'sharpest': array([0., 0., 0., ..., 0., 0., 0.]),\n",
              " 'tightest-fitting': array([0., 0., 0., ..., 0., 0., 0.]),\n",
              " 'overhauling': array([0., 0., 0., ..., 0., 0., 0.]),\n",
              " 'breakers': array([0., 0., 0., ..., 0., 0., 0.]),\n",
              " 'sauces': array([0., 0., 0., ..., 0., 0., 0.]),\n",
              " 'pedagogical': array([0., 0., 0., ..., 0., 0., 0.]),\n",
              " 'mechanochemically': array([0., 0., 0., ..., 0., 0., 0.]),\n",
              " 'boom-boom-boom': array([0., 0., 0., ..., 0., 0., 0.]),\n",
              " 'newborn': array([0., 0., 0., ..., 0., 0., 0.]),\n",
              " 'cobalt-60': array([0., 0., 0., ..., 0., 0., 0.]),\n",
              " 'makers': array([0., 0., 0., ..., 0., 0., 0.]),\n",
              " 'pre-easter': array([0., 0., 0., ..., 0., 0., 0.]),\n",
              " 'bathar-on-walli': array([0., 0., 0., ..., 0., 0., 0.]),\n",
              " 'satisfactions': array([0., 0., 0., ..., 0., 0., 0.]),\n",
              " 'quintets': array([0., 0., 0., ..., 0., 0., 0.]),\n",
              " 'theorizing': array([0., 0., 0., ..., 0., 0., 0.]),\n",
              " 'wrong-headed': array([0., 0., 0., ..., 0., 0., 0.]),\n",
              " 'one-man': array([0., 0., 0., ..., 0., 0., 0.]),\n",
              " 'thevenow': array([0., 0., 0., ..., 0., 0., 0.]),\n",
              " 'garments': array([0., 0., 0., ..., 0., 0., 0.]),\n",
              " '1930': array([0., 0., 0., ..., 0., 0., 0.]),\n",
              " 'quarry': array([0., 0., 0., ..., 0., 0., 0.]),\n",
              " 'conjectured': array([0., 0., 0., ..., 0., 0., 0.]),\n",
              " 'reaffirm': array([0., 0., 0., ..., 0., 0., 0.]),\n",
              " \"1890's\": array([0., 0., 0., ..., 0., 0., 0.]),\n",
              " 'inks': array([0., 0., 0., ..., 0., 0., 0.]),\n",
              " 'formed-tooth': array([0., 0., 0., ..., 0., 0., 0.]),\n",
              " 'planetoids': array([0., 0., 0., ..., 0., 0., 0.]),\n",
              " 'hand-painted': array([0., 0., 0., ..., 0., 0., 0.]),\n",
              " 'ultramarine': array([0., 0., 0., ..., 0., 0., 0.]),\n",
              " 'indolent': array([0., 0., 0., ..., 0., 0., 0.]),\n",
              " \"pietro's\": array([0., 0., 0., ..., 0., 0., 0.]),\n",
              " 'nationhood': array([0., 0., 0., ..., 0., 0., 0.]),\n",
              " 'riddle': array([0., 0., 0., ..., 0., 0., 0.]),\n",
              " 'cardamom': array([0., 0., 0., ..., 0., 0., 0.]),\n",
              " 'stettin': array([0., 0., 0., ..., 0., 0., 0.]),\n",
              " 'umbrella': array([0., 0., 0., ..., 0., 0., 0.]),\n",
              " 'trappings': array([0., 0., 0., ..., 0., 0., 0.]),\n",
              " 'pantomime': array([0., 0., 0., ..., 0., 0., 0.]),\n",
              " 'wall-to-wall': array([0., 0., 0., ..., 0., 0., 0.]),\n",
              " 'collarbone': array([0., 0., 0., ..., 0., 0., 0.]),\n",
              " 'herbs': array([0., 0., 0., ..., 0., 0., 0.]),\n",
              " 'tieck': array([0., 0., 0., ..., 0., 0., 0.]),\n",
              " 'howse': array([0., 0., 0., ..., 0., 0., 0.]),\n",
              " 'semi-skilled': array([0., 0., 0., ..., 0., 0., 0.]),\n",
              " 'fairless': array([0., 0., 0., ..., 0., 0., 0.]),\n",
              " 'money-fed': array([0., 0., 0., ..., 0., 0., 0.]),\n",
              " 'simpleton': array([0., 0., 0., ..., 0., 0., 0.]),\n",
              " 'i.': array([0., 0., 0., ..., 0., 0., 0.]),\n",
              " \"puppet's\": array([0., 0., 0., ..., 0., 0., 0.]),\n",
              " 'departed': array([0., 0., 0., ..., 0., 0., 0.]),\n",
              " 'bolker': array([0., 0., 0., ..., 0., 0., 0.]),\n",
              " 'camusfearna': array([0., 0., 0., ..., 0., 0., 0.]),\n",
              " 'money-making': array([0., 0., 0., ..., 0., 0., 0.]),\n",
              " \"tussard's\": array([0., 0., 0., ..., 0., 0., 0.]),\n",
              " 'creep': array([0., 0., 0., ..., 0., 0., 0.]),\n",
              " 'dazed': array([0., 0., 0., ..., 0., 0., 0.]),\n",
              " 'exasperated': array([0., 0., 0., ..., 0., 0., 0.]),\n",
              " 'miffed': array([0., 0., 0., ..., 0., 0., 0.]),\n",
              " 'markings': array([0., 0., 0., ..., 0., 0., 0.]),\n",
              " 'knobby-knuckled': array([0., 0., 0., ..., 0., 0., 0.]),\n",
              " 'carob': array([0., 0., 0., ..., 0., 0., 0.]),\n",
              " 'mcquillan': array([0., 0., 0., ..., 0., 0., 0.]),\n",
              " '7:10': array([0., 0., 0., ..., 0., 0., 0.]),\n",
              " 'cradled': array([0., 0., 0., ..., 0., 0., 0.]),\n",
              " 'marum': array([0., 0., 0., ..., 0., 0., 0.]),\n",
              " 'subjugation': array([0., 0., 0., ..., 0., 0., 0.]),\n",
              " 'subway': array([0., 0., 0., ..., 0., 0., 0.]),\n",
              " \"watson-watt's\": array([0., 0., 0., ..., 0., 0., 0.]),\n",
              " 'green': array([0., 0., 0., ..., 0., 0., 0.]),\n",
              " 'coventry': array([0., 0., 0., ..., 0., 0., 0.]),\n",
              " 'whinnied': array([0., 0., 0., ..., 0., 0., 0.]),\n",
              " 'unfunnily': array([0., 0., 0., ..., 0., 0., 0.]),\n",
              " 'sunshine': array([0., 0., 0., ..., 0., 0., 0.]),\n",
              " 'spewing': array([0., 0., 0., ..., 0., 0., 0.]),\n",
              " 'person-to-person': array([0., 0., 0., ..., 0., 0., 0.]),\n",
              " 'housepaint': array([0., 0., 0., ..., 0., 0., 0.]),\n",
              " 'round-bottom': array([0., 0., 0., ..., 0., 0., 0.]),\n",
              " \"huxley's\": array([0., 0., 0., ..., 0., 0., 0.]),\n",
              " 'groundwave': array([0., 0., 0., ..., 0., 0., 0.]),\n",
              " 'pre-school': array([0., 0., 0., ..., 0., 0., 0.]),\n",
              " 'suggests': array([0., 0., 0., ..., 0., 0., 0.]),\n",
              " 'positivists': array([0., 0., 0., ..., 0., 0., 0.]),\n",
              " 'cezanne': array([0., 0., 0., ..., 0., 0., 0.]),\n",
              " 'undaunted': array([0., 0., 0., ..., 0., 0., 0.]),\n",
              " 'krzywy-rog': array([0., 0., 0., ..., 0., 0., 0.]),\n",
              " 'conscription': array([0., 0., 0., ..., 0., 0., 0.]),\n",
              " 'optional': array([0., 0., 0., ..., 0., 0., 0.]),\n",
              " 'record-high': array([0., 0., 0., ..., 0., 0., 0.]),\n",
              " \"bartoli's\": array([0., 0., 0., ..., 0., 0., 0.]),\n",
              " 'discouragement': array([0., 0., 0., ..., 0., 0., 0.]),\n",
              " 'campaign': array([0., 0., 0., ..., 0., 0., 0.]),\n",
              " 'thrilled': array([0., 0., 0., ..., 0., 0., 0.]),\n",
              " 'narragansett': array([0., 0., 0., ..., 0., 0., 0.]),\n",
              " 'hattes': array([0., 0., 0., ..., 0., 0., 0.]),\n",
              " 'pinto': array([0., 0., 0., ..., 0., 0., 0.]),\n",
              " 'duhagon': array([0., 0., 0., ..., 0., 0., 0.]),\n",
              " 'name-dropper': array([0., 0., 0., ..., 0., 0., 0.]),\n",
              " 'cluck': array([0., 0., 0., ..., 0., 0., 0.]),\n",
              " 'overcast': array([0., 0., 0., ..., 0., 0., 0.]),\n",
              " 'public-address': array([0., 0., 0., ..., 0., 0., 0.]),\n",
              " 'less-hurried': array([0., 0., 0., ..., 0., 0., 0.]),\n",
              " \"batista's\": array([0., 0., 0., ..., 0., 0., 0.]),\n",
              " 'insights': array([0., 0., 0., ..., 0., 0., 0.]),\n",
              " 'materials-handling': array([0., 0., 0., ..., 0., 0., 0.]),\n",
              " 'halftime': array([0., 0., 0., ..., 0., 0., 0.]),\n",
              " 'dane': array([0., 0., 0., ..., 0., 0., 0.]),\n",
              " 'unusually': array([0., 0., 0., ..., 0., 0., 0.]),\n",
              " 'polyelectrolytes': array([0., 0., 0., ..., 0., 0., 0.]),\n",
              " 'widowed': array([0., 0., 0., ..., 0., 0., 0.]),\n",
              " 'grad': array([0., 0., 0., ..., 0., 0., 0.]),\n",
              " \"indian's\": array([0., 0., 0., ..., 0., 0., 0.]),\n",
              " 'circumstance': array([0., 0., 0., ..., 0., 0., 0.]),\n",
              " 'quickie': array([0., 0., 0., ..., 0., 0., 0.]),\n",
              " 'remonstrate': array([0., 0., 0., ..., 0., 0., 0.]),\n",
              " 'glomerular': array([0., 0., 0., ..., 0., 0., 0.]),\n",
              " 'responsiveness': array([0., 0., 0., ..., 0., 0., 0.]),\n",
              " 'cataclysmic': array([0., 0., 0., ..., 0., 0., 0.]),\n",
              " 'emeralds': array([0., 0., 0., ..., 0., 0., 0.]),\n",
              " '225,000': array([0., 0., 0., ..., 0., 0., 0.]),\n",
              " 'chavez': array([0., 0., 0., ..., 0., 0., 0.]),\n",
              " '12th': array([0., 0., 0., ..., 0., 0., 0.]),\n",
              " 'halda': array([0., 0., 0., ..., 0., 0., 0.]),\n",
              " \"moraine's\": array([0., 0., 0., ..., 0., 0., 0.]),\n",
              " 'zones': array([0., 0., 0., ..., 0., 0., 0.]),\n",
              " 'vagueness': array([0., 0., 0., ..., 0., 0., 0.]),\n",
              " 'forbidden': array([0., 0., 0., ..., 0., 0., 0.]),\n",
              " 'eummelihs': array([0., 0., 0., ..., 0., 0., 0.]),\n",
              " 'pirie': array([0., 0., 0., ..., 0., 0., 0.]),\n",
              " 'manuel': array([0., 0., 0., ..., 0., 0., 0.]),\n",
              " 'dud': array([0., 0., 0., ..., 0., 0., 0.]),\n",
              " 'grandly': array([0., 0., 0., ..., 0., 0., 0.]),\n",
              " 'tutorials': array([0., 0., 0., ..., 0., 0., 0.]),\n",
              " 'forecasters': array([0., 0., 0., ..., 0., 0., 0.]),\n",
              " \"receptionist's\": array([0., 0., 0., ..., 0., 0., 0.]),\n",
              " 'lineage': array([0., 0., 0., ..., 0., 0., 0.]),\n",
              " 'pointer': array([0., 0., 0., ..., 0., 0., 0.]),\n",
              " 'gunfights': array([0., 0., 0., ..., 0., 0., 0.]),\n",
              " 'edging': array([0., 0., 0., ..., 0., 0., 0.]),\n",
              " '1956': array([0., 0., 0., ..., 0., 0., 0.]),\n",
              " 'rarity': array([0., 0., 0., ..., 0., 0., 0.]),\n",
              " 'fuller': array([0., 0., 0., ..., 0., 0., 0.]),\n",
              " 'self-redefinition': array([0., 0., 0., ..., 0., 0., 0.]),\n",
              " 'blunts': array([0., 0., 0., ..., 0., 0., 0.]),\n",
              " 'non-com': array([0., 0., 0., ..., 0., 0., 0.]),\n",
              " 'stringing': array([0., 0., 0., ..., 0., 0., 0.]),\n",
              " 'grizzled': array([0., 0., 0., ..., 0., 0., 0.]),\n",
              " 'wasteland': array([0., 0., 0., ..., 0., 0., 0.]),\n",
              " 'noel': array([0., 0., 0., ..., 0., 0., 0.]),\n",
              " \"culture's\": array([0., 0., 0., ..., 0., 0., 0.]),\n",
              " 'co-occurring': array([0., 0., 0., ..., 0., 0., 0.]),\n",
              " 'ewe': array([0., 0., 0., ..., 0., 0., 0.]),\n",
              " \"contractor's\": array([0., 0., 0., ..., 0., 0., 0.]),\n",
              " 'double': array([0., 0., 0., ..., 0., 0., 0.]),\n",
              " 'cagey': array([0., 0., 0., ..., 0., 0., 0.]),\n",
              " 'privacy': array([0., 0., 0., ..., 0., 0., 0.]),\n",
              " 'tumefaciens': array([0., 0., 0., ..., 0., 0., 0.]),\n",
              " 'beaujolais': array([0., 0., 0., ..., 0., 0., 0.]),\n",
              " 'surpassed': array([0., 0., 0., ..., 0., 0., 0.]),\n",
              " 'lunation': array([0., 0., 0., ..., 0., 0., 0.]),\n",
              " 'unlimited': array([0., 0., 0., ..., 0., 0., 0.]),\n",
              " 'scandinavia': array([0., 0., 0., ..., 0., 0., 0.]),\n",
              " 'colquitt': array([0., 0., 0., ..., 0., 0., 0.]),\n",
              " 'cartons': array([0., 0., 0., ..., 0., 0., 0.]),\n",
              " 'grossly': array([0., 0., 0., ..., 0., 0., 0.]),\n",
              " 'ruling-class': array([0., 0., 0., ..., 0., 0., 0.]),\n",
              " 'laxness': array([0., 0., 0., ..., 0., 0., 0.]),\n",
              " 'feedings': array([0., 0., 0., ..., 0., 0., 0.]),\n",
              " 'sociality': array([0., 0., 0., ..., 0., 0., 0.]),\n",
              " 'efficiency': array([0., 0., 0., ..., 0., 0., 0.]),\n",
              " 'saxophonist': array([0., 0., 0., ..., 0., 0., 0.]),\n",
              " 'shade-darkened': array([0., 0., 0., ..., 0., 0., 0.]),\n",
              " 'muffler': array([0., 0., 0., ..., 0., 0., 0.]),\n",
              " 'pumpkin': array([0., 0., 0., ..., 0., 0., 0.]),\n",
              " 'primly': array([0., 0., 0., ..., 0., 0., 0.]),\n",
              " 'bifocal': array([0., 0., 0., ..., 0., 0., 0.]),\n",
              " 'punditry': array([0., 0., 0., ..., 0., 0., 0.]),\n",
              " 'humanistic': array([0., 0., 0., ..., 0., 0., 0.]),\n",
              " 'virtue': array([0., 0., 0., ..., 0., 0., 0.]),\n",
              " 'created': array([0., 0., 0., ..., 0., 0., 0.]),\n",
              " 'withered': array([0., 0., 0., ..., 0., 0., 0.]),\n",
              " 'bedlam': array([0., 0., 0., ..., 0., 0., 0.]),\n",
              " 'sintered': array([0., 0., 0., ..., 0., 0., 0.]),\n",
              " 'savoring': array([0., 0., 0., ..., 0., 0., 0.]),\n",
              " 'silos': array([0., 0., 0., ..., 0., 0., 0.]),\n",
              " 'disorganization': array([0., 0., 0., ..., 0., 0., 0.]),\n",
              " 'inventing': array([0., 0., 0., ..., 0., 0., 0.]),\n",
              " 'disrupts': array([0., 0., 0., ..., 0., 0., 0.]),\n",
              " 'dire': array([0., 0., 0., ..., 0., 0., 0.]),\n",
              " 'lanes': array([0., 0., 0., ..., 0., 0., 0.]),\n",
              " 'kinesthetically': array([0., 0., 0., ..., 0., 0., 0.]),\n",
              " 'ejaculated': array([0., 0., 0., ..., 0., 0., 0.]),\n",
              " 'flicked': array([0., 0., 0., ..., 0., 0., 0.]),\n",
              " 'symptom': array([0., 0., 0., ..., 0., 0., 0.]),\n",
              " 'picnics': array([0., 0., 0., ..., 0., 0., 0.]),\n",
              " 'pills': array([0., 0., 0., ..., 0., 0., 0.]),\n",
              " 'neumann': array([0., 0., 0., ..., 0., 0., 0.]),\n",
              " 'intensifying': array([0., 0., 0., ..., 0., 0., 0.]),\n",
              " 'bombproof': array([0., 0., 0., ..., 0., 0., 0.]),\n",
              " 'cushion': array([0., 0., 0., ..., 0., 0., 0.]),\n",
              " 'rak': array([0., 0., 0., ..., 0., 0., 0.]),\n",
              " '0.080-in.': array([0., 0., 0., ..., 0., 0., 0.]),\n",
              " 'unskilled': array([0., 0., 0., ..., 0., 0., 0.]),\n",
              " '59': array([0., 0., 0., ..., 0., 0., 0.]),\n",
              " 'gainesville': array([0., 0., 0., ..., 0., 0., 0.]),\n",
              " 'custom': array([0., 0., 0., ..., 0., 0., 0.]),\n",
              " 'tankers': array([0., 0., 0., ..., 0., 0., 0.]),\n",
              " \"trippin'\": array([0., 0., 0., ..., 0., 0., 0.]),\n",
              " 'darius': array([0., 0., 0., ..., 0., 0., 0.]),\n",
              " 'champs': array([0., 0., 0., ..., 0., 0., 0.]),\n",
              " 'grinsfelder': array([0., 0., 0., ..., 0., 0., 0.]),\n",
              " 'avis': array([0., 0., 0., ..., 0., 0., 0.]),\n",
              " 'hepker': array([0., 0., 0., ..., 0., 0., 0.]),\n",
              " 'comedian': array([0., 0., 0., ..., 0., 0., 0.]),\n",
              " 'earp': array([0., 0., 0., ..., 0., 0., 0.]),\n",
              " 'murderers': array([0., 0., 0., ..., 0., 0., 0.]),\n",
              " 'hazel': array([0., 0., 0., ..., 0., 0., 0.]),\n",
              " 'stepson': array([0., 0., 0., ..., 0., 0., 0.]),\n",
              " 'blossom': array([0., 0., 0., ..., 0., 0., 0.]),\n",
              " 'liberace': array([0., 0., 0., ..., 0., 0., 0.]),\n",
              " 'product': array([0., 0., 0., ..., 0., 0., 0.]),\n",
              " 'cornell': array([0., 0., 0., ..., 0., 0., 0.]),\n",
              " 'stews': array([0., 0., 0., ..., 0., 0., 0.]),\n",
              " 'underwent': array([0., 0., 0., ..., 0., 0., 0.]),\n",
              " 'verify': array([0., 0., 0., ..., 0., 0., 0.]),\n",
              " 'outwit': array([0., 0., 0., ..., 0., 0., 0.]),\n",
              " 'gutter': array([0., 0., 0., ..., 0., 0., 0.]),\n",
              " '463-degrees-c': array([0., 0., 0., ..., 0., 0., 0.]),\n",
              " 'cabins': array([0., 0., 0., ..., 0., 0., 0.]),\n",
              " 'outgrowth': array([0., 0., 0., ..., 0., 0., 0.]),\n",
              " 'spiraled': array([0., 0., 0., ..., 0., 0., 0.]),\n",
              " 'vessel': array([0., 0., 0., ..., 0., 0., 0.]),\n",
              " 'inwardly': array([0., 0., 0., ..., 0., 0., 0.]),\n",
              " 'jeweled': array([0., 0., 0., ..., 0., 0., 0.]),\n",
              " 'receave': array([0., 0., 0., ..., 0., 0., 0.]),\n",
              " 'fenwick': array([0., 0., 0., ..., 0., 0., 0.]),\n",
              " 'favorite': array([0., 0., 0., ..., 0., 0., 0.]),\n",
              " 'inflicting': array([0., 0., 0., ..., 0., 0., 0.]),\n",
              " 'populaires': array([0., 0., 0., ..., 0., 0., 0.]),\n",
              " 'beady': array([0., 0., 0., ..., 0., 0., 0.]),\n",
              " \"benefactor's\": array([0., 0., 0., ..., 0., 0., 0.]),\n",
              " 'patronage': array([0., 0., 0., ..., 0., 0., 0.]),\n",
              " 'pastel-like': array([0., 0., 0., ..., 0., 0., 0.]),\n",
              " 'pompeii': array([0., 0., 0., ..., 0., 0., 0.]),\n",
              " 'creatures': array([0., 0., 0., ..., 0., 0., 0.]),\n",
              " \"seven-o'clock\": array([0., 0., 0., ..., 0., 0., 0.]),\n",
              " 'yard': array([0., 0., 0., ..., 0., 0., 0.]),\n",
              " 'victorians': array([0., 0., 0., ..., 0., 0., 0.]),\n",
              " 'unstuffy': array([0., 0., 0., ..., 0., 0., 0.]),\n",
              " 'bunkmates': array([0., 0., 0., ..., 0., 0., 0.]),\n",
              " 'telepathy': array([0., 0., 0., ..., 0., 0., 0.]),\n",
              " 'borland': array([0., 0., 0., ..., 0., 0., 0.]),\n",
              " 'soybean': array([0., 0., 0., ..., 0., 0., 0.]),\n",
              " 't.b.': array([0., 0., 0., ..., 0., 0., 0.]),\n",
              " \"sho'\": array([0., 0., 0., ..., 0., 0., 0.]),\n",
              " 'contraceptive': array([0., 0., 0., ..., 0., 0., 0.]),\n",
              " 'geniuses': array([0., 0., 0., ..., 0., 0., 0.]),\n",
              " 'escorts': array([0., 0., 0., ..., 0., 0., 0.]),\n",
              " 'non-literary': array([0., 0., 0., ..., 0., 0., 0.]),\n",
              " 'immortality': array([0., 0., 0., ..., 0., 0., 0.]),\n",
              " 'debris': array([0., 0., 0., ..., 0., 0., 0.]),\n",
              " 'swirling': array([0., 0., 0., ..., 0., 0., 0.]),\n",
              " 'pigeon': array([0., 0., 0., ..., 0., 0., 0.]),\n",
              " 'burley': array([0., 0., 0., ..., 0., 0., 0.]),\n",
              " 'wan': array([0., 0., 0., ..., 0., 0., 0.]),\n",
              " 'frohock': array([0., 0., 0., ..., 0., 0., 0.]),\n",
              " \"hal's\": array([0., 0., 0., ..., 0., 0., 0.]),\n",
              " 'octopus': array([0., 0., 0., ..., 0., 0., 0.]),\n",
              " 'tensile': array([0., 0., 0., ..., 0., 0., 0.]),\n",
              " 'nouvelle': array([0., 0., 0., ..., 0., 0., 0.]),\n",
              " 'endowment': array([0., 0., 0., ..., 0., 0., 0.]),\n",
              " 'precincts': array([0., 0., 0., ..., 0., 0., 0.]),\n",
              " 'ingenuity': array([0., 0., 0., ..., 0., 0., 0.]),\n",
              " 'forge': array([0., 0., 0., ..., 0., 0., 0.]),\n",
              " 'calling': array([0., 0., 0., ..., 0., 0., 0.]),\n",
              " 'swore': array([0., 0., 0., ..., 0., 0., 0.]),\n",
              " 'preaching': array([0., 0., 0., ..., 0., 0., 0.]),\n",
              " 'benelux': array([0., 0., 0., ..., 0., 0., 0.]),\n",
              " 'hemorrhage': array([0., 0., 0., ..., 0., 0., 0.]),\n",
              " 'colloidal': array([0., 0., 0., ..., 0., 0., 0.]),\n",
              " 'marital': array([0., 0., 0., ..., 0., 0., 0.]),\n",
              " 'superiors': array([0., 0., 0., ..., 0., 0., 0.]),\n",
              " '$90': array([0., 0., 0., ..., 0., 0., 0.]),\n",
              " 'flat-topped': array([0., 0., 0., ..., 0., 0., 0.]),\n",
              " 'frans': array([0., 0., 0., ..., 0., 0., 0.]),\n",
              " 'broadest': array([0., 0., 0., ..., 0., 0., 0.]),\n",
              " 'outboard': array([0., 0., 0., ..., 0., 0., 0.]),\n",
              " 'malmud': array([0., 0., 0., ..., 0., 0., 0.]),\n",
              " 'provided': array([0., 0., 0., ..., 0., 0., 0.]),\n",
              " 'maladaptive': array([0., 0., 0., ..., 0., 0., 0.]),\n",
              " 'troubling': array([0., 0., 0., ..., 0., 0., 0.]),\n",
              " 'advertisements': array([0., 0., 0., ..., 0., 0., 0.]),\n",
              " 'tugged': array([0., 0., 0., ..., 0., 0., 0.]),\n",
              " 'discriminate': array([0., 0., 0., ..., 0., 0., 0.]),\n",
              " \"wheelan's\": array([0., 0., 0., ..., 0., 0., 0.]),\n",
              " \"'60\": array([0., 0., 0., ..., 0., 0., 0.]),\n",
              " 'uncertain': array([0., 0., 0., ..., 0., 0., 0.]),\n",
              " 'dipylon': array([0., 0., 0., ..., 0., 0., 0.]),\n",
              " 'ainsley': array([0., 0., 0., ..., 0., 0., 0.]),\n",
              " 'relevant': array([0., 0., 0., ..., 0., 0., 0.]),\n",
              " 'blanket': array([0., 0., 0., ..., 0., 0., 0.]),\n",
              " 'barry': array([0., 0., 0., ..., 0., 0., 0.]),\n",
              " 'graybeard': array([0., 0., 0., ..., 0., 0., 0.]),\n",
              " 'springfield': array([0., 0., 0., ..., 0., 0., 0.]),\n",
              " 'steering': array([0., 0., 0., ..., 0., 0., 0.]),\n",
              " 'attempts': array([0., 0., 0., ..., 0., 0., 0.]),\n",
              " 'tax-exempt': array([0., 0., 0., ..., 0., 0., 0.]),\n",
              " \"segovia's\": array([0., 0., 0., ..., 0., 0., 0.]),\n",
              " 'bastion': array([0., 0., 0., ..., 0., 0., 0.]),\n",
              " 'sundays': array([0., 0., 0., ..., 0., 0., 0.]),\n",
              " 'unquenched': array([0., 0., 0., ..., 0., 0., 0.]),\n",
              " 'levitt': array([0., 0., 0., ..., 0., 0., 0.]),\n",
              " 'goal-values': array([0., 0., 0., ..., 0., 0., 0.]),\n",
              " 'bullets': array([0., 0., 0., ..., 0., 0., 0.]),\n",
              " 'hung': array([0., 0., 0., ..., 0., 0., 0.]),\n",
              " 'virtuosity': array([0., 0., 0., ..., 0., 0., 0.]),\n",
              " 'russian': array([0., 0., 0., ..., 0., 0., 0.]),\n",
              " 'unbalanced': array([0., 0., 0., ..., 0., 0., 0.]),\n",
              " 'explores': array([0., 0., 0., ..., 0., 0., 0.]),\n",
              " 'disruptions': array([0., 0., 0., ..., 0., 0., 0.]),\n",
              " 'segment': array([0., 0., 0., ..., 0., 0., 0.]),\n",
              " \"don't-know's\": array([0., 0., 0., ..., 0., 0., 0.]),\n",
              " 'partakes': array([0., 0., 0., ..., 0., 0., 0.]),\n",
              " 'assassinated': array([0., 0., 0., ..., 0., 0., 0.]),\n",
              " 'inexperience': array([0., 0., 0., ..., 0., 0., 0.]),\n",
              " 'yields': array([0., 0., 0., ..., 0., 0., 0.]),\n",
              " 'defined': array([0., 0., 0., ..., 0., 0., 0.]),\n",
              " 'aspires': array([0., 0., 0., ..., 0., 0., 0.]),\n",
              " 'outcomes': array([0., 0., 0., ..., 0., 0., 0.]),\n",
              " 'dogmatism': array([0., 0., 0., ..., 0., 0., 0.]),\n",
              " 'settings': array([0., 0., 0., ..., 0., 0., 0.]),\n",
              " 'sea-road': array([0., 0., 0., ..., 0., 0., 0.]),\n",
              " 'coagulating': array([0., 0., 0., ..., 0., 0., 0.]),\n",
              " 'linz': array([0., 0., 0., ..., 0., 0., 0.]),\n",
              " 'baci': array([0., 0., 0., ..., 0., 0., 0.]),\n",
              " '5-7': array([0., 0., 0., ..., 0., 0., 0.]),\n",
              " \"mijbil's\": array([0., 0., 0., ..., 0., 0., 0.]),\n",
              " 'promoters': array([0., 0., 0., ..., 0., 0., 0.]),\n",
              " 'ambrose': array([0., 0., 0., ..., 0., 0., 0.]),\n",
              " 'perchance': array([0., 0., 0., ..., 0., 0., 0.]),\n",
              " 'submissions': array([0., 0., 0., ..., 0., 0., 0.]),\n",
              " \"shafer's\": array([0., 0., 0., ..., 0., 0., 0.]),\n",
              " 'determinant': array([0., 0., 0., ..., 0., 0., 0.]),\n",
              " 'divest': array([0., 0., 0., ..., 0., 0., 0.]),\n",
              " 'mother-in-law': array([0., 0., 0., ..., 0., 0., 0.]),\n",
              " 'eva': array([0., 0., 0., ..., 0., 0., 0.]),\n",
              " 'triangular': array([0., 0., 0., ..., 0., 0., 0.]),\n",
              " 'adam': array([0., 0., 0., ..., 0., 0., 0.]),\n",
              " 'socioeconomic': array([0., 0., 0., ..., 0., 0., 0.]),\n",
              " 'drama': array([0., 0., 0., ..., 0., 0., 0.]),\n",
              " 'faulted': array([0., 0., 0., ..., 0., 0., 0.]),\n",
              " 'rockettes': array([0., 0., 0., ..., 0., 0., 0.]),\n",
              " 'crash': array([0., 0., 0., ..., 0., 0., 0.]),\n",
              " 'arbitration': array([0., 0., 0., ..., 0., 0., 0.]),\n",
              " 'glorious': array([0., 0., 0., ..., 0., 0., 0.]),\n",
              " \"way's\": array([0., 0., 0., ..., 0., 0., 0.]),\n",
              " 'deepen': array([0., 0., 0., ..., 0., 0., 0.]),\n",
              " 'tetragonal': array([0., 0., 0., ..., 0., 0., 0.]),\n",
              " 'full-scale': array([0., 0., 0., ..., 0., 0., 0.]),\n",
              " 'wallingford': array([0., 0., 0., ..., 0., 0., 0.]),\n",
              " 'quipping': array([0., 0., 0., ..., 0., 0., 0.]),\n",
              " 'stern': array([0., 0., 0., ..., 0., 0., 0.]),\n",
              " '2-3/4': array([0., 0., 0., ..., 0., 0., 0.]),\n",
              " 'library': array([0., 0., 0., ..., 0., 0., 0.]),\n",
              " 'kleist': array([0., 0., 0., ..., 0., 0., 0.]),\n",
              " 'near-strangers': array([0., 0., 0., ..., 0., 0., 0.]),\n",
              " 'undermine': array([0., 0., 0., ..., 0., 0., 0.]),\n",
              " 'predomination': array([0., 0., 0., ..., 0., 0., 0.]),\n",
              " 'london-bred': array([0., 0., 0., ..., 0., 0., 0.]),\n",
              " 'double-entendre': array([0., 0., 0., ..., 0., 0., 0.]),\n",
              " '2433': array([0., 0., 0., ..., 0., 0., 0.]),\n",
              " 'reliance': array([0., 0., 0., ..., 0., 0., 0.]),\n",
              " 'electric-sewer-water': array([0., 0., 0., ..., 0., 0., 0.]),\n",
              " 'inoculations': array([0., 0., 0., ..., 0., 0., 0.]),\n",
              " 'p.d.i.': array([0., 0., 0., ..., 0., 0., 0.]),\n",
              " 'gaming-card': array([0., 0., 0., ..., 0., 0., 0.]),\n",
              " 'category': array([0., 0., 0., ..., 0., 0., 0.]),\n",
              " 'pre-shaped': array([0., 0., 0., ..., 0., 0., 0.]),\n",
              " 'observing': array([0., 0., 0., ..., 0., 0., 0.]),\n",
              " 'reported': array([0., 0., 0., ..., 0., 0., 0.]),\n",
              " 'ventura': array([0., 0., 0., ..., 0., 0., 0.]),\n",
              " 'girl-friend': array([0., 0., 0., ..., 0., 0., 0.]),\n",
              " 'feedback': array([0., 0., 0., ..., 0., 0., 0.]),\n",
              " 'bed-type': array([0., 0., 0., ..., 0., 0., 0.]),\n",
              " 'bosley': array([0., 0., 0., ..., 0., 0., 0.]),\n",
              " 'impact': array([0., 0., 0., ..., 0., 0., 0.]),\n",
              " 'wrought-iron': array([0., 0., 0., ..., 0., 0., 0.]),\n",
              " 'lions': array([0., 0., 0., ..., 0., 0., 0.]),\n",
              " 'bombed': array([0., 0., 0., ..., 0., 0., 0.]),\n",
              " 'lefthanders': array([0., 0., 0., ..., 0., 0., 0.]),\n",
              " 'volunteered': array([0., 0., 0., ..., 0., 0., 0.]),\n",
              " 'eeg': array([0., 0., 0., ..., 0., 0., 0.]),\n",
              " 'copes': array([0., 0., 0., ..., 0., 0., 0.]),\n",
              " 'forever-cathy': array([0., 0., 0., ..., 0., 0., 0.]),\n",
              " 'harder': array([0., 0., 0., ..., 0., 0., 0.]),\n",
              " 'piss': array([0., 0., 0., ..., 0., 0., 0.]),\n",
              " 'other': array([0., 0., 0., ..., 0., 0., 0.]),\n",
              " '80,000': array([0., 0., 0., ..., 0., 0., 0.]),\n",
              " 'sovereign': array([0., 0., 0., ..., 0., 0., 0.]),\n",
              " 'wicker': array([0., 0., 0., ..., 0., 0., 0.]),\n",
              " 'tom': array([0., 0., 0., ..., 0., 0., 0.]),\n",
              " 'spun': array([0., 0., 0., ..., 0., 0., 0.]),\n",
              " 'fetish': array([0., 0., 0., ..., 0., 0., 0.]),\n",
              " 'psychically': array([0., 0., 0., ..., 0., 0., 0.]),\n",
              " 'shitts': array([0., 0., 0., ..., 0., 0., 0.]),\n",
              " 'gloomily': array([0., 0., 0., ..., 0., 0., 0.]),\n",
              " 'de': array([0., 0., 0., ..., 0., 0., 0.]),\n",
              " \"group's\": array([0., 0., 0., ..., 0., 0., 0.]),\n",
              " 'whole': array([0., 0., 0., ..., 0., 0., 0.]),\n",
              " 'consisting': array([0., 0., 0., ..., 0., 0., 0.]),\n",
              " 'secure': array([0., 0., 0., ..., 0., 0., 0.]),\n",
              " 'afghans': array([0., 0., 0., ..., 0., 0., 0.]),\n",
              " 'longing': array([0., 0., 0., ..., 0., 0., 0.]),\n",
              " 'mores': array([0., 0., 0., ..., 0., 0., 0.]),\n",
              " 'overalls': array([0., 0., 0., ..., 0., 0., 0.]),\n",
              " 'amy': array([0., 0., 0., ..., 0., 0., 0.]),\n",
              " 'radish': array([0., 0., 0., ..., 0., 0., 0.]),\n",
              " 'birdie': array([0., 0., 0., ..., 0., 0., 0.]),\n",
              " '1907': array([0., 0., 0., ..., 0., 0., 0.]),\n",
              " 'ah6': array([0., 0., 0., ..., 0., 0., 0.]),\n",
              " 'franciscans': array([0., 0., 0., ..., 0., 0., 0.]),\n",
              " 'managements': array([0., 0., 0., ..., 0., 0., 0.]),\n",
              " 'concentrate': array([0., 0., 0., ..., 0., 0., 0.]),\n",
              " 'bickering': array([0., 0., 0., ..., 0., 0., 0.]),\n",
              " 'heaves': array([0., 0., 0., ..., 0., 0., 0.]),\n",
              " 'disappointed': array([0., 0., 0., ..., 0., 0., 0.]),\n",
              " 'brook': array([0., 0., 0., ..., 0., 0., 0.]),\n",
              " 'dolan': array([0., 0., 0., ..., 0., 0., 0.]),\n",
              " 'gazes': array([0., 0., 0., ..., 0., 0., 0.]),\n",
              " 'lowest': array([0., 0., 0., ..., 0., 0., 0.]),\n",
              " '4.3': array([0., 0., 0., ..., 0., 0., 0.]),\n",
              " 'cynically': array([0., 0., 0., ..., 0., 0., 0.]),\n",
              " '3.5%': array([0., 0., 0., ..., 0., 0., 0.]),\n",
              " 'family-community': array([0., 0., 0., ..., 0., 0., 0.]),\n",
              " 'blunted': array([0., 0., 0., ..., 0., 0., 0.]),\n",
              " 'plugged': array([0., 0., 0., ..., 0., 0., 0.]),\n",
              " 'cringed': array([0., 0., 0., ..., 0., 0., 0.]),\n",
              " 'riddance': array([0., 0., 0., ..., 0., 0., 0.]),\n",
              " 'pillars': array([0., 0., 0., ..., 0., 0., 0.]),\n",
              " 'indescribable': array([0., 0., 0., ..., 0., 0., 0.]),\n",
              " 'aromas': array([0., 0., 0., ..., 0., 0., 0.]),\n",
              " 'tijuana': array([0., 0., 0., ..., 0., 0., 0.]),\n",
              " 'ranches': array([0., 0., 0., ..., 0., 0., 0.]),\n",
              " 'cherry-flavored': array([0., 0., 0., ..., 0., 0., 0.]),\n",
              " 'churchly': array([0., 0., 0., ..., 0., 0., 0.]),\n",
              " 'kindest': array([0., 0., 0., ..., 0., 0., 0.]),\n",
              " 'reagents': array([0., 0., 0., ..., 0., 0., 0.]),\n",
              " 'janitors': array([0., 0., 0., ..., 0., 0., 0.]),\n",
              " 'incomprehension': array([0., 0., 0., ..., 0., 0., 0.]),\n",
              " 'wakened': array([0., 0., 0., ..., 0., 0., 0.]),\n",
              " 'fire-resistant': array([0., 0., 0., ..., 0., 0., 0.]),\n",
              " 'weeds': array([0., 0., 0., ..., 0., 0., 0.]),\n",
              " 'radius': array([0., 0., 0., ..., 0., 0., 0.]),\n",
              " 'north-bound': array([0., 0., 0., ..., 0., 0., 0.]),\n",
              " 'praisegod': array([0., 0., 0., ..., 0., 0., 0.]),\n",
              " 'mannerhouse': array([0., 0., 0., ..., 0., 0., 0.]),\n",
              " 'high-resolution': array([0., 0., 0., ..., 0., 0., 0.]),\n",
              " 'fatima': array([0., 0., 0., ..., 0., 0., 0.]),\n",
              " 'tilling': array([0., 0., 0., ..., 0., 0., 0.]),\n",
              " 'psychotherapeutic': array([0., 0., 0., ..., 0., 0., 0.]),\n",
              " 'bolger': array([0., 0., 0., ..., 0., 0., 0.]),\n",
              " 'parsimonious': array([0., 0., 0., ..., 0., 0., 0.]),\n",
              " 'ich': array([0., 0., 0., ..., 0., 0., 0.]),\n",
              " 'committeeman': array([0., 0., 0., ..., 0., 0., 0.]),\n",
              " 'octavia': array([0., 0., 0., ..., 0., 0., 0.]),\n",
              " 'properly': array([0., 0., 0., ..., 0., 0., 0.]),\n",
              " 'goings': array([0., 0., 0., ..., 0., 0., 0.]),\n",
              " 'poignantly': array([0., 0., 0., ..., 0., 0., 0.]),\n",
              " \"family's\": array([0., 0., 0., ..., 0., 0., 0.]),\n",
              " 'creak': array([0., 0., 0., ..., 0., 0., 0.]),\n",
              " 'spine-chilling': array([0., 0., 0., ..., 0., 0., 0.]),\n",
              " 'credited': array([0., 0., 0., ..., 0., 0., 0.]),\n",
              " 'clothbound': array([0., 0., 0., ..., 0., 0., 0.]),\n",
              " '38-point': array([0., 0., 0., ..., 0., 0., 0.]),\n",
              " 'prokofieff': array([0., 0., 0., ..., 0., 0., 0.]),\n",
              " 'chronological': array([0., 0., 0., ..., 0., 0., 0.]),\n",
              " 'thawed': array([0., 0., 0., ..., 0., 0., 0.]),\n",
              " 'imponderable': array([0., 0., 0., ..., 0., 0., 0.]),\n",
              " 'jesus': array([0., 0., 0., ..., 0., 0., 0.]),\n",
              " 'homicide': array([0., 0., 0., ..., 0., 0., 0.]),\n",
              " 'sprayed': array([0., 0., 0., ..., 0., 0., 0.]),\n",
              " 'pork-barrel': array([0., 0., 0., ..., 0., 0., 0.]),\n",
              " 'brotherhood': array([0., 0., 0., ..., 0., 0., 0.]),\n",
              " 'weber': array([0., 0., 0., ..., 0., 0., 0.]),\n",
              " 'musclemen': array([0., 0., 0., ..., 0., 0., 0.]),\n",
              " 'adirondack': array([0., 0., 0., ..., 0., 0., 0.]),\n",
              " 'flagrant': array([0., 0., 0., ..., 0., 0., 0.]),\n",
              " 'movement': array([0., 0., 0., ..., 0., 0., 0.]),\n",
              " 'congregational': array([0., 0., 0., ..., 0., 0., 0.]),\n",
              " 'subrogation': array([0., 0., 0., ..., 0., 0., 0.]),\n",
              " 'instance': array([0., 0., 0., ..., 0., 0., 0.]),\n",
              " 'self-defeating': array([0., 0., 0., ..., 0., 0., 0.]),\n",
              " 'promulgating': array([0., 0., 0., ..., 0., 0., 0.]),\n",
              " 'jacksonville': array([0., 0., 0., ..., 0., 0., 0.]),\n",
              " 'fortin': array([0., 0., 0., ..., 0., 0., 0.]),\n",
              " 'grimly': array([0., 0., 0., ..., 0., 0., 0.]),\n",
              " 'maryland': array([0., 0., 0., ..., 0., 0., 0.]),\n",
              " '1868': array([0., 0., 0., ..., 0., 0., 0.]),\n",
              " 'presiding': array([0., 0., 0., ..., 0., 0., 0.]),\n",
              " 'asymmetry': array([0., 0., 0., ..., 0., 0., 0.]),\n",
              " 'xylophones': array([0., 0., 0., ..., 0., 0., 0.]),\n",
              " 'egrets': array([0., 0., 0., ..., 0., 0., 0.]),\n",
              " 'galling': array([0., 0., 0., ..., 0., 0., 0.]),\n",
              " 'christine': array([0., 0., 0., ..., 0., 0., 0.]),\n",
              " 'expiation': array([0., 0., 0., ..., 0., 0., 0.]),\n",
              " 'raked': array([0., 0., 0., ..., 0., 0., 0.]),\n",
              " 'preambles': array([0., 0., 0., ..., 0., 0., 0.]),\n",
              " 'folds': array([0., 0., 0., ..., 0., 0., 0.]),\n",
              " 'thrift': array([0., 0., 0., ..., 0., 0., 0.]),\n",
              " 'oskar': array([0., 0., 0., ..., 0., 0., 0.]),\n",
              " 'quintillion': array([0., 0., 0., ..., 0., 0., 0.]),\n",
              " 'merrily': array([0., 0., 0., ..., 0., 0., 0.]),\n",
              " 'confront': array([0., 0., 0., ..., 0., 0., 0.]),\n",
              " \"high's\": array([0., 0., 0., ..., 0., 0., 0.]),\n",
              " 'unprepared': array([0., 0., 0., ..., 0., 0., 0.]),\n",
              " 'sokolov': array([0., 0., 0., ..., 0., 0., 0.]),\n",
              " 'high-current': array([0., 0., 0., ..., 0., 0., 0.]),\n",
              " 'judea': array([0., 0., 0., ..., 0., 0., 0.]),\n",
              " 'potentialities': array([0., 0., 0., ..., 0., 0., 0.]),\n",
              " 'traps': array([0., 0., 0., ..., 0., 0., 0.]),\n",
              " 'few': array([0., 0., 0., ..., 0., 0., 0.]),\n",
              " 'toni': array([0., 0., 0., ..., 0., 0., 0.]),\n",
              " '$7,000,000': array([0., 0., 0., ..., 0., 0., 0.]),\n",
              " 'arrowhead': array([0., 0., 0., ..., 0., 0., 0.]),\n",
              " \"stations'\": array([0., 0., 0., ..., 0., 0., 0.]),\n",
              " 'ludicrousness': array([0., 0., 0., ..., 0., 0., 0.]),\n",
              " 'madman': array([0., 0., 0., ..., 0., 0., 0.]),\n",
              " 'rushed': array([0., 0., 0., ..., 0., 0., 0.]),\n",
              " 'festivals': array([0., 0., 0., ..., 0., 0., 0.]),\n",
              " 'director': array([0., 0., 0., ..., 0., 0., 0.]),\n",
              " 'qua': array([0., 0., 0., ..., 0., 0., 0.]),\n",
              " 'athlete': array([0., 0., 0., ..., 0., 0., 0.]),\n",
              " 'spangle': array([0., 0., 0., ..., 0., 0., 0.]),\n",
              " 'deductible': array([0., 0., 0., ..., 0., 0., 0.]),\n",
              " 'beatniks': array([0., 0., 0., ..., 0., 0., 0.]),\n",
              " 'betting': array([0., 0., 0., ..., 0., 0., 0.]),\n",
              " 'delinquents': array([0., 0., 0., ..., 0., 0., 0.]),\n",
              " 'marsden': array([0., 0., 0., ..., 0., 0., 0.]),\n",
              " 'burrowing': array([0., 0., 0., ..., 0., 0., 0.]),\n",
              " 'suspicious': array([0., 0., 0., ..., 0., 0., 0.]),\n",
              " 'absorbing': array([0., 0., 0., ..., 0., 0., 0.]),\n",
              " 'monumentally': array([0., 0., 0., ..., 0., 0., 0.]),\n",
              " 'amalgamated': array([0., 0., 0., ..., 0., 0., 0.]),\n",
              " 'unexpectedly': array([0., 0., 0., ..., 0., 0., 0.]),\n",
              " 'fanned': array([0., 0., 0., ..., 0., 0., 0.]),\n",
              " 'surrendered': array([0., 0., 0., ..., 0., 0., 0.]),\n",
              " 'scrutinized': array([0., 0., 0., ..., 0., 0., 0.]),\n",
              " 'pseudonym': array([0., 0., 0., ..., 0., 0., 0.]),\n",
              " 'pleader': array([0., 0., 0., ..., 0., 0., 0.]),\n",
              " 'detested': array([0., 0., 0., ..., 0., 0., 0.]),\n",
              " 'cleansing': array([0., 0., 0., ..., 0., 0., 0.]),\n",
              " 'seaquarium': array([0., 0., 0., ..., 0., 0., 0.]),\n",
              " 'vice-presidents': array([0., 0., 0., ..., 0., 0., 0.]),\n",
              " 'pampa': array([0., 0., 0., ..., 0., 0., 0.]),\n",
              " 'vent': array([0., 0., 0., ..., 0., 0., 0.]),\n",
              " 'contributory': array([0., 0., 0., ..., 0., 0., 0.]),\n",
              " 'demoniac': array([0., 0., 0., ..., 0., 0., 0.]),\n",
              " 'socal': array([0., 0., 0., ..., 0., 0., 0.]),\n",
              " 'whiteleaf': array([0., 0., 0., ..., 0., 0., 0.]),\n",
              " 'nonreactivity': array([0., 0., 0., ..., 0., 0., 0.]),\n",
              " 'southern-republican': array([0., 0., 0., ..., 0., 0., 0.]),\n",
              " 'cosmologists': array([0., 0., 0., ..., 0., 0., 0.]),\n",
              " 'prohibit': array([0., 0., 0., ..., 0., 0., 0.]),\n",
              " 'diocese': array([0., 0., 0., ..., 0., 0., 0.]),\n",
              " 'flem': array([0., 0., 0., ..., 0., 0., 0.]),\n",
              " 'supt.': array([0., 0., 0., ..., 0., 0., 0.]),\n",
              " 'binoculars': array([0., 0., 0., ..., 0., 0., 0.]),\n",
              " 'condemning': array([0., 0., 0., ..., 0., 0., 0.]),\n",
              " 'damned': array([0., 0., 0., ..., 0., 0., 0.]),\n",
              " 'equipping': array([0., 0., 0., ..., 0., 0., 0.]),\n",
              " 'predominately': array([0., 0., 0., ..., 0., 0., 0.]),\n",
              " 'pigen': array([0., 0., 0., ..., 0., 0., 0.]),\n",
              " 'three-part': array([0., 0., 0., ..., 0., 0., 0.]),\n",
              " \"firm's\": array([0., 0., 0., ..., 0., 0., 0.]),\n",
              " 'congresses': array([0., 0., 0., ..., 0., 0., 0.]),\n",
              " '3,500': array([0., 0., 0., ..., 0., 0., 0.]),\n",
              " 'extirpating': array([0., 0., 0., ..., 0., 0., 0.]),\n",
              " 'garland': array([0., 0., 0., ..., 0., 0., 0.]),\n",
              " 'nuts': array([0., 0., 0., ..., 0., 0., 0.]),\n",
              " \"best's\": array([0., 0., 0., ..., 0., 0., 0.]),\n",
              " 'chopper': array([0., 0., 0., ..., 0., 0., 0.]),\n",
              " 'sagged': array([0., 0., 0., ..., 0., 0., 0.]),\n",
              " \"'52\": array([0., 0., 0., ..., 0., 0., 0.]),\n",
              " 'gregorius': array([0., 0., 0., ..., 0., 0., 0.]),\n",
              " 'news': array([0., 0., 0., ..., 0., 0., 0.]),\n",
              " 'brothers': array([0., 0., 0., ..., 0., 0., 0.]),\n",
              " 'bomb-proof': array([0., 0., 0., ..., 0., 0., 0.]),\n",
              " 'cabin': array([0., 0., 0., ..., 0., 0., 0.]),\n",
              " 'penna.': array([0., 0., 0., ..., 0., 0., 0.]),\n",
              " 'vidal': array([0., 0., 0., ..., 0., 0., 0.]),\n",
              " 'dequindre': array([0., 0., 0., ..., 0., 0., 0.]),\n",
              " 'tuscany': array([0., 0., 0., ..., 0., 0., 0.]),\n",
              " 'hoa-whup': array([0., 0., 0., ..., 0., 0., 0.]),\n",
              " 'topography': array([0., 0., 0., ..., 0., 0., 0.]),\n",
              " \"ch'in\": array([0., 0., 0., ..., 0., 0., 0.]),\n",
              " 'cedric': array([0., 0., 0., ..., 0., 0., 0.]),\n",
              " 'weatherbeaten': array([0., 0., 0., ..., 0., 0., 0.]),\n",
              " 'creases': array([0., 0., 0., ..., 0., 0., 0.]),\n",
              " 'poitrine': array([0., 0., 0., ..., 0., 0., 0.]),\n",
              " 'snake': array([0., 0., 0., ..., 0., 0., 0.]),\n",
              " 'finicky': array([0., 0., 0., ..., 0., 0., 0.]),\n",
              " 'alarmingly': array([0., 0., 0., ..., 0., 0., 0.]),\n",
              " '2:02.2': array([0., 0., 0., ..., 0., 0., 0.]),\n",
              " 'wop': array([0., 0., 0., ..., 0., 0., 0.]),\n",
              " 'corsi': array([0., 0., 0., ..., 0., 0., 0.]),\n",
              " 'prognoses': array([0., 0., 0., ..., 0., 0., 0.]),\n",
              " 'woodberry': array([0., 0., 0., ..., 0., 0., 0.]),\n",
              " 'chabrier': array([0., 0., 0., ..., 0., 0., 0.]),\n",
              " 'brussels': array([0., 0., 0., ..., 0., 0., 0.]),\n",
              " 'oratory': array([0., 0., 0., ..., 0., 0., 0.]),\n",
              " 'submitting': array([0., 0., 0., ..., 0., 0., 0.]),\n",
              " 'metamorphose': array([0., 0., 0., ..., 0., 0., 0.]),\n",
              " 'taxpayer': array([0., 0., 0., ..., 0., 0., 0.]),\n",
              " 'true': array([0., 0., 0., ..., 0., 0., 0.]),\n",
              " 'diety': array([0., 0., 0., ..., 0., 0., 0.]),\n",
              " 'delivery': array([0., 0., 0., ..., 0., 0., 0.]),\n",
              " 'intercept': array([0., 0., 0., ..., 0., 0., 0.]),\n",
              " 'dispenser': array([0., 0., 0., ..., 0., 0., 0.]),\n",
              " 'barrier': array([0., 0., 0., ..., 0., 0., 0.]),\n",
              " 'via': array([0., 0., 0., ..., 0., 0., 0.]),\n",
              " \"ruling's\": array([0., 0., 0., ..., 0., 0., 0.]),\n",
              " 'quaver': array([0., 0., 0., ..., 0., 0., 0.]),\n",
              " 'heavy-duty': array([0., 0., 0., ..., 0., 0., 0.]),\n",
              " 'bourn': array([0., 0., 0., ..., 0., 0., 0.]),\n",
              " 'liabilities': array([0., 0., 0., ..., 0., 0., 0.]),\n",
              " 'gulps': array([0., 0., 0., ..., 0., 0., 0.]),\n",
              " 'terrorized': array([0., 0., 0., ..., 0., 0., 0.]),\n",
              " 'shelf': array([0., 0., 0., ..., 0., 0., 0.]),\n",
              " 'dispense': array([0., 0., 0., ..., 0., 0., 0.]),\n",
              " 'convulsively': array([0., 0., 0., ..., 0., 0., 0.]),\n",
              " 'station': array([0., 0., 0., ..., 0., 0., 0.]),\n",
              " 'dispersed': array([0., 0., 0., ..., 0., 0., 0.]),\n",
              " 'mute': array([0., 0., 0., ..., 0., 0., 0.]),\n",
              " 'gracias': array([0., 0., 0., ..., 0., 0., 0.]),\n",
              " 'kingdoms': array([0., 0., 0., ..., 0., 0., 0.]),\n",
              " 'undependable': array([0., 0., 0., ..., 0., 0., 0.]),\n",
              " 'remove': array([0., 0., 0., ..., 0., 0., 0.]),\n",
              " 'hide-out': array([0., 0., 0., ..., 0., 0., 0.]),\n",
              " 'count': array([0., 0., 0., ..., 0., 0., 0.]),\n",
              " '**yg-globulin': array([0., 0., 0., ..., 0., 0., 0.]),\n",
              " 'duffel': array([0., 0., 0., ..., 0., 0., 0.]),\n",
              " 'shocker': array([0., 0., 0., ..., 0., 0., 0.]),\n",
              " 'bruited': array([0., 0., 0., ..., 0., 0., 0.]),\n",
              " 'level': array([0., 0., 0., ..., 0., 0., 0.]),\n",
              " 'willful': array([0., 0., 0., ..., 0., 0., 0.]),\n",
              " \"lawrence's\": array([0., 0., 0., ..., 0., 0., 0.]),\n",
              " 'top': array([0., 0., 0., ..., 0., 0., 0.]),\n",
              " '357': array([0., 0., 0., ..., 0., 0., 0.]),\n",
              " '434': array([0., 0., 0., ..., 0., 0., 0.]),\n",
              " 'perishing': array([0., 0., 0., ..., 0., 0., 0.]),\n",
              " 'whichever': array([0., 0., 0., ..., 0., 0., 0.]),\n",
              " 'year-to-year': array([0., 0., 0., ..., 0., 0., 0.]),\n",
              " 'weak': array([0., 0., 0., ..., 0., 0., 0.]),\n",
              " 'general-appeal': array([0., 0., 0., ..., 0., 0., 0.]),\n",
              " 'sardanapalus': array([0., 0., 0., ..., 0., 0., 0.]),\n",
              " 'reds': array([0., 0., 0., ..., 0., 0., 0.]),\n",
              " 'tiresome': array([0., 0., 0., ..., 0., 0., 0.]),\n",
              " 'enos': array([0., 0., 0., ..., 0., 0., 0.]),\n",
              " 'warranty': array([0., 0., 0., ..., 0., 0., 0.]),\n",
              " 'wesson': array([0., 0., 0., ..., 0., 0., 0.]),\n",
              " 'trampled': array([0., 0., 0., ..., 0., 0., 0.]),\n",
              " 'forwarded': array([0., 0., 0., ..., 0., 0., 0.]),\n",
              " '5-3': array([0., 0., 0., ..., 0., 0., 0.]),\n",
              " 'circumcision': array([0., 0., 0., ..., 0., 0., 0.]),\n",
              " 'hosses': array([0., 0., 0., ..., 0., 0., 0.]),\n",
              " 'digestible': array([0., 0., 0., ..., 0., 0., 0.]),\n",
              " 'shipped': array([0., 0., 0., ..., 0., 0., 0.]),\n",
              " 'sea-beach': array([0., 0., 0., ..., 0., 0., 0.]),\n",
              " 'wrinkled': array([0., 0., 0., ..., 0., 0., 0.]),\n",
              " 'pittsburgh': array([0., 0., 0., ..., 0., 0., 0.]),\n",
              " 'tightest': array([0., 0., 0., ..., 0., 0., 0.]),\n",
              " 'euphoria': array([0., 0., 0., ..., 0., 0., 0.]),\n",
              " 'interstellar': array([0., 0., 0., ..., 0., 0., 0.]),\n",
              " 'lockup': array([0., 0., 0., ..., 0., 0., 0.]),\n",
              " 'palsy': array([0., 0., 0., ..., 0., 0., 0.]),\n",
              " 'arenula': array([0., 0., 0., ..., 0., 0., 0.]),\n",
              " 'straining': array([0., 0., 0., ..., 0., 0., 0.]),\n",
              " 'snapper': array([0., 0., 0., ..., 0., 0., 0.]),\n",
              " 'blazon': array([0., 0., 0., ..., 0., 0., 0.]),\n",
              " 'paleo-': array([0., 0., 0., ..., 0., 0., 0.]),\n",
              " 'bracing': array([0., 0., 0., ..., 0., 0., 0.]),\n",
              " 'staten': array([0., 0., 0., ..., 0., 0., 0.]),\n",
              " 'shrove': array([0., 0., 0., ..., 0., 0., 0.]),\n",
              " 'births': array([0., 0., 0., ..., 0., 0., 0.]),\n",
              " 'probity': array([0., 0., 0., ..., 0., 0., 0.]),\n",
              " 'crowded': array([0., 0., 0., ..., 0., 0., 0.]),\n",
              " 'questioner': array([0., 0., 0., ..., 0., 0., 0.]),\n",
              " 'brigades': array([0., 0., 0., ..., 0., 0., 0.]),\n",
              " 'pacemaker': array([0., 0., 0., ..., 0., 0., 0.]),\n",
              " \"region's\": array([0., 0., 0., ..., 0., 0., 0.]),\n",
              " 'utah': array([0., 0., 0., ..., 0., 0., 0.]),\n",
              " 'nails': array([0., 0., 0., ..., 0., 0., 0.]),\n",
              " 'consigned': array([0., 0., 0., ..., 0., 0., 0.]),\n",
              " '$25': array([0., 0., 0., ..., 0., 0., 0.]),\n",
              " 'turnpikes': array([0., 0., 0., ..., 0., 0., 0.]),\n",
              " 'abelson': array([0., 0., 0., ..., 0., 0., 0.]),\n",
              " 'projector': array([0., 0., 0., ..., 0., 0., 0.]),\n",
              " 'signaled': array([0., 0., 0., ..., 0., 0., 0.]),\n",
              " 'dogumenti': array([0., 0., 0., ..., 0., 0., 0.]),\n",
              " '1971': array([0., 0., 0., ..., 0., 0., 0.]),\n",
              " 'extraordinarily': array([0., 0., 0., ..., 0., 0., 0.]),\n",
              " 'lows': array([0., 0., 0., ..., 0., 0., 0.]),\n",
              " 'belts': array([0., 0., 0., ..., 0., 0., 0.]),\n",
              " '12-passenger': array([0., 0., 0., ..., 0., 0., 0.]),\n",
              " 'guam': array([0., 0., 0., ..., 0., 0., 0.]),\n",
              " 'maddalena': array([0., 0., 0., ..., 0., 0., 0.]),\n",
              " 'unction': array([0., 0., 0., ..., 0., 0., 0.]),\n",
              " 'alec': array([0., 0., 0., ..., 0., 0., 0.]),\n",
              " 'knuckles': array([0., 0., 0., ..., 0., 0., 0.]),\n",
              " 'hoffa': array([0., 0., 0., ..., 0., 0., 0.]),\n",
              " 'chroniclers': array([0., 0., 0., ..., 0., 0., 0.]),\n",
              " 're-establishing': array([0., 0., 0., ..., 0., 0., 0.]),\n",
              " 'fromm': array([0., 0., 0., ..., 0., 0., 0.]),\n",
              " 'crusades': array([0., 0., 0., ..., 0., 0., 0.]),\n",
              " 'tetrahalides': array([0., 0., 0., ..., 0., 0., 0.]),\n",
              " 'wonderingly': array([0., 0., 0., ..., 0., 0., 0.]),\n",
              " 'splinters': array([0., 0., 0., ..., 0., 0., 0.]),\n",
              " 'fielding': array([0., 0., 0., ..., 0., 0., 0.]),\n",
              " 'underhandedness': array([0., 0., 0., ..., 0., 0., 0.]),\n",
              " 'leggett': array([0., 0., 0., ..., 0., 0., 0.]),\n",
              " 'shoestrings': array([0., 0., 0., ..., 0., 0., 0.]),\n",
              " 's.s.': array([0., 0., 0., ..., 0., 0., 0.]),\n",
              " 'fritz': array([0., 0., 0., ..., 0., 0., 0.]),\n",
              " 'ruddy': array([0., 0., 0., ..., 0., 0., 0.]),\n",
              " 'peters': array([0., 0., 0., ..., 0., 0., 0.]),\n",
              " 'strikebreakers': array([0., 0., 0., ..., 0., 0., 0.]),\n",
              " 'whizzing': array([0., 0., 0., ..., 0., 0., 0.]),\n",
              " 'industralization': array([0., 0., 0., ..., 0., 0., 0.]),\n",
              " 'face-to-face': array([0., 0., 0., ..., 0., 0., 0.]),\n",
              " 'poorly': array([0., 0., 0., ..., 0., 0., 0.]),\n",
              " 'slaughtered': array([0., 0., 0., ..., 0., 0., 0.]),\n",
              " 'quirking': array([0., 0., 0., ..., 0., 0., 0.]),\n",
              " 'laodicean': array([0., 0., 0., ..., 0., 0., 0.]),\n",
              " 'hartsfield': array([0., 0., 0., ..., 0., 0., 0.]),\n",
              " 'decent': array([0., 0., 0., ..., 0., 0., 0.]),\n",
              " 'adopted': array([0., 0., 0., ..., 0., 0., 0.]),\n",
              " 'insurgence': array([0., 0., 0., ..., 0., 0., 0.]),\n",
              " 'resignation': array([0., 0., 0., ..., 0., 0., 0.]),\n",
              " \"wouldn't\": array([0., 0., 0., ..., 0., 0., 0.]),\n",
              " 'crupper': array([0., 0., 0., ..., 0., 0., 0.]),\n",
              " 'loveways': array([0., 0., 0., ..., 0., 0., 0.]),\n",
              " 'synagogue': array([0., 0., 0., ..., 0., 0., 0.]),\n",
              " 'dullest': array([0., 0., 0., ..., 0., 0., 0.]),\n",
              " 'puppy': array([0., 0., 0., ..., 0., 0., 0.]),\n",
              " 'multichannel': array([0., 0., 0., ..., 0., 0., 0.]),\n",
              " 'brushes': array([0., 0., 0., ..., 0., 0., 0.]),\n",
              " 'psychology': array([0., 0., 0., ..., 0., 0., 0.]),\n",
              " 'recruitment': array([0., 0., 0., ..., 0., 0., 0.]),\n",
              " 'connect': array([0., 0., 0., ..., 0., 0., 0.]),\n",
              " 'empedocles': array([0., 0., 0., ..., 0., 0., 0.]),\n",
              " 'portage': array([0., 0., 0., ..., 0., 0., 0.]),\n",
              " 'macon': array([0., 0., 0., ..., 0., 0., 0.]),\n",
              " 'unpacking': array([0., 0., 0., ..., 0., 0., 0.]),\n",
              " 'ortega': array([0., 0., 0., ..., 0., 0., 0.]),\n",
              " 'tillet': array([0., 0., 0., ..., 0., 0., 0.]),\n",
              " 'scalded': array([0., 0., 0., ..., 0., 0., 0.]),\n",
              " \"dustin'\": array([0., 0., 0., ..., 0., 0., 0.]),\n",
              " 'federalism': array([0., 0., 0., ..., 0., 0., 0.]),\n",
              " 'detergent': array([0., 0., 0., ..., 0., 0., 0.]),\n",
              " 'armed': array([0., 0., 0., ..., 0., 0., 0.]),\n",
              " 'palmed': array([0., 0., 0., ..., 0., 0., 0.]),\n",
              " 'oversize': array([0., 0., 0., ..., 0., 0., 0.]),\n",
              " 'amateurish': array([0., 0., 0., ..., 0., 0., 0.]),\n",
              " 'hurl': array([0., 0., 0., ..., 0., 0., 0.]),\n",
              " 'bolstering': array([0., 0., 0., ..., 0., 0., 0.]),\n",
              " 'bolshevistic': array([0., 0., 0., ..., 0., 0., 0.]),\n",
              " 'catalytic': array([0., 0., 0., ..., 0., 0., 0.]),\n",
              " 'perennially': array([0., 0., 0., ..., 0., 0., 0.]),\n",
              " 'murder': array([0., 0., 0., ..., 0., 0., 0.]),\n",
              " 'whispering': array([0., 0., 0., ..., 0., 0., 0.]),\n",
              " 'podolia': array([0., 0., 0., ..., 0., 0., 0.]),\n",
              " 'frills': array([0., 0., 0., ..., 0., 0., 0.]),\n",
              " '3-48': array([0., 0., 0., ..., 0., 0., 0.]),\n",
              " 'butts': array([0., 0., 0., ..., 0., 0., 0.]),\n",
              " 'uncap': array([0., 0., 0., ..., 0., 0., 0.]),\n",
              " 'earthquakes': array([0., 0., 0., ..., 0., 0., 0.]),\n",
              " 'divestiture': array([0., 0., 0., ..., 0., 0., 0.]),\n",
              " 'wildly': array([0., 0., 0., ..., 0., 0., 0.]),\n",
              " 'justitia': array([0., 0., 0., ..., 0., 0., 0.]),\n",
              " 'thousand-legged': array([0., 0., 0., ..., 0., 0., 0.]),\n",
              " 'skills': array([0., 0., 0., ..., 0., 0., 0.]),\n",
              " 'lioness': array([0., 0., 0., ..., 0., 0., 0.]),\n",
              " 'apron': array([0., 0., 0., ..., 0., 0., 0.]),\n",
              " 'activate': array([0., 0., 0., ..., 0., 0., 0.]),\n",
              " 'madrid': array([0., 0., 0., ..., 0., 0., 0.]),\n",
              " '120,000': array([0., 0., 0., ..., 0., 0., 0.]),\n",
              " 'faker': array([0., 0., 0., ..., 0., 0., 0.]),\n",
              " '1.10.4': array([0., 0., 0., ..., 0., 0., 0.]),\n",
              " 'clutches': array([0., 0., 0., ..., 0., 0., 0.]),\n",
              " 'interfered': array([0., 0., 0., ..., 0., 0., 0.]),\n",
              " \"artists'\": array([0., 0., 0., ..., 0., 0., 0.]),\n",
              " '$1.9': array([0., 0., 0., ..., 0., 0., 0.]),\n",
              " 'self-content': array([0., 0., 0., ..., 0., 0., 0.]),\n",
              " 'ecumenical': array([0., 0., 0., ..., 0., 0., 0.]),\n",
              " 'senilis': array([0., 0., 0., ..., 0., 0., 0.]),\n",
              " 'animated': array([0., 0., 0., ..., 0., 0., 0.]),\n",
              " 'atp': array([0., 0., 0., ..., 0., 0., 0.]),\n",
              " 'regimen': array([0., 0., 0., ..., 0., 0., 0.]),\n",
              " 'flexibility': array([0., 0., 0., ..., 0., 0., 0.]),\n",
              " 'fortune-happy': array([0., 0., 0., ..., 0., 0., 0.]),\n",
              " \"beauty's\": array([0., 0., 0., ..., 0., 0., 0.]),\n",
              " 'cameron': array([0., 0., 0., ..., 0., 0., 0.]),\n",
              " 'himself': array([0., 0., 0., ..., 0., 0., 0.]),\n",
              " 'emancipate': array([0., 0., 0., ..., 0., 0., 0.]),\n",
              " 'peale': array([0., 0., 0., ..., 0., 0., 0.]),\n",
              " '2,800,000': array([0., 0., 0., ..., 0., 0., 0.]),\n",
              " 'thirty-two': array([0., 0., 0., ..., 0., 0., 0.]),\n",
              " 'cowman': array([0., 0., 0., ..., 0., 0., 0.]),\n",
              " 'refund': array([0., 0., 0., ..., 0., 0., 0.]),\n",
              " 'vladilen': array([0., 0., 0., ..., 0., 0., 0.]),\n",
              " 'dejection': array([0., 0., 0., ..., 0., 0., 0.]),\n",
              " 'gnashing': array([0., 0., 0., ..., 0., 0., 0.]),\n",
              " 'enterprisingly': array([0., 0., 0., ..., 0., 0., 0.]),\n",
              " 'parings': array([0., 0., 0., ..., 0., 0., 0.]),\n",
              " 'pils': array([0., 0., 0., ..., 0., 0., 0.]),\n",
              " 'shrillness': array([0., 0., 0., ..., 0., 0., 0.]),\n",
              " 'full': array([0., 0., 0., ..., 0., 0., 0.]),\n",
              " 'palladian': array([0., 0., 0., ..., 0., 0., 0.]),\n",
              " 'biches': array([0., 0., 0., ..., 0., 0., 0.]),\n",
              " 'choreographers': array([0., 0., 0., ..., 0., 0., 0.]),\n",
              " 'wrestles': array([0., 0., 0., ..., 0., 0., 0.]),\n",
              " 'thorough': array([0., 0., 0., ..., 0., 0., 0.]),\n",
              " 'bricklaying': array([0., 0., 0., ..., 0., 0., 0.]),\n",
              " 'de-kooning': array([0., 0., 0., ..., 0., 0., 0.]),\n",
              " 'nearsightedly': array([0., 0., 0., ..., 0., 0., 0.]),\n",
              " 'leavitt': array([0., 0., 0., ..., 0., 0., 0.]),\n",
              " 'philantropists': array([0., 0., 0., ..., 0., 0., 0.]),\n",
              " 'contested': array([0., 0., 0., ..., 0., 0., 0.]),\n",
              " 'subsections': array([0., 0., 0., ..., 0., 0., 0.]),\n",
              " 'inducement': array([0., 0., 0., ..., 0., 0., 0.]),\n",
              " 'apt': array([0., 0., 0., ..., 0., 0., 0.]),\n",
              " 'pearl-gray': array([0., 0., 0., ..., 0., 0., 0.]),\n",
              " 'alessio': array([0., 0., 0., ..., 0., 0., 0.]),\n",
              " 'colonnade': array([0., 0., 0., ..., 0., 0., 0.]),\n",
              " 'harveys': array([0., 0., 0., ..., 0., 0., 0.]),\n",
              " 'megalopolises': array([0., 0., 0., ..., 0., 0., 0.]),\n",
              " 'hegemony': array([0., 0., 0., ..., 0., 0., 0.]),\n",
              " 'yodeling': array([0., 0., 0., ..., 0., 0., 0.]),\n",
              " 'parella': array([0., 0., 0., ..., 0., 0., 0.]),\n",
              " 'meek-mannered': array([0., 0., 0., ..., 0., 0., 0.]),\n",
              " 'whole-wheat': array([0., 0., 0., ..., 0., 0., 0.]),\n",
              " '$60,000': array([0., 0., 0., ..., 0., 0., 0.]),\n",
              " 'appropriate': array([0., 0., 0., ..., 0., 0., 0.]),\n",
              " 'redemptive': array([0., 0., 0., ..., 0., 0., 0.]),\n",
              " 'desires': array([0., 0., 0., ..., 0., 0., 0.]),\n",
              " 'substitutes': array([0., 0., 0., ..., 0., 0., 0.]),\n",
              " 'abeyance': array([0., 0., 0., ..., 0., 0., 0.]),\n",
              " 'rolnick': array([0., 0., 0., ..., 0., 0., 0.]),\n",
              " 'lieutenants': array([0., 0., 0., ..., 0., 0., 0.]),\n",
              " 'betancourt': array([0., 0., 0., ..., 0., 0., 0.]),\n",
              " 'subtracting': array([0., 0., 0., ..., 0., 0., 0.]),\n",
              " 'cleanups': array([0., 0., 0., ..., 0., 0., 0.]),\n",
              " 'permission': array([0., 0., 0., ..., 0., 0., 0.]),\n",
              " 'monograph': array([0., 0., 0., ..., 0., 0., 0.]),\n",
              " 'ledger': array([0., 0., 0., ..., 0., 0., 0.]),\n",
              " 'carsten': array([0., 0., 0., ..., 0., 0., 0.]),\n",
              " 'calorie': array([0., 0., 0., ..., 0., 0., 0.]),\n",
              " 'junior': array([0., 0., 0., ..., 0., 0., 0.]),\n",
              " 's-values': array([0., 0., 0., ..., 0., 0., 0.]),\n",
              " 'cohn': array([0., 0., 0., ..., 0., 0., 0.]),\n",
              " 'mystical': array([0., 0., 0., ..., 0., 0., 0.]),\n",
              " 'injury': array([0., 0., 0., ..., 0., 0., 0.]),\n",
              " 'appleton': array([0., 0., 0., ..., 0., 0., 0.]),\n",
              " ...}"
            ]
          },
          "metadata": {},
          "execution_count": 14
        }
      ]
    },
    {
      "cell_type": "code",
      "source": [
        "# Example usage of one-hot encoding\n",
        "word = 'injury'\n",
        "if word in word_to_onehot:\n",
        "    print(f\"One-Hot Encoding for '{word}': {word_to_onehot[word]}\")\n",
        "else:\n",
        "    print(f\"Word '{word}' not in vocabulary.\")"
      ],
      "metadata": {
        "colab": {
          "base_uri": "https://localhost:8080/"
        },
        "id": "pfjZFLZTNNJo",
        "outputId": "5e4e9b59-cc00-478a-f259-36118ff74520"
      },
      "execution_count": 15,
      "outputs": [
        {
          "output_type": "stream",
          "name": "stdout",
          "text": [
            "One-Hot Encoding for 'injury': [0. 0. 0. ... 0. 0. 0.]\n"
          ]
        }
      ]
    },
    {
      "cell_type": "code",
      "source": [
        "# Train a Word2Vec model\n",
        "model = Word2Vec(sentences, vector_size=100, window=5, min_count=5, workers=4)"
      ],
      "metadata": {
        "id": "jsisDVokNbQK"
      },
      "execution_count": 16,
      "outputs": []
    },
    {
      "cell_type": "code",
      "source": [
        "# Example usage of Word2Vec\n",
        "word = \"Friday\"\n",
        "if word in model.wv:\n",
        "    print(f\"Vector for '{word}': {model.wv[word]}\")\n",
        "else:\n",
        "    print(f\"Word '{word}' not in vocabulary.\")"
      ],
      "metadata": {
        "colab": {
          "base_uri": "https://localhost:8080/"
        },
        "id": "kMoAJNGxNhFJ",
        "outputId": "480d3002-51df-4f62-813f-02812ea8a1df"
      },
      "execution_count": 17,
      "outputs": [
        {
          "output_type": "stream",
          "name": "stdout",
          "text": [
            "Vector for 'Friday': [ 0.2705566   0.4445826   0.10335226  0.05500747  0.02780116 -0.25465068\n",
            "  0.3236855   0.6303949  -0.31154847 -0.27670878  0.20872013 -0.31938055\n",
            "  0.05730463  0.23792754  0.21576087 -0.11112432  0.11505001 -0.15970577\n",
            " -0.32801238 -0.48348448  0.3525463   0.15647016  0.5048549   0.02580813\n",
            " -0.05324499  0.04820607 -0.2462204   0.00254192 -0.14806886  0.2769576\n",
            "  0.35270867 -0.22958636  0.20861378 -0.26807824 -0.00944471  0.05955269\n",
            "  0.03784284  0.09828758 -0.22314459 -0.11470148  0.09550726 -0.43664196\n",
            " -0.17074448  0.09365109  0.17610227  0.12454079  0.05549804  0.0068741\n",
            "  0.07608166  0.191902    0.02324327 -0.36768708 -0.26408184 -0.16949846\n",
            "  0.07775045  0.08751031  0.14915799  0.07383367 -0.1322897   0.04989085\n",
            "  0.02451684  0.17775702  0.02005393 -0.18446165 -0.41510072  0.39292374\n",
            "  0.13876064  0.20878904 -0.5428491   0.47682464  0.01215365  0.03116699\n",
            "  0.4327972  -0.1189087   0.08159785  0.13289227 -0.02146874  0.13085166\n",
            " -0.0862546  -0.02991379  0.03237846  0.17626242 -0.08039625  0.22457124\n",
            " -0.24878685  0.01232716  0.17608427  0.07293092  0.27820113  0.07444917\n",
            "  0.28184184 -0.28157356 -0.08567572  0.0074357   0.40130022  0.09043747\n",
            "  0.24912594 -0.20572092 -0.02744041  0.07334164]\n"
          ]
        }
      ]
    },
    {
      "cell_type": "code",
      "source": [
        "# Finds similar words\n",
        "similar_words = model.wv.most_similar(word, topn=50)\n",
        "print(f\"Words similar to '{word}': {similar_words}\")"
      ],
      "metadata": {
        "colab": {
          "base_uri": "https://localhost:8080/"
        },
        "id": "oB2NqWCSNmnw",
        "outputId": "7f8767de-b879-4f9f-a199-f3758c291771"
      },
      "execution_count": 18,
      "outputs": [
        {
          "output_type": "stream",
          "name": "stdout",
          "text": [
            "Words similar to 'Friday': [('Wednesday', 0.9771362543106079), ('Tuesday', 0.9752274751663208), ('Opera', 0.9691815972328186), ('Festival', 0.9659692645072937), ('Dutch', 0.9631845951080322), ('Bay', 0.9628776907920837), ('28th', 0.9626119136810303), ('Hall', 0.9624503254890442), ('Golden', 0.9602935910224915), ('Square', 0.9589425325393677), ('Seventh', 0.9587230682373047), ('Show', 0.9580950140953064), ('Blue', 0.9580066800117493), ('Anniston', 0.9578906297683716), ('Hill', 0.9577788710594177), ('Georgia', 0.9574242830276489), ('18th', 0.9571691751480103), ('robbery', 0.957153856754303), ('driving', 0.9569250345230103), ('Mile', 0.9569007158279419), ('Mount', 0.9567434787750244), ('Station', 0.9563667178153992), ('Memorial', 0.9562178254127502), ('melting', 0.9560314416885376), ('southern', 0.9558509588241577), ('Horn', 0.9558249711990356), ('Warwick', 0.9552258849143982), ('Center', 0.9551942944526672), ('drill', 0.9550979733467102), ('Garden', 0.9546160101890564), ('Pennsylvania', 0.9543585777282715), ('1925', 0.9542614221572876), ('Manchester', 0.9542478919029236), ('Atlanta', 0.9541216492652893), ('filed', 0.9539622068405151), ('Theater', 0.9539361000061035), ('Capitol', 0.9539186954498291), ('Red', 0.9538118243217468), ('Special', 0.953033983707428), ('Place', 0.9529527425765991), ('Greenwich', 0.9528130888938904), ('Thursday', 0.9527423977851868), ('Country', 0.9526271224021912), ('Symphony', 0.9526102542877197), ('Ralph', 0.9524949193000793), ('tappet', 0.9521032571792603), ('Academy', 0.9520950317382812), (\"King's\", 0.9515101909637451), ('bay', 0.9513407945632935), ('Park', 0.9512742757797241)]\n"
          ]
        }
      ]
    }
  ],
  "metadata": {
    "colab": {
      "provenance": [],
      "collapsed_sections": [
        "dz53avFWQwQy",
        "DAYoa2RvPJst",
        "QM1EzZ7TVYmK",
        "hDxVzV1jU4nX",
        "EUJmiokQTUmZ",
        "qtmbQOyAbYrx",
        "j8b5eex4G14X"
      ],
      "include_colab_link": true
    },
    "kernelspec": {
      "display_name": "Python 3",
      "name": "python3"
    },
    "language_info": {
      "name": "python"
    }
  },
  "nbformat": 4,
  "nbformat_minor": 0
}