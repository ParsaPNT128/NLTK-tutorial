{
  "cells": [
    {
      "cell_type": "markdown",
      "metadata": {
        "id": "view-in-github",
        "colab_type": "text"
      },
      "source": [
        "<a href=\"https://colab.research.google.com/github/ParsaPNT128/NLTK-tutorial/blob/main/nltk_tutorial.ipynb\" target=\"_parent\"><img src=\"https://colab.research.google.com/assets/colab-badge.svg\" alt=\"Open In Colab\"/></a>"
      ]
    },
    {
      "cell_type": "markdown",
      "metadata": {
        "id": "mx4OvzG570uO"
      },
      "source": [
        "# **What is NLTK?**\n",
        "NLTK (Natural Language Toolkit) is a powerful Python library for natural language processing (NLP). It provides easy-to-use interfaces to over 50 corpora and lexical resources such as WordNet, along with a suite of text processing libraries for tasks such as tokenization, stemming, tagging, parsing, and classification. It's widely used both in academia and industry for tasks ranging from simple text analysis to more complex natural language understanding and generation tasks.\n",
        "\n",
        "reference: https://www.nltk.org/index.html"
      ]
    },
    {
      "cell_type": "markdown",
      "source": [
        "Use the command below in cmd in order to install nltk\n",
        "\n",
        "`pip install nltk`"
      ],
      "metadata": {
        "id": "HUnqHUFgUUOC"
      }
    },
    {
      "cell_type": "markdown",
      "source": [
        "Import NLTK to your app using:\n",
        "\n",
        "`import nltk`"
      ],
      "metadata": {
        "id": "A5FJCeFJUhCq"
      }
    },
    {
      "cell_type": "code",
      "source": [
        "import nltk"
      ],
      "metadata": {
        "id": "pnFPa9T5m7pk"
      },
      "execution_count": 145,
      "outputs": []
    },
    {
      "cell_type": "markdown",
      "source": [
        "## **1. Introduction**\n",
        "In Natural Language Processing (NLP), strings and regular expressions (regex) play crucial roles in various tasks, especially when working with libraries like NLTK (Natural Language Toolkit).\n",
        "\n",
        "In this section, we will review strings and regular expressions."
      ],
      "metadata": {
        "id": "dz53avFWQwQy"
      }
    },
    {
      "cell_type": "markdown",
      "metadata": {
        "id": "DAYoa2RvPJst"
      },
      "source": [
        "### **1.1. Strings**\n",
        "Strings are collection of words, alphabets and other characters. They are surrounded by either single quotation marks, double quotation marks, or even triple quotation marks e.g:\n",
        "```\n",
        "string1 = 'hello'\n",
        "string2 = \"hello\"\n",
        "string3 = ''' triple\n",
        "quotation\n",
        "marks\n",
        "'''\n",
        "```\n",
        "Strings have their own built-in functions that can make changes on them. Most of this functions are shown below.\n",
        "\n",
        "reference: https://www.w3schools.com/python/python_strings.asp"
      ]
    },
    {
      "cell_type": "code",
      "execution_count": 146,
      "metadata": {
        "id": "wwU4Y5hZSdO6"
      },
      "outputs": [],
      "source": [
        "text = \"I can only comment on the vermicelli bowls because I have never had the Pho. The vermicelli are a decent size and a fair price. Conveniently located if you live in the Alberta Ave neighbourhood, my orders have always been ready in 15 minutes - even on a Friday night.\""
      ]
    },
    {
      "cell_type": "code",
      "execution_count": 147,
      "metadata": {
        "id": "033TunNyTAlU",
        "colab": {
          "base_uri": "https://localhost:8080/",
          "height": 0
        },
        "outputId": "3efb3ab3-4c2b-4512-e8bd-7f5c63f830c8"
      },
      "outputs": [
        {
          "output_type": "execute_result",
          "data": {
            "text/plain": [
              "'I can only comment on the vermicelli bowls because I have never had the Pho. The vermicelli are a decent size and a fair price. Conveniently located if you live in the Alberta Ave neighbourhood, my orders have always been ready in 15 minutes - even on a Friday night.'"
            ],
            "application/vnd.google.colaboratory.intrinsic+json": {
              "type": "string"
            }
          },
          "metadata": {},
          "execution_count": 147
        }
      ],
      "source": [
        "text"
      ]
    },
    {
      "cell_type": "code",
      "execution_count": 148,
      "metadata": {
        "id": "ZbTRSWOwTGTO",
        "colab": {
          "base_uri": "https://localhost:8080/",
          "height": 0
        },
        "outputId": "53a7e594-bb3f-4266-8c3d-e889b6025095"
      },
      "outputs": [
        {
          "output_type": "execute_result",
          "data": {
            "text/plain": [
              "'I'"
            ],
            "application/vnd.google.colaboratory.intrinsic+json": {
              "type": "string"
            }
          },
          "metadata": {},
          "execution_count": 148
        }
      ],
      "source": [
        "# Gets the first index (element) of the text\n",
        "text[0]"
      ]
    },
    {
      "cell_type": "code",
      "execution_count": 149,
      "metadata": {
        "id": "l8_R0Y4pTI5K",
        "colab": {
          "base_uri": "https://localhost:8080/",
          "height": 0
        },
        "outputId": "5cb74886-1266-4aec-c8ac-9ebca2dada6b"
      },
      "outputs": [
        {
          "output_type": "execute_result",
          "data": {
            "text/plain": [
              "'I can only'"
            ],
            "application/vnd.google.colaboratory.intrinsic+json": {
              "type": "string"
            }
          },
          "metadata": {},
          "execution_count": 149
        }
      ],
      "source": [
        "# Gets the first 10 indexes of a text ( indexes from 0 to 10 )\n",
        "text[0:10]"
      ]
    },
    {
      "cell_type": "code",
      "execution_count": 150,
      "metadata": {
        "id": "G-omH0C7TVjB",
        "colab": {
          "base_uri": "https://localhost:8080/",
          "height": 0
        },
        "outputId": "68594d90-3fde-4e03-aecd-8276be8caf95"
      },
      "outputs": [
        {
          "output_type": "execute_result",
          "data": {
            "text/plain": [
              "'an only com'"
            ],
            "application/vnd.google.colaboratory.intrinsic+json": {
              "type": "string"
            }
          },
          "metadata": {},
          "execution_count": 150
        }
      ],
      "source": [
        "# Gets the indexes from 3 to 14\n",
        "text[3:14]"
      ]
    },
    {
      "cell_type": "code",
      "execution_count": 151,
      "metadata": {
        "id": "4A4M5RBvTL8L",
        "colab": {
          "base_uri": "https://localhost:8080/"
        },
        "outputId": "ec1395d6-b716-4fdf-c3fa-8fa63274490e"
      },
      "outputs": [
        {
          "output_type": "execute_result",
          "data": {
            "text/plain": [
              "267"
            ]
          },
          "metadata": {},
          "execution_count": 151
        }
      ],
      "source": [
        "# Gets the length of a list\n",
        "len(text)"
      ]
    },
    {
      "cell_type": "code",
      "execution_count": 152,
      "metadata": {
        "id": "DtB-zp3QTqsN",
        "colab": {
          "base_uri": "https://localhost:8080/"
        },
        "outputId": "08e9a9ca-c2f8-4db6-882f-9c722f24f5ef"
      },
      "outputs": [
        {
          "output_type": "execute_result",
          "data": {
            "text/plain": [
              "11"
            ]
          },
          "metadata": {},
          "execution_count": 152
        }
      ],
      "source": [
        "# Locates the position of the first letter of the word given\n",
        "query = text.find(\"comment\")\n",
        "query"
      ]
    },
    {
      "cell_type": "code",
      "execution_count": 153,
      "metadata": {
        "id": "H0iYDVQLT6Nz",
        "colab": {
          "base_uri": "https://localhost:8080/"
        },
        "outputId": "033d3121-78b5-46c5-a660-513e7dd2a8ad"
      },
      "outputs": [
        {
          "output_type": "execute_result",
          "data": {
            "text/plain": [
              "6"
            ]
          },
          "metadata": {},
          "execution_count": 153
        }
      ],
      "source": [
        "# Locates the position of the letter \"o\"\n",
        "query = text.find(\"o\")\n",
        "query"
      ]
    },
    {
      "cell_type": "code",
      "execution_count": 154,
      "metadata": {
        "id": "Pds1c8tST971",
        "colab": {
          "base_uri": "https://localhost:8080/"
        },
        "outputId": "04a82f08-7ba2-4c3c-b972-017c511be634"
      },
      "outputs": [
        {
          "output_type": "execute_result",
          "data": {
            "text/plain": [
              "12"
            ]
          },
          "metadata": {},
          "execution_count": 154
        }
      ],
      "source": [
        "# Locates the position of the letter \"o\" from index 10 to 20\n",
        "query = text.find(\"o\", 10, 20)\n",
        "query"
      ]
    },
    {
      "cell_type": "code",
      "execution_count": 155,
      "metadata": {
        "id": "JDmCBVSAUIM3",
        "colab": {
          "base_uri": "https://localhost:8080/"
        },
        "outputId": "c6971d85-1111-465f-cf71-7e6b408b62c4"
      },
      "outputs": [
        {
          "output_type": "execute_result",
          "data": {
            "text/plain": [
              "2"
            ]
          },
          "metadata": {},
          "execution_count": 155
        }
      ],
      "source": [
        "# Counts how many times a word had been used\n",
        "query = text.count(\"have\")\n",
        "query"
      ]
    },
    {
      "cell_type": "code",
      "execution_count": 156,
      "metadata": {
        "id": "tdNU_LAPUTwE",
        "colab": {
          "base_uri": "https://localhost:8080/"
        },
        "outputId": "ec240c9a-9901-4612-e3f3-6601a142857b"
      },
      "outputs": [
        {
          "output_type": "execute_result",
          "data": {
            "text/plain": [
              "1"
            ]
          },
          "metadata": {},
          "execution_count": 156
        }
      ],
      "source": [
        "# Counts how many times a word had been used from the indexes 10 to 100\n",
        "query = text.count(\"have\", 10,100)\n",
        "query"
      ]
    },
    {
      "cell_type": "code",
      "execution_count": 157,
      "metadata": {
        "id": "2EtT8VzSlLsH",
        "colab": {
          "base_uri": "https://localhost:8080/",
          "height": 0
        },
        "outputId": "bececc21-905c-4ad7-a130-6e38f704201a"
      },
      "outputs": [
        {
          "output_type": "execute_result",
          "data": {
            "text/plain": [
              "'Word'"
            ],
            "application/vnd.google.colaboratory.intrinsic+json": {
              "type": "string"
            }
          },
          "metadata": {},
          "execution_count": 157
        }
      ],
      "source": [
        "# Capitalize the word given\n",
        "word = \"word\"\n",
        "query = word.capitalize()\n",
        "query"
      ]
    },
    {
      "cell_type": "code",
      "execution_count": 158,
      "metadata": {
        "id": "qNsafR2AnKHI",
        "colab": {
          "base_uri": "https://localhost:8080/"
        },
        "outputId": "06cc0633-89ca-4166-d855-9c487d361ab3"
      },
      "outputs": [
        {
          "output_type": "execute_result",
          "data": {
            "text/plain": [
              "True"
            ]
          },
          "metadata": {},
          "execution_count": 158
        }
      ],
      "source": [
        "# Checks if the input starts with the letter \"I\"\n",
        "query = text.startswith(\"I\")\n",
        "query"
      ]
    },
    {
      "cell_type": "code",
      "execution_count": 159,
      "metadata": {
        "id": "UT5j4_2nn7HX",
        "colab": {
          "base_uri": "https://localhost:8080/"
        },
        "outputId": "586f51bc-a2ed-43e7-bd2a-6f3c59538b2e"
      },
      "outputs": [
        {
          "output_type": "execute_result",
          "data": {
            "text/plain": [
              "True"
            ]
          },
          "metadata": {},
          "execution_count": 159
        }
      ],
      "source": [
        "# Checks if the input ends with \".\"\n",
        "query = text.endswith(\".\")\n",
        "query"
      ]
    },
    {
      "cell_type": "code",
      "execution_count": 160,
      "metadata": {
        "id": "acEcbO5MoGVH",
        "colab": {
          "base_uri": "https://localhost:8080/",
          "height": 0
        },
        "outputId": "c956311e-d9b3-4434-e514-7b761175c7a8"
      },
      "outputs": [
        {
          "output_type": "execute_result",
          "data": {
            "text/plain": [
              "'I CAN ONLY COMMENT ON THE VERMICELLI BOWLS BECAUSE I HAVE NEVER HAD THE PHO. THE VERMICELLI ARE A DECENT SIZE AND A FAIR PRICE. CONVENIENTLY LOCATED IF YOU LIVE IN THE ALBERTA AVE NEIGHBOURHOOD, MY ORDERS HAVE ALWAYS BEEN READY IN 15 MINUTES - EVEN ON A FRIDAY NIGHT.'"
            ],
            "application/vnd.google.colaboratory.intrinsic+json": {
              "type": "string"
            }
          },
          "metadata": {},
          "execution_count": 160
        }
      ],
      "source": [
        "# Makes all the letters uppercased\n",
        "query = text.upper()\n",
        "query"
      ]
    },
    {
      "cell_type": "code",
      "execution_count": 161,
      "metadata": {
        "id": "JxoL5mYzornw",
        "colab": {
          "base_uri": "https://localhost:8080/",
          "height": 0
        },
        "outputId": "0c5920a3-fe7e-4d35-8532-9247d2f958d1"
      },
      "outputs": [
        {
          "output_type": "execute_result",
          "data": {
            "text/plain": [
              "'i can only comment on the vermicelli bowls because i have never had the pho. the vermicelli are a decent size and a fair price. conveniently located if you live in the alberta ave neighbourhood, my orders have always been ready in 15 minutes - even on a friday night.'"
            ],
            "application/vnd.google.colaboratory.intrinsic+json": {
              "type": "string"
            }
          },
          "metadata": {},
          "execution_count": 161
        }
      ],
      "source": [
        "# Makes all the letters lowercased\n",
        "query = text.lower()\n",
        "query"
      ]
    },
    {
      "cell_type": "code",
      "execution_count": 162,
      "metadata": {
        "id": "-zcQKvttrAiR",
        "colab": {
          "base_uri": "https://localhost:8080/",
          "height": 0
        },
        "outputId": "c980525b-49ce-4487-ab1a-a7d89fdf8d6c"
      },
      "outputs": [
        {
          "output_type": "execute_result",
          "data": {
            "text/plain": [
              "'You can only comment on the vermicelli bowls because You have never had the Pho. The vermicelli are a decent size and a fair price. Conveniently located if you live in the Alberta Ave neighbourhood, my orders have always been ready in 15 minutes - even on a Friday night.'"
            ],
            "application/vnd.google.colaboratory.intrinsic+json": {
              "type": "string"
            }
          },
          "metadata": {},
          "execution_count": 162
        }
      ],
      "source": [
        "# Replaces the first input with the second one\n",
        "query = text.replace(\"I\", \"You\")\n",
        "query"
      ]
    },
    {
      "cell_type": "code",
      "execution_count": 163,
      "metadata": {
        "id": "z2F-dFw2sdqs",
        "colab": {
          "base_uri": "https://localhost:8080/"
        },
        "outputId": "7a797829-4d83-48b7-aaae-6c3330357814"
      },
      "outputs": [
        {
          "output_type": "execute_result",
          "data": {
            "text/plain": [
              "['I',\n",
              " 'can',\n",
              " 'only',\n",
              " 'comment',\n",
              " 'on',\n",
              " 'the',\n",
              " 'vermicelli',\n",
              " 'bowls',\n",
              " 'because',\n",
              " 'I',\n",
              " 'have',\n",
              " 'never',\n",
              " 'had',\n",
              " 'the',\n",
              " 'Pho.',\n",
              " 'The',\n",
              " 'vermicelli',\n",
              " 'are',\n",
              " 'a',\n",
              " 'decent',\n",
              " 'size',\n",
              " 'and',\n",
              " 'a',\n",
              " 'fair',\n",
              " 'price.',\n",
              " 'Conveniently',\n",
              " 'located',\n",
              " 'if',\n",
              " 'you',\n",
              " 'live',\n",
              " 'in',\n",
              " 'the',\n",
              " 'Alberta',\n",
              " 'Ave',\n",
              " 'neighbourhood,',\n",
              " 'my',\n",
              " 'orders',\n",
              " 'have',\n",
              " 'always',\n",
              " 'been',\n",
              " 'ready',\n",
              " 'in',\n",
              " '15',\n",
              " 'minutes',\n",
              " '-',\n",
              " 'even',\n",
              " 'on',\n",
              " 'a',\n",
              " 'Friday',\n",
              " 'night.']"
            ]
          },
          "metadata": {},
          "execution_count": 163
        }
      ],
      "source": [
        "# Splits a string based on the input given and returns a list ( the default input is space )\n",
        "query = text.split()\n",
        "query"
      ]
    },
    {
      "cell_type": "code",
      "execution_count": 164,
      "metadata": {
        "id": "YaQIt7KK3Q9K",
        "colab": {
          "base_uri": "https://localhost:8080/",
          "height": 0
        },
        "outputId": "d0b1e49f-d569-438e-b41a-fa628074f647"
      },
      "outputs": [
        {
          "output_type": "execute_result",
          "data": {
            "text/plain": [
              "'word'"
            ],
            "application/vnd.google.colaboratory.intrinsic+json": {
              "type": "string"
            }
          },
          "metadata": {},
          "execution_count": 164
        }
      ],
      "source": [
        "# Removes the extra whitespaces from the start and from the end\n",
        "word = \"  word  \"\n",
        "query = word.strip()\n",
        "query"
      ]
    },
    {
      "cell_type": "code",
      "source": [
        "# Capitalizes all the words in a string\n",
        "query = text.title()\n",
        "query"
      ],
      "metadata": {
        "id": "y9_sueCSWsyo",
        "colab": {
          "base_uri": "https://localhost:8080/",
          "height": 0
        },
        "outputId": "672e1e27-96a1-488e-9b3a-2aa8d9c665aa"
      },
      "execution_count": 165,
      "outputs": [
        {
          "output_type": "execute_result",
          "data": {
            "text/plain": [
              "'I Can Only Comment On The Vermicelli Bowls Because I Have Never Had The Pho. The Vermicelli Are A Decent Size And A Fair Price. Conveniently Located If You Live In The Alberta Ave Neighbourhood, My Orders Have Always Been Ready In 15 Minutes - Even On A Friday Night.'"
            ],
            "application/vnd.google.colaboratory.intrinsic+json": {
              "type": "string"
            }
          },
          "metadata": {},
          "execution_count": 165
        }
      ]
    },
    {
      "cell_type": "markdown",
      "metadata": {
        "id": "aQr5kV3lXBEO"
      },
      "source": [
        "reference: https://www.w3schools.com/python/python_strings.asp"
      ]
    },
    {
      "cell_type": "markdown",
      "source": [
        "### **1.2. Regular Expressions (RegEx)**\n",
        "Regular Expressions ( Also known as regex ) is a sequence of characters that forms a search pattern. This pattern can be used by several methods in order to search or check if a string contains the specified search pattern.\n",
        "\n",
        "Use to following command in the command prompt to install the module:\n",
        "\n",
        "```\n",
        "pip install regex\n",
        "```\n",
        "Then import it to your program using:\n",
        "\n",
        "```\n",
        "import re\n",
        "```\n",
        "reference: https://www.w3schools.com/python/python_regex.asp"
      ],
      "metadata": {
        "id": "QM1EzZ7TVYmK"
      }
    },
    {
      "cell_type": "code",
      "source": [
        "import re"
      ],
      "metadata": {
        "id": "CHoLLfgRWlrE"
      },
      "execution_count": 166,
      "outputs": []
    },
    {
      "cell_type": "code",
      "source": [
        "text2 = \"The rain in Spain\""
      ],
      "metadata": {
        "id": "MaD-1wjHeCkc"
      },
      "execution_count": 167,
      "outputs": []
    },
    {
      "cell_type": "code",
      "source": [
        "# findall function returns a list containing all matches\n",
        "# the following command returns a list of all the times that \"ai\" is used\n",
        "query = re.findall(\"ai\", text2)\n",
        "query"
      ],
      "metadata": {
        "id": "Qvw3_pM6bRD1",
        "colab": {
          "base_uri": "https://localhost:8080/"
        },
        "outputId": "245dd541-6131-42f4-9174-4e05173be205"
      },
      "execution_count": 168,
      "outputs": [
        {
          "output_type": "execute_result",
          "data": {
            "text/plain": [
              "['ai', 'ai']"
            ]
          },
          "metadata": {},
          "execution_count": 168
        }
      ]
    },
    {
      "cell_type": "code",
      "source": [
        "# search function checks if there is a match with pattern\n",
        "# the following command returns if the text is satrted with \"The\" and ended with \"Spain\"\n",
        "query = re.search(\"^The.*Spain$\", text2)\n",
        "query"
      ],
      "metadata": {
        "id": "PfgE7PCPeQ2Q",
        "colab": {
          "base_uri": "https://localhost:8080/"
        },
        "outputId": "6d6fca6f-ef2e-4258-c45e-dfaeb1a03528"
      },
      "execution_count": 169,
      "outputs": [
        {
          "output_type": "execute_result",
          "data": {
            "text/plain": [
              "<re.Match object; span=(0, 17), match='The rain in Spain'>"
            ]
          },
          "metadata": {},
          "execution_count": 169
        }
      ]
    },
    {
      "cell_type": "code",
      "source": [
        "# split function is similar to the split function in strings but this time it uses a search pattern\n",
        "# the following commamd returns a list of strings splited by the characters from a to f\n",
        "query = re.split(\"[a-f]\", text2)\n",
        "query"
      ],
      "metadata": {
        "id": "aFljrimve3zB",
        "colab": {
          "base_uri": "https://localhost:8080/"
        },
        "outputId": "c5310948-1374-4173-a437-80719402585c"
      },
      "execution_count": 170,
      "outputs": [
        {
          "output_type": "execute_result",
          "data": {
            "text/plain": [
              "['Th', ' r', 'in in Sp', 'in']"
            ]
          },
          "metadata": {},
          "execution_count": 170
        }
      ]
    },
    {
      "cell_type": "code",
      "source": [
        "# sub function is also similar to replace function in string but it uses a search pattern\n",
        "# the following command replaces all the whitespaces with |\n",
        "query = re.sub(\"\\s\", \"|\", text2)\n",
        "query"
      ],
      "metadata": {
        "id": "R-ZgY5LOfyQ7",
        "colab": {
          "base_uri": "https://localhost:8080/",
          "height": 0
        },
        "outputId": "cf79550e-2b02-4197-c2fa-53f810175d95"
      },
      "execution_count": 171,
      "outputs": [
        {
          "output_type": "execute_result",
          "data": {
            "text/plain": [
              "'The|rain|in|Spain'"
            ],
            "application/vnd.google.colaboratory.intrinsic+json": {
              "type": "string"
            }
          },
          "metadata": {},
          "execution_count": 171
        }
      ]
    },
    {
      "cell_type": "markdown",
      "source": [
        "For more metacharacters and sequences visit this link: https://www.w3schools.com/python/python_regex.asp"
      ],
      "metadata": {
        "id": "M8eXezVGmPby"
      }
    },
    {
      "cell_type": "markdown",
      "metadata": {
        "id": "hDxVzV1jU4nX"
      },
      "source": [
        "## **2. Tokenization**\n",
        "Tokenizers divide strings into lists of substrings. They can be used to break a large text body down to sentences, groups of words, single words or even just groups of characters or subwords. Tokenization is a common step used to help prepare language data for further use. There are several ways and methods available to tokenize data.\n",
        "\n",
        "For more information, read this [link](https://medium.com/@ajay_khanna/tokenization-techniques-in-natural-language-processing-67bb22088c75).\n",
        "\n",
        "reference: https://medium.com/@kelsklane/tokenization-with-nltk-52cd7b88c7d"
      ]
    },
    {
      "cell_type": "code",
      "execution_count": 172,
      "metadata": {
        "colab": {
          "base_uri": "https://localhost:8080/"
        },
        "id": "pLXmCspBV1yh",
        "outputId": "103b69e0-f98c-486d-a1a8-0c20eda4dea8"
      },
      "outputs": [
        {
          "output_type": "stream",
          "name": "stderr",
          "text": [
            "[nltk_data] Downloading package punkt to /root/nltk_data...\n",
            "[nltk_data]   Package punkt is already up-to-date!\n"
          ]
        },
        {
          "output_type": "execute_result",
          "data": {
            "text/plain": [
              "True"
            ]
          },
          "metadata": {},
          "execution_count": 172
        }
      ],
      "source": [
        "# Downloads the Punkt sentence tokenization models\n",
        "nltk.download('punkt')"
      ]
    },
    {
      "cell_type": "code",
      "execution_count": 173,
      "metadata": {
        "id": "oJaYgXWbVQQU"
      },
      "outputs": [],
      "source": [
        "# Imports the tokenizer functions needed\n",
        "from nltk.tokenize import sent_tokenize, word_tokenize, wordpunct_tokenize, WhitespaceTokenizer, regexp_tokenize"
      ]
    },
    {
      "cell_type": "code",
      "execution_count": 174,
      "metadata": {
        "colab": {
          "base_uri": "https://localhost:8080/"
        },
        "id": "JstDiOaJVt3E",
        "outputId": "cfbe15c2-18c7-401a-9c5a-d24547313fe8"
      },
      "outputs": [
        {
          "output_type": "execute_result",
          "data": {
            "text/plain": [
              "['I can only comment on the vermicelli bowls because I have never had the Pho.',\n",
              " 'The vermicelli are a decent size and a fair price.',\n",
              " 'Conveniently located if you live in the Alberta Ave neighbourhood, my orders have always been ready in 15 minutes - even on a Friday night.']"
            ]
          },
          "metadata": {},
          "execution_count": 174
        }
      ],
      "source": [
        "# Tokenizes a string by sentences\n",
        "sent_tokenize(text)"
      ]
    },
    {
      "cell_type": "code",
      "execution_count": 175,
      "metadata": {
        "colab": {
          "base_uri": "https://localhost:8080/"
        },
        "id": "_Wd0ke71V6yn",
        "outputId": "50bbaa40-26dd-43b5-bfd5-b8a3b12f904d"
      },
      "outputs": [
        {
          "output_type": "execute_result",
          "data": {
            "text/plain": [
              "['I',\n",
              " 'can',\n",
              " 'only',\n",
              " 'comment',\n",
              " 'on',\n",
              " 'the',\n",
              " 'vermicelli',\n",
              " 'bowls',\n",
              " 'because',\n",
              " 'I',\n",
              " 'have',\n",
              " 'never',\n",
              " 'had',\n",
              " 'the',\n",
              " 'Pho',\n",
              " '.',\n",
              " 'The',\n",
              " 'vermicelli',\n",
              " 'are',\n",
              " 'a',\n",
              " 'decent',\n",
              " 'size',\n",
              " 'and',\n",
              " 'a',\n",
              " 'fair',\n",
              " 'price',\n",
              " '.',\n",
              " 'Conveniently',\n",
              " 'located',\n",
              " 'if',\n",
              " 'you',\n",
              " 'live',\n",
              " 'in',\n",
              " 'the',\n",
              " 'Alberta',\n",
              " 'Ave',\n",
              " 'neighbourhood',\n",
              " ',',\n",
              " 'my',\n",
              " 'orders',\n",
              " 'have',\n",
              " 'always',\n",
              " 'been',\n",
              " 'ready',\n",
              " 'in',\n",
              " '15',\n",
              " 'minutes',\n",
              " '-',\n",
              " 'even',\n",
              " 'on',\n",
              " 'a',\n",
              " 'Friday',\n",
              " 'night',\n",
              " '.']"
            ]
          },
          "metadata": {},
          "execution_count": 175
        }
      ],
      "source": [
        "# Tokenizes a string by words\n",
        "word_tokenize(text)"
      ]
    },
    {
      "cell_type": "code",
      "execution_count": 176,
      "metadata": {
        "colab": {
          "base_uri": "https://localhost:8080/"
        },
        "id": "vZge8w8i8ujy",
        "outputId": "db37a962-ce12-4443-968c-7b1587fb9821"
      },
      "outputs": [
        {
          "output_type": "execute_result",
          "data": {
            "text/plain": [
              "['I',\n",
              " 'can',\n",
              " 'only',\n",
              " 'comment',\n",
              " 'on',\n",
              " 'the',\n",
              " 'vermicelli',\n",
              " 'bowls',\n",
              " 'because',\n",
              " 'I',\n",
              " 'have',\n",
              " 'never',\n",
              " 'had',\n",
              " 'the',\n",
              " 'Pho',\n",
              " '.',\n",
              " 'The',\n",
              " 'vermicelli',\n",
              " 'are',\n",
              " 'a',\n",
              " 'decent',\n",
              " 'size',\n",
              " 'and',\n",
              " 'a',\n",
              " 'fair',\n",
              " 'price',\n",
              " '.',\n",
              " 'Conveniently',\n",
              " 'located',\n",
              " 'if',\n",
              " 'you',\n",
              " 'live',\n",
              " 'in',\n",
              " 'the',\n",
              " 'Alberta',\n",
              " 'Ave',\n",
              " 'neighbourhood',\n",
              " ',',\n",
              " 'my',\n",
              " 'orders',\n",
              " 'have',\n",
              " 'always',\n",
              " 'been',\n",
              " 'ready',\n",
              " 'in',\n",
              " '15',\n",
              " 'minutes',\n",
              " '-',\n",
              " 'even',\n",
              " 'on',\n",
              " 'a',\n",
              " 'Friday',\n",
              " 'night',\n",
              " '.']"
            ]
          },
          "metadata": {},
          "execution_count": 176
        }
      ],
      "source": [
        "# Tokenizes a string by words and panctuations\n",
        "wordpunct_tokenize(text)"
      ]
    },
    {
      "cell_type": "code",
      "execution_count": 177,
      "metadata": {
        "colab": {
          "base_uri": "https://localhost:8080/"
        },
        "id": "8mWnGFrd8wxK",
        "outputId": "08e74010-48d0-4af2-f9c4-ba8d43348919"
      },
      "outputs": [
        {
          "output_type": "execute_result",
          "data": {
            "text/plain": [
              "['I',\n",
              " 'can',\n",
              " 'only',\n",
              " 'comment',\n",
              " 'on',\n",
              " 'the',\n",
              " 'vermicelli',\n",
              " 'bowls',\n",
              " 'because',\n",
              " 'I',\n",
              " 'have',\n",
              " 'never',\n",
              " 'had',\n",
              " 'the',\n",
              " 'Pho.',\n",
              " 'The',\n",
              " 'vermicelli',\n",
              " 'are',\n",
              " 'a',\n",
              " 'decent',\n",
              " 'size',\n",
              " 'and',\n",
              " 'a',\n",
              " 'fair',\n",
              " 'price.',\n",
              " 'Conveniently',\n",
              " 'located',\n",
              " 'if',\n",
              " 'you',\n",
              " 'live',\n",
              " 'in',\n",
              " 'the',\n",
              " 'Alberta',\n",
              " 'Ave',\n",
              " 'neighbourhood,',\n",
              " 'my',\n",
              " 'orders',\n",
              " 'have',\n",
              " 'always',\n",
              " 'been',\n",
              " 'ready',\n",
              " 'in',\n",
              " '15',\n",
              " 'minutes',\n",
              " '-',\n",
              " 'even',\n",
              " 'on',\n",
              " 'a',\n",
              " 'Friday',\n",
              " 'night.']"
            ]
          },
          "metadata": {},
          "execution_count": 177
        }
      ],
      "source": [
        "# Tokenizes a string by whitespace ( space, tab, newline )\n",
        "WhitespaceTokenizer().tokenize(text)"
      ]
    },
    {
      "cell_type": "code",
      "source": [
        "# Tokenizes a string by using regex inputs ( in this case it tokenizes the words that are capitalized )\n",
        "regexp_tokenize(text, '[A-Z]\\w+')"
      ],
      "metadata": {
        "colab": {
          "base_uri": "https://localhost:8080/"
        },
        "id": "prsT1uZUhSWx",
        "outputId": "4fe29cbf-e19c-4316-fd22-2f7571a19e8b"
      },
      "execution_count": 178,
      "outputs": [
        {
          "output_type": "execute_result",
          "data": {
            "text/plain": [
              "['Pho', 'The', 'Conveniently', 'Alberta', 'Ave', 'Friday']"
            ]
          },
          "metadata": {},
          "execution_count": 178
        }
      ]
    },
    {
      "cell_type": "markdown",
      "metadata": {
        "id": "H7wCGsosWdH-"
      },
      "source": [
        "reference: https://www.nltk.org/api/nltk.tokenize.html"
      ]
    },
    {
      "cell_type": "markdown",
      "source": [
        "## **3. Stemming and Lematization**\n",
        "**Lemmatization** and **Stemming**, both are used to generate root form of derived (inflected) words. However, lemma is an actual language word, whereas stem may not be an actual word. Here are some examples:"
      ],
      "metadata": {
        "id": "EUJmiokQTUmZ"
      }
    },
    {
      "cell_type": "markdown",
      "source": [
        "![stemmin_lemm_ex-1.png](data:image/png;base64,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)"
      ],
      "metadata": {
        "id": "Y33fG_F7VtYo"
      }
    },
    {
      "cell_type": "markdown",
      "source": [
        "**Stemming** is the process of reducing infected words to their stem. It removes the last few characters of a given word, to obtain a shorter form, even if that form doesn’t have any meaning."
      ],
      "metadata": {
        "id": "JjBq5VpZTz1p"
      }
    },
    {
      "cell_type": "code",
      "source": [
        "import nltk\n",
        "from nltk.stem import PorterStemmer\n",
        "nltk.download(\"punkt\")\n",
        "\n",
        "# Initialize Python porter stemmer\n",
        "ps = PorterStemmer()\n",
        "\n",
        "# Example inflections to reduce\n",
        "example_words = [\"change\",\"changing\",\"changes\",\"changed\"]\n",
        "\n",
        "for i in example_words:\n",
        "  print(f\"{i} -> {ps.stem(i)}\")"
      ],
      "metadata": {
        "colab": {
          "base_uri": "https://localhost:8080/"
        },
        "id": "58nOUZnaWspR",
        "outputId": "aa163aeb-305a-4208-c6dc-21e1d35df44e"
      },
      "execution_count": 179,
      "outputs": [
        {
          "output_type": "stream",
          "name": "stdout",
          "text": [
            "change -> chang\n",
            "changing -> chang\n",
            "changes -> chang\n",
            "changed -> chang\n"
          ]
        },
        {
          "output_type": "stream",
          "name": "stderr",
          "text": [
            "[nltk_data] Downloading package punkt to /root/nltk_data...\n",
            "[nltk_data]   Package punkt is already up-to-date!\n"
          ]
        }
      ]
    },
    {
      "cell_type": "markdown",
      "source": [
        "**Lemmatization**, unlike stemming that removes common suffixes from the end of word tokens, ensures the output word is an existing normalized form of the word (for example, lemma) that can be found in the dictionary."
      ],
      "metadata": {
        "id": "vzHjoEY0Xwdf"
      }
    },
    {
      "cell_type": "code",
      "source": [
        "from nltk.stem import WordNetLemmatizer\n",
        "nltk.download(\"wordnet\")\n",
        "nltk.download(\"omw-1.4\")\n",
        "\n",
        "# Initialize wordnet lemmatizer\n",
        "wnl = WordNetLemmatizer()\n",
        "\n",
        "# Example inflections to reduce\n",
        "example_words = [\"change\",\"changing\",\"changes\",\"changed\"]\n",
        "\n",
        "for i in example_words:\n",
        "  print(f\"{i} -> {wnl.lemmatize(i)}\")"
      ],
      "metadata": {
        "colab": {
          "base_uri": "https://localhost:8080/"
        },
        "id": "QiYsPrkyXzQo",
        "outputId": "2fc0660c-dc20-460a-b2c0-7e34c03a1c72"
      },
      "execution_count": 180,
      "outputs": [
        {
          "output_type": "stream",
          "name": "stdout",
          "text": [
            "change -> change\n",
            "changing -> changing\n",
            "changes -> change\n",
            "changed -> changed\n"
          ]
        },
        {
          "output_type": "stream",
          "name": "stderr",
          "text": [
            "[nltk_data] Downloading package wordnet to /root/nltk_data...\n",
            "[nltk_data]   Package wordnet is already up-to-date!\n",
            "[nltk_data] Downloading package omw-1.4 to /root/nltk_data...\n",
            "[nltk_data]   Package omw-1.4 is already up-to-date!\n"
          ]
        }
      ]
    },
    {
      "cell_type": "markdown",
      "source": [
        "## **4. Wordnet**\n",
        "WordNet is a large lexical database of English. Nouns, verbs, adjectives and adverbs are grouped into sets of cognitive synonyms (synsets), each expressing a distinct concept. Synsets are interlinked by means of conceptual-semantic and lexical relations."
      ],
      "metadata": {
        "id": "qtmbQOyAbYrx"
      }
    },
    {
      "cell_type": "code",
      "source": [
        "from nltk.corpus import wordnet"
      ],
      "metadata": {
        "id": "j846Y35FbbOY"
      },
      "execution_count": 181,
      "outputs": []
    },
    {
      "cell_type": "code",
      "source": [
        "nltk.download('wordnet')"
      ],
      "metadata": {
        "colab": {
          "base_uri": "https://localhost:8080/"
        },
        "id": "ZI-ReRYBdSi-",
        "outputId": "62177afd-832e-488c-9311-287b0d6d1988"
      },
      "execution_count": 182,
      "outputs": [
        {
          "output_type": "stream",
          "name": "stderr",
          "text": [
            "[nltk_data] Downloading package wordnet to /root/nltk_data...\n",
            "[nltk_data]   Package wordnet is already up-to-date!\n"
          ]
        },
        {
          "output_type": "execute_result",
          "data": {
            "text/plain": [
              "True"
            ]
          },
          "metadata": {},
          "execution_count": 182
        }
      ]
    },
    {
      "cell_type": "markdown",
      "source": [
        "**Synset Retrieval:** Retrieve synsets for a given word."
      ],
      "metadata": {
        "id": "xB4QLAUTgjRQ"
      }
    },
    {
      "cell_type": "code",
      "source": [
        "word = \"book\"\n",
        "\n",
        "# Get synsets for the word\n",
        "synsets = wordnet.synsets(word)\n",
        "\n",
        "# Print the synsets along with their definitions\n",
        "for synset in synsets:\n",
        "    print(\"Synset:\", synset.name())\n",
        "    print(\"Definition:\", synset.definition())\n",
        "    print(\"Lemma: \", synset.lemmas())\n",
        "    print(\"Part-of-Speech: \", synset.pos())\n",
        "    print()"
      ],
      "metadata": {
        "colab": {
          "base_uri": "https://localhost:8080/"
        },
        "id": "RXdM0LCvglFJ",
        "outputId": "3543151e-cfdd-4979-cd51-14dcbb035465"
      },
      "execution_count": 183,
      "outputs": [
        {
          "output_type": "stream",
          "name": "stdout",
          "text": [
            "Synset: book.n.01\n",
            "Definition: a written work or composition that has been published (printed on pages bound together)\n",
            "Lemma:  [Lemma('book.n.01.book')]\n",
            "Part-of-Speech:  n\n",
            "\n",
            "Synset: book.n.02\n",
            "Definition: physical objects consisting of a number of pages bound together\n",
            "Lemma:  [Lemma('book.n.02.book'), Lemma('book.n.02.volume')]\n",
            "Part-of-Speech:  n\n",
            "\n",
            "Synset: record.n.05\n",
            "Definition: a compilation of the known facts regarding something or someone\n",
            "Lemma:  [Lemma('record.n.05.record'), Lemma('record.n.05.record_book'), Lemma('record.n.05.book')]\n",
            "Part-of-Speech:  n\n",
            "\n",
            "Synset: script.n.01\n",
            "Definition: a written version of a play or other dramatic composition; used in preparing for a performance\n",
            "Lemma:  [Lemma('script.n.01.script'), Lemma('script.n.01.book'), Lemma('script.n.01.playscript')]\n",
            "Part-of-Speech:  n\n",
            "\n",
            "Synset: ledger.n.01\n",
            "Definition: a record in which commercial accounts are recorded\n",
            "Lemma:  [Lemma('ledger.n.01.ledger'), Lemma('ledger.n.01.leger'), Lemma('ledger.n.01.account_book'), Lemma('ledger.n.01.book_of_account'), Lemma('ledger.n.01.book')]\n",
            "Part-of-Speech:  n\n",
            "\n",
            "Synset: book.n.06\n",
            "Definition: a collection of playing cards satisfying the rules of a card game\n",
            "Lemma:  [Lemma('book.n.06.book')]\n",
            "Part-of-Speech:  n\n",
            "\n",
            "Synset: book.n.07\n",
            "Definition: a collection of rules or prescribed standards on the basis of which decisions are made\n",
            "Lemma:  [Lemma('book.n.07.book'), Lemma('book.n.07.rule_book')]\n",
            "Part-of-Speech:  n\n",
            "\n",
            "Synset: koran.n.01\n",
            "Definition: the sacred writings of Islam revealed by God to the prophet Muhammad during his life at Mecca and Medina\n",
            "Lemma:  [Lemma('koran.n.01.Koran'), Lemma('koran.n.01.Quran'), Lemma('koran.n.01.al-Qur'an'), Lemma('koran.n.01.Book')]\n",
            "Part-of-Speech:  n\n",
            "\n",
            "Synset: bible.n.01\n",
            "Definition: the sacred writings of the Christian religions\n",
            "Lemma:  [Lemma('bible.n.01.Bible'), Lemma('bible.n.01.Christian_Bible'), Lemma('bible.n.01.Book'), Lemma('bible.n.01.Good_Book'), Lemma('bible.n.01.Holy_Scripture'), Lemma('bible.n.01.Holy_Writ'), Lemma('bible.n.01.Scripture'), Lemma('bible.n.01.Word_of_God'), Lemma('bible.n.01.Word')]\n",
            "Part-of-Speech:  n\n",
            "\n",
            "Synset: book.n.10\n",
            "Definition: a major division of a long written composition\n",
            "Lemma:  [Lemma('book.n.10.book')]\n",
            "Part-of-Speech:  n\n",
            "\n",
            "Synset: book.n.11\n",
            "Definition: a number of sheets (ticket or stamps etc.) bound together on one edge\n",
            "Lemma:  [Lemma('book.n.11.book')]\n",
            "Part-of-Speech:  n\n",
            "\n",
            "Synset: book.v.01\n",
            "Definition: engage for a performance\n",
            "Lemma:  [Lemma('book.v.01.book')]\n",
            "Part-of-Speech:  v\n",
            "\n",
            "Synset: reserve.v.04\n",
            "Definition: arrange for and reserve (something for someone else) in advance\n",
            "Lemma:  [Lemma('reserve.v.04.reserve'), Lemma('reserve.v.04.hold'), Lemma('reserve.v.04.book')]\n",
            "Part-of-Speech:  v\n",
            "\n",
            "Synset: book.v.03\n",
            "Definition: record a charge in a police register\n",
            "Lemma:  [Lemma('book.v.03.book')]\n",
            "Part-of-Speech:  v\n",
            "\n",
            "Synset: book.v.04\n",
            "Definition: register in a hotel booker\n",
            "Lemma:  [Lemma('book.v.04.book')]\n",
            "Part-of-Speech:  v\n",
            "\n"
          ]
        }
      ]
    },
    {
      "cell_type": "markdown",
      "source": [
        "**Hypernyms and Hyponyms:** Retrieve hypernyms (more general terms) and hyponyms (more specific terms) for a synset."
      ],
      "metadata": {
        "id": "xXca6913g90h"
      }
    },
    {
      "cell_type": "code",
      "source": [
        "synset = wordnet.synset('good.n.01')\n",
        "hypernyms = synset.hypernyms()\n",
        "for hypernym in hypernyms:\n",
        "    print(\"Hypernym:\", hypernym.name())\n",
        "    print(\"Definition:\", hypernym.definition())"
      ],
      "metadata": {
        "colab": {
          "base_uri": "https://localhost:8080/"
        },
        "id": "cXk0xO6-hDZo",
        "outputId": "b0ac52fa-4135-4f7d-80db-8c6f71553e6d"
      },
      "execution_count": 184,
      "outputs": [
        {
          "output_type": "stream",
          "name": "stdout",
          "text": [
            "Hypernym: advantage.n.01\n",
            "Definition: the quality of having a superior or more favorable position\n"
          ]
        }
      ]
    },
    {
      "cell_type": "markdown",
      "source": [
        "**Antonyms:** Retrieve antonyms for a given word."
      ],
      "metadata": {
        "id": "sDdkGvRmiSFA"
      }
    },
    {
      "cell_type": "code",
      "source": [
        "word = \"bad\"\n",
        "antonyms = []\n",
        "for synset in wordnet.synsets(word):\n",
        "    for lemma in synset.lemmas():\n",
        "        if lemma.antonyms():\n",
        "            antonyms.append(lemma.antonyms()[0].name())\n",
        "print(\"Antonyms of\", word, \":\", antonyms)"
      ],
      "metadata": {
        "colab": {
          "base_uri": "https://localhost:8080/"
        },
        "id": "Mx6p4CYPiaHI",
        "outputId": "6656a212-cf9b-491b-9253-66a6988c8bef"
      },
      "execution_count": 185,
      "outputs": [
        {
          "output_type": "stream",
          "name": "stdout",
          "text": [
            "Antonyms of bad : ['good', 'goodness', 'good', 'unregretful']\n"
          ]
        }
      ]
    },
    {
      "cell_type": "markdown",
      "source": [
        "**Similarity:** Calculate similarity between two words using path similarity or Wu-Palmer similarity.\n",
        "\n",
        "**Path similarity** calculates the similarity between two synsets based on the shortest path that connects them in the WordNet hierarchy. It measures the length of the path between two synsets and then normalizes it to a value between 0 and 1.\n",
        "\n",
        "**Wu-Palmer similarity** is a similarity measure that takes into account the depth of the two synsets in the WordNet hierarchy along with the shortest path length between them. It is defined as twice the depth of the lowest common subsumer (a concept in WordNet representing the nearest ancestor of two synsets) divided by the sum of the depths of the two synsets."
      ],
      "metadata": {
        "id": "yd9_fn_Kjo_5"
      }
    },
    {
      "cell_type": "code",
      "source": [
        "word1 = \"book\"\n",
        "word2 = \"magazine\"\n",
        "synset1 = wordnet.synset(word1 + '.n.01')\n",
        "synset2 = wordnet.synset(word2 + '.n.01')\n",
        "path_similarity = synset1.path_similarity(synset2)\n",
        "wu_palmer_similarity = synset1.wup_similarity(synset2)\n",
        "print(\"Path Similarity between\", word1, \"and\", word2, \":\", path_similarity)\n",
        "print(\"Wu-Palmer Similarity between\", word1, \"and\", word2, \":\", wu_palmer_similarity)"
      ],
      "metadata": {
        "colab": {
          "base_uri": "https://localhost:8080/"
        },
        "id": "FUv6IGGCkDq7",
        "outputId": "0640ad8e-1b75-422a-b8e7-e73d0f1f121a"
      },
      "execution_count": 186,
      "outputs": [
        {
          "output_type": "stream",
          "name": "stdout",
          "text": [
            "Path Similarity between book and magazine : 0.3333333333333333\n",
            "Wu-Palmer Similarity between book and magazine : 0.9\n"
          ]
        }
      ]
    },
    {
      "cell_type": "markdown",
      "source": [
        "**Lemmatizer:** reduces the different forms of a word to one single form"
      ],
      "metadata": {
        "id": "vleWgpX4kawh"
      }
    },
    {
      "cell_type": "code",
      "source": [
        "import nltk\n",
        "from nltk.stem import WordNetLemmatizer\n",
        "\n",
        "# Initialize the WordNet Lemmatizer\n",
        "lemmatizer = WordNetLemmatizer()\n",
        "\n",
        "# Lemmatize words\n",
        "words = [\"cats\", \"cacti\", \"geese\", \"rocks\", \"running\"]\n",
        "for word in words:\n",
        "    lemma = lemmatizer.lemmatize(word)\n",
        "    print(f\"{word} -> {lemma}\")"
      ],
      "metadata": {
        "colab": {
          "base_uri": "https://localhost:8080/"
        },
        "id": "TXxaSSTOkwMx",
        "outputId": "3ac868bd-8bea-4c5e-b64f-ecc31dcba87e"
      },
      "execution_count": 187,
      "outputs": [
        {
          "output_type": "stream",
          "name": "stdout",
          "text": [
            "cats -> cat\n",
            "cacti -> cactus\n",
            "geese -> goose\n",
            "rocks -> rock\n",
            "running -> running\n"
          ]
        }
      ]
    }
  ],
  "metadata": {
    "colab": {
      "provenance": [],
      "collapsed_sections": [
        "dz53avFWQwQy",
        "DAYoa2RvPJst",
        "QM1EzZ7TVYmK",
        "hDxVzV1jU4nX"
      ],
      "include_colab_link": true
    },
    "kernelspec": {
      "display_name": "Python 3",
      "name": "python3"
    },
    "language_info": {
      "name": "python"
    }
  },
  "nbformat": 4,
  "nbformat_minor": 0
}