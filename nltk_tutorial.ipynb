{
  "nbformat": 4,
  "nbformat_minor": 0,
  "metadata": {
    "colab": {
      "provenance": []
    },
    "kernelspec": {
      "name": "python3",
      "display_name": "Python 3"
    },
    "language_info": {
      "name": "python"
    }
  },
  "cells": [
    {
      "cell_type": "markdown",
      "source": [
        "# **What is NLTK?**\n",
        "NLTK (Natural Language Toolkit) is a powerful Python library for natural language processing (NLP). It provides easy-to-use interfaces to over 50 corpora and lexical resources such as WordNet, along with a suite of text processing libraries for tasks such as tokenization, stemming, tagging, parsing, and classification. It's widely used both in academia and industry for tasks ranging from simple text analysis to more complex natural language understanding and generation tasks.\n",
        "\n",
        "reference: https://www.nltk.org/index.html"
      ],
      "metadata": {
        "id": "mx4OvzG570uO"
      }
    },
    {
      "cell_type": "code",
      "source": [
        "# Use the code below in cmd in order to install nltk\n",
        "# pip install nltk"
      ],
      "metadata": {
        "id": "0f3wFv0P31P6"
      },
      "execution_count": 71,
      "outputs": []
    },
    {
      "cell_type": "code",
      "source": [
        "import nltk"
      ],
      "metadata": {
        "id": "IaD4FDX-WCfL"
      },
      "execution_count": 72,
      "outputs": []
    },
    {
      "cell_type": "markdown",
      "source": [
        "## 0. Strings\n",
        "Strings are collection of words, alphabets and other characters. They are surrounded by either single quotation marks, or double quotation marks e.g \"hello\" or 'hello' . Strings have their own built-in functions that can make changes on them. Most of this functions are shown below.\n",
        "\n",
        "reference: https://www.w3schools.com/python/python_strings.asp"
      ],
      "metadata": {
        "id": "DAYoa2RvPJst"
      }
    },
    {
      "cell_type": "code",
      "source": [
        "text = \"I can only comment on the vermicelli bowls because I have never had the Pho. The vermicelli are a decent size and a fair price. Conveniently located if you live in the Alberta Ave neighbourhood, my orders have always been ready in 15 minutes - even on a Friday night.\""
      ],
      "metadata": {
        "id": "wwU4Y5hZSdO6"
      },
      "execution_count": 73,
      "outputs": []
    },
    {
      "cell_type": "code",
      "source": [
        "text"
      ],
      "metadata": {
        "colab": {
          "base_uri": "https://localhost:8080/",
          "height": 70
        },
        "id": "033TunNyTAlU",
        "outputId": "de1eeb72-2e22-4bb2-e57d-181cba8b4bd5"
      },
      "execution_count": 74,
      "outputs": [
        {
          "output_type": "execute_result",
          "data": {
            "text/plain": [
              "'I can only comment on the vermicelli bowls because I have never had the Pho. The vermicelli are a decent size and a fair price. Conveniently located if you live in the Alberta Ave neighbourhood, my orders have always been ready in 15 minutes - even on a Friday night.'"
            ],
            "application/vnd.google.colaboratory.intrinsic+json": {
              "type": "string"
            }
          },
          "metadata": {},
          "execution_count": 74
        }
      ]
    },
    {
      "cell_type": "code",
      "source": [
        "# Gets the first index (element) of the text\n",
        "text[0]"
      ],
      "metadata": {
        "colab": {
          "base_uri": "https://localhost:8080/",
          "height": 35
        },
        "id": "ZbTRSWOwTGTO",
        "outputId": "1d9422a3-0215-4dc0-8584-1518eefade16"
      },
      "execution_count": 75,
      "outputs": [
        {
          "output_type": "execute_result",
          "data": {
            "text/plain": [
              "'I'"
            ],
            "application/vnd.google.colaboratory.intrinsic+json": {
              "type": "string"
            }
          },
          "metadata": {},
          "execution_count": 75
        }
      ]
    },
    {
      "cell_type": "code",
      "source": [
        "# Gets the first 10 indexes of a text ( indexes from 0 to 10 )\n",
        "text[0:10]"
      ],
      "metadata": {
        "colab": {
          "base_uri": "https://localhost:8080/",
          "height": 35
        },
        "id": "l8_R0Y4pTI5K",
        "outputId": "e8fc6f64-111a-4c3e-824b-8f611038d2ce"
      },
      "execution_count": 76,
      "outputs": [
        {
          "output_type": "execute_result",
          "data": {
            "text/plain": [
              "'I can only'"
            ],
            "application/vnd.google.colaboratory.intrinsic+json": {
              "type": "string"
            }
          },
          "metadata": {},
          "execution_count": 76
        }
      ]
    },
    {
      "cell_type": "code",
      "source": [
        "# Gets the indexes from 3 to 14\n",
        "text[3:14]"
      ],
      "metadata": {
        "colab": {
          "base_uri": "https://localhost:8080/",
          "height": 35
        },
        "id": "G-omH0C7TVjB",
        "outputId": "bca1b1ce-936f-4e8c-ea3b-05b5c2590019"
      },
      "execution_count": 77,
      "outputs": [
        {
          "output_type": "execute_result",
          "data": {
            "text/plain": [
              "'an only com'"
            ],
            "application/vnd.google.colaboratory.intrinsic+json": {
              "type": "string"
            }
          },
          "metadata": {},
          "execution_count": 77
        }
      ]
    },
    {
      "cell_type": "code",
      "source": [
        "# Gets the length of a list\n",
        "len(text)"
      ],
      "metadata": {
        "colab": {
          "base_uri": "https://localhost:8080/"
        },
        "id": "4A4M5RBvTL8L",
        "outputId": "4295a441-cc65-4dd4-fd43-1ca3dcf87c4c"
      },
      "execution_count": 78,
      "outputs": [
        {
          "output_type": "execute_result",
          "data": {
            "text/plain": [
              "267"
            ]
          },
          "metadata": {},
          "execution_count": 78
        }
      ]
    },
    {
      "cell_type": "code",
      "source": [
        "# Locates the position of the first letter of the word given\n",
        "query = text.find(\"comment\")\n",
        "query"
      ],
      "metadata": {
        "colab": {
          "base_uri": "https://localhost:8080/"
        },
        "id": "DtB-zp3QTqsN",
        "outputId": "a5f639dc-3e8c-4010-9db1-04886c160f29"
      },
      "execution_count": 79,
      "outputs": [
        {
          "output_type": "execute_result",
          "data": {
            "text/plain": [
              "11"
            ]
          },
          "metadata": {},
          "execution_count": 79
        }
      ]
    },
    {
      "cell_type": "code",
      "source": [
        "# Locates the position of the letter \"o\"\n",
        "query = text.find(\"o\")\n",
        "query"
      ],
      "metadata": {
        "colab": {
          "base_uri": "https://localhost:8080/"
        },
        "id": "H0iYDVQLT6Nz",
        "outputId": "7464a211-1126-407e-d437-6f823b4ed4b4"
      },
      "execution_count": 80,
      "outputs": [
        {
          "output_type": "execute_result",
          "data": {
            "text/plain": [
              "6"
            ]
          },
          "metadata": {},
          "execution_count": 80
        }
      ]
    },
    {
      "cell_type": "code",
      "source": [
        "# Locates the position of the letter \"o\" from index 10 to 20\n",
        "query = text.find(\"o\", 10, 20)\n",
        "query"
      ],
      "metadata": {
        "colab": {
          "base_uri": "https://localhost:8080/"
        },
        "id": "Pds1c8tST971",
        "outputId": "845137cc-d976-4aa0-9c00-7457e3d1af2e"
      },
      "execution_count": 81,
      "outputs": [
        {
          "output_type": "execute_result",
          "data": {
            "text/plain": [
              "12"
            ]
          },
          "metadata": {},
          "execution_count": 81
        }
      ]
    },
    {
      "cell_type": "code",
      "source": [
        "# Counts how many times a word had been used\n",
        "query = text.count(\"have\")\n",
        "query"
      ],
      "metadata": {
        "colab": {
          "base_uri": "https://localhost:8080/"
        },
        "id": "JDmCBVSAUIM3",
        "outputId": "bda8a439-ed81-4de7-c046-80be69eec4bc"
      },
      "execution_count": 82,
      "outputs": [
        {
          "output_type": "execute_result",
          "data": {
            "text/plain": [
              "2"
            ]
          },
          "metadata": {},
          "execution_count": 82
        }
      ]
    },
    {
      "cell_type": "code",
      "source": [
        "# Counts how many times a word had been used from the indexes 10 to 100\n",
        "query = text.count(\"have\", 10,100)\n",
        "query"
      ],
      "metadata": {
        "colab": {
          "base_uri": "https://localhost:8080/"
        },
        "id": "tdNU_LAPUTwE",
        "outputId": "36dc25e0-53d5-4338-9ad5-27995572774b"
      },
      "execution_count": 83,
      "outputs": [
        {
          "output_type": "execute_result",
          "data": {
            "text/plain": [
              "1"
            ]
          },
          "metadata": {},
          "execution_count": 83
        }
      ]
    },
    {
      "cell_type": "code",
      "source": [
        "# Capitalize the word given\n",
        "word = \"word\"\n",
        "query = word.capitalize()\n",
        "query"
      ],
      "metadata": {
        "colab": {
          "base_uri": "https://localhost:8080/",
          "height": 35
        },
        "id": "2EtT8VzSlLsH",
        "outputId": "feb0b71f-ff95-4e7c-9ff0-cc12925abb9c"
      },
      "execution_count": 84,
      "outputs": [
        {
          "output_type": "execute_result",
          "data": {
            "text/plain": [
              "'Word'"
            ],
            "application/vnd.google.colaboratory.intrinsic+json": {
              "type": "string"
            }
          },
          "metadata": {},
          "execution_count": 84
        }
      ]
    },
    {
      "cell_type": "code",
      "source": [
        "# Checks if the input starts with the letter \"I\"\n",
        "query = text.startswith(\"I\")\n",
        "query"
      ],
      "metadata": {
        "colab": {
          "base_uri": "https://localhost:8080/"
        },
        "id": "qNsafR2AnKHI",
        "outputId": "0f5ac5ca-fd26-4267-e138-bd06ed7f9d95"
      },
      "execution_count": 85,
      "outputs": [
        {
          "output_type": "execute_result",
          "data": {
            "text/plain": [
              "True"
            ]
          },
          "metadata": {},
          "execution_count": 85
        }
      ]
    },
    {
      "cell_type": "code",
      "source": [
        "# Checks if the input ends with \".\"\n",
        "query = text.endswith(\".\")\n",
        "query"
      ],
      "metadata": {
        "colab": {
          "base_uri": "https://localhost:8080/"
        },
        "id": "UT5j4_2nn7HX",
        "outputId": "78c58721-421a-4917-d40a-a3930b625ab8"
      },
      "execution_count": 86,
      "outputs": [
        {
          "output_type": "execute_result",
          "data": {
            "text/plain": [
              "True"
            ]
          },
          "metadata": {},
          "execution_count": 86
        }
      ]
    },
    {
      "cell_type": "code",
      "source": [
        "# Makes all the letters uppercased\n",
        "query = text.upper()\n",
        "query"
      ],
      "metadata": {
        "colab": {
          "base_uri": "https://localhost:8080/",
          "height": 70
        },
        "id": "acEcbO5MoGVH",
        "outputId": "90f21c4e-1e37-4418-b9af-ac86e4b82bde"
      },
      "execution_count": 87,
      "outputs": [
        {
          "output_type": "execute_result",
          "data": {
            "text/plain": [
              "'I CAN ONLY COMMENT ON THE VERMICELLI BOWLS BECAUSE I HAVE NEVER HAD THE PHO. THE VERMICELLI ARE A DECENT SIZE AND A FAIR PRICE. CONVENIENTLY LOCATED IF YOU LIVE IN THE ALBERTA AVE NEIGHBOURHOOD, MY ORDERS HAVE ALWAYS BEEN READY IN 15 MINUTES - EVEN ON A FRIDAY NIGHT.'"
            ],
            "application/vnd.google.colaboratory.intrinsic+json": {
              "type": "string"
            }
          },
          "metadata": {},
          "execution_count": 87
        }
      ]
    },
    {
      "cell_type": "code",
      "source": [
        "# Makes all the letters lowercased\n",
        "query = text.lower()\n",
        "query"
      ],
      "metadata": {
        "colab": {
          "base_uri": "https://localhost:8080/",
          "height": 70
        },
        "id": "JxoL5mYzornw",
        "outputId": "5bb11e4b-2a78-49f8-a2e2-240f93b4a227"
      },
      "execution_count": 88,
      "outputs": [
        {
          "output_type": "execute_result",
          "data": {
            "text/plain": [
              "'i can only comment on the vermicelli bowls because i have never had the pho. the vermicelli are a decent size and a fair price. conveniently located if you live in the alberta ave neighbourhood, my orders have always been ready in 15 minutes - even on a friday night.'"
            ],
            "application/vnd.google.colaboratory.intrinsic+json": {
              "type": "string"
            }
          },
          "metadata": {},
          "execution_count": 88
        }
      ]
    },
    {
      "cell_type": "code",
      "source": [
        "# Replaces the first input with the second one\n",
        "query = text.replace(\"I\", \"You\")\n",
        "query"
      ],
      "metadata": {
        "colab": {
          "base_uri": "https://localhost:8080/",
          "height": 70
        },
        "id": "-zcQKvttrAiR",
        "outputId": "42ebcc8f-ad49-4394-f543-1592065f13ea"
      },
      "execution_count": 89,
      "outputs": [
        {
          "output_type": "execute_result",
          "data": {
            "text/plain": [
              "'You can only comment on the vermicelli bowls because You have never had the Pho. The vermicelli are a decent size and a fair price. Conveniently located if you live in the Alberta Ave neighbourhood, my orders have always been ready in 15 minutes - even on a Friday night.'"
            ],
            "application/vnd.google.colaboratory.intrinsic+json": {
              "type": "string"
            }
          },
          "metadata": {},
          "execution_count": 89
        }
      ]
    },
    {
      "cell_type": "code",
      "source": [
        "# Splits a string based on the input given and returns a list ( the default input is space )\n",
        "query = text.split()\n",
        "query"
      ],
      "metadata": {
        "colab": {
          "base_uri": "https://localhost:8080/"
        },
        "id": "z2F-dFw2sdqs",
        "outputId": "ec073c49-a016-4d37-e017-fcb16c45f992"
      },
      "execution_count": 90,
      "outputs": [
        {
          "output_type": "execute_result",
          "data": {
            "text/plain": [
              "['I',\n",
              " 'can',\n",
              " 'only',\n",
              " 'comment',\n",
              " 'on',\n",
              " 'the',\n",
              " 'vermicelli',\n",
              " 'bowls',\n",
              " 'because',\n",
              " 'I',\n",
              " 'have',\n",
              " 'never',\n",
              " 'had',\n",
              " 'the',\n",
              " 'Pho.',\n",
              " 'The',\n",
              " 'vermicelli',\n",
              " 'are',\n",
              " 'a',\n",
              " 'decent',\n",
              " 'size',\n",
              " 'and',\n",
              " 'a',\n",
              " 'fair',\n",
              " 'price.',\n",
              " 'Conveniently',\n",
              " 'located',\n",
              " 'if',\n",
              " 'you',\n",
              " 'live',\n",
              " 'in',\n",
              " 'the',\n",
              " 'Alberta',\n",
              " 'Ave',\n",
              " 'neighbourhood,',\n",
              " 'my',\n",
              " 'orders',\n",
              " 'have',\n",
              " 'always',\n",
              " 'been',\n",
              " 'ready',\n",
              " 'in',\n",
              " '15',\n",
              " 'minutes',\n",
              " '-',\n",
              " 'even',\n",
              " 'on',\n",
              " 'a',\n",
              " 'Friday',\n",
              " 'night.']"
            ]
          },
          "metadata": {},
          "execution_count": 90
        }
      ]
    },
    {
      "cell_type": "code",
      "source": [
        "# Remove extra whitespaces from the start and from the end\n",
        "word = \"  word  \"\n",
        "query = word.strip()\n",
        "query"
      ],
      "metadata": {
        "colab": {
          "base_uri": "https://localhost:8080/",
          "height": 35
        },
        "id": "YaQIt7KK3Q9K",
        "outputId": "5ffc350f-1d9e-4dc8-eeb8-5457e9f847cd"
      },
      "execution_count": 91,
      "outputs": [
        {
          "output_type": "execute_result",
          "data": {
            "text/plain": [
              "'word'"
            ],
            "application/vnd.google.colaboratory.intrinsic+json": {
              "type": "string"
            }
          },
          "metadata": {},
          "execution_count": 91
        }
      ]
    },
    {
      "cell_type": "markdown",
      "source": [
        "reference: https://www.w3schools.com/python/python_strings.asp"
      ],
      "metadata": {
        "id": "aQr5kV3lXBEO"
      }
    },
    {
      "cell_type": "markdown",
      "source": [
        "## 1. Tokenization\n",
        "Tokenizers divide strings into lists of substrings. They can be used to break a large text body down to sentences, groups of words, single words or even just groups of characters or subwords. Tokenization is a common step used to help prepare language data for further use. There are several ways and methods available to tokenize data.\n",
        "\n",
        "reference: https://medium.com/@kelsklane/tokenization-with-nltk-52cd7b88c7d"
      ],
      "metadata": {
        "id": "hDxVzV1jU4nX"
      }
    },
    {
      "cell_type": "code",
      "source": [
        "# Downloads the Punkt sentence tokenization models\n",
        "nltk.download('punkt')"
      ],
      "metadata": {
        "colab": {
          "base_uri": "https://localhost:8080/"
        },
        "id": "pLXmCspBV1yh",
        "outputId": "8f13bac4-48dc-4ebe-b4a6-e2dc5fc60374"
      },
      "execution_count": 92,
      "outputs": [
        {
          "output_type": "stream",
          "name": "stderr",
          "text": [
            "[nltk_data] Downloading package punkt to /root/nltk_data...\n",
            "[nltk_data]   Package punkt is already up-to-date!\n"
          ]
        },
        {
          "output_type": "execute_result",
          "data": {
            "text/plain": [
              "True"
            ]
          },
          "metadata": {},
          "execution_count": 92
        }
      ]
    },
    {
      "cell_type": "code",
      "source": [
        "# Imports the tokenizer functions needed\n",
        "from nltk.tokenize import sent_tokenize, word_tokenize, wordpunct_tokenize, WhitespaceTokenizer, regexp_tokenize"
      ],
      "metadata": {
        "id": "oJaYgXWbVQQU"
      },
      "execution_count": 93,
      "outputs": []
    },
    {
      "cell_type": "code",
      "source": [
        "text2 = \"Good muffins cost $3.88\\nin New York.  Please buy me two of them.\\n\\nThanks.\""
      ],
      "metadata": {
        "id": "3Ptpi9I1kedK"
      },
      "execution_count": 94,
      "outputs": []
    },
    {
      "cell_type": "code",
      "source": [
        "# Tokenizes a string by sentences\n",
        "sent_tokenize(text2)"
      ],
      "metadata": {
        "colab": {
          "base_uri": "https://localhost:8080/"
        },
        "id": "JstDiOaJVt3E",
        "outputId": "811bad03-e82a-44d6-e157-c3d510146f85"
      },
      "execution_count": 95,
      "outputs": [
        {
          "output_type": "execute_result",
          "data": {
            "text/plain": [
              "['Good muffins cost $3.88\\nin New York.',\n",
              " 'Please buy me two of them.',\n",
              " 'Thanks.']"
            ]
          },
          "metadata": {},
          "execution_count": 95
        }
      ]
    },
    {
      "cell_type": "code",
      "source": [
        "# Tokenizes a string by words\n",
        "word_tokenize(text2)"
      ],
      "metadata": {
        "colab": {
          "base_uri": "https://localhost:8080/"
        },
        "id": "_Wd0ke71V6yn",
        "outputId": "d7b95c2b-180f-42e2-e807-03524414c51a"
      },
      "execution_count": 96,
      "outputs": [
        {
          "output_type": "execute_result",
          "data": {
            "text/plain": [
              "['Good',\n",
              " 'muffins',\n",
              " 'cost',\n",
              " '$',\n",
              " '3.88',\n",
              " 'in',\n",
              " 'New',\n",
              " 'York',\n",
              " '.',\n",
              " 'Please',\n",
              " 'buy',\n",
              " 'me',\n",
              " 'two',\n",
              " 'of',\n",
              " 'them',\n",
              " '.',\n",
              " 'Thanks',\n",
              " '.']"
            ]
          },
          "metadata": {},
          "execution_count": 96
        }
      ]
    },
    {
      "cell_type": "code",
      "source": [
        "# Tokenizes a string by words and panctuations\n",
        "wordpunct_tokenize(text2)"
      ],
      "metadata": {
        "colab": {
          "base_uri": "https://localhost:8080/"
        },
        "id": "vZge8w8i8ujy",
        "outputId": "b59fa1c5-027c-4e47-9024-f07eb549e6d7"
      },
      "execution_count": 97,
      "outputs": [
        {
          "output_type": "execute_result",
          "data": {
            "text/plain": [
              "['Good',\n",
              " 'muffins',\n",
              " 'cost',\n",
              " '$',\n",
              " '3',\n",
              " '.',\n",
              " '88',\n",
              " 'in',\n",
              " 'New',\n",
              " 'York',\n",
              " '.',\n",
              " 'Please',\n",
              " 'buy',\n",
              " 'me',\n",
              " 'two',\n",
              " 'of',\n",
              " 'them',\n",
              " '.',\n",
              " 'Thanks',\n",
              " '.']"
            ]
          },
          "metadata": {},
          "execution_count": 97
        }
      ]
    },
    {
      "cell_type": "code",
      "source": [
        "# Tokenizes a string by whitespace ( space, tab, newline )\n",
        "WhitespaceTokenizer().tokenize(text2)"
      ],
      "metadata": {
        "colab": {
          "base_uri": "https://localhost:8080/"
        },
        "id": "8mWnGFrd8wxK",
        "outputId": "14033e8b-fae3-4774-c849-d23173eb4bde"
      },
      "execution_count": 98,
      "outputs": [
        {
          "output_type": "execute_result",
          "data": {
            "text/plain": [
              "['Good',\n",
              " 'muffins',\n",
              " 'cost',\n",
              " '$3.88',\n",
              " 'in',\n",
              " 'New',\n",
              " 'York.',\n",
              " 'Please',\n",
              " 'buy',\n",
              " 'me',\n",
              " 'two',\n",
              " 'of',\n",
              " 'them.',\n",
              " 'Thanks.']"
            ]
          },
          "metadata": {},
          "execution_count": 98
        }
      ]
    },
    {
      "cell_type": "code",
      "source": [
        "# Tokenizes a string by using regex inputs ( in this case it tokenizes the words that are capitalized )\n",
        "regexp_tokenize(text2, '[A-Z]\\w+')"
      ],
      "metadata": {
        "colab": {
          "base_uri": "https://localhost:8080/"
        },
        "id": "tbsRGGIedCjZ",
        "outputId": "5a20f926-8c30-45ae-bbe7-ca698a40bedf"
      },
      "execution_count": 99,
      "outputs": [
        {
          "output_type": "execute_result",
          "data": {
            "text/plain": [
              "['Good', 'New', 'York', 'Please', 'Thanks']"
            ]
          },
          "metadata": {},
          "execution_count": 99
        }
      ]
    },
    {
      "cell_type": "markdown",
      "source": [
        "reference: https://www.nltk.org/api/nltk.tokenize.html"
      ],
      "metadata": {
        "id": "H7wCGsosWdH-"
      }
    }
  ]
}